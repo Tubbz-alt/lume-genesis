{
 "cells": [
  {
   "cell_type": "markdown",
   "metadata": {},
   "source": [
    "# Parsing original Genesis lattice into a standard lattice"
   ]
  },
  {
   "cell_type": "code",
   "execution_count": 1,
   "metadata": {},
   "outputs": [],
   "source": [
    "from genesis import parsers, lattice"
   ]
  },
  {
   "cell_type": "code",
   "execution_count": 2,
   "metadata": {},
   "outputs": [
    {
     "data": {
      "text/plain": [
       "{'version': 1, 'unitlength': 0.03}"
      ]
     },
     "execution_count": 2,
     "metadata": {},
     "output_type": "execute_result"
    }
   ],
   "source": [
    "# Read a raw genesis-style lattice as elements and parameters\n",
    "genesis_lat = 'data/lcls.lat'\n",
    "glat, params = parsers.parse_genesis_lattice(genesis_lat)\n",
    "params"
   ]
  },
  {
   "cell_type": "code",
   "execution_count": 3,
   "metadata": {},
   "outputs": [
    {
     "data": {
      "text/plain": [
       "[{'type': 'AW', 'strength': 2.4749, 'L': 112.0, 's': 112.0},\n",
       " {'type': 'QF', 'strength': -17.5, 'L': 8.0, 's': 128.0},\n",
       " {'type': 'AW', 'strength': 2.4749, 'L': 112.0, 's': 240.0},\n",
       " {'type': 'QF', 'strength': 17.5, 'L': 8.0, 's': 256.0},\n",
       " {'type': 'AW', 'strength': 2.4749, 'L': 112.0, 's': 384.0},\n",
       " {'type': 'QF', 'strength': -17.5, 'L': 8.0, 's': 400.0},\n",
       " {'type': 'AW', 'strength': 2.4749, 'L': 112.0, 's': 512.0},\n",
       " {'type': 'QF', 'strength': 17.5, 'L': 8.0, 's': 528.0},\n",
       " {'type': 'AW', 'strength': 2.4749, 'L': 112.0, 's': 640.0},\n",
       " {'type': 'QF', 'strength': -17.5, 'L': 8.0, 's': 656.0}]"
      ]
     },
     "execution_count": 3,
     "metadata": {},
     "output_type": "execute_result"
    }
   ],
   "source": [
    "# Form a standard lattice from these\n",
    "lat = lattice.standard_lattice_from_eles(glat)\n",
    "lat[:10]"
   ]
  },
  {
   "cell_type": "code",
   "execution_count": 4,
   "metadata": {},
   "outputs": [
    {
     "data": {
      "text/plain": [
       "[{'type': 'AW', 'strength': 2.4749, 'L': 112.0, 's': 112.0, 'name': 'AW_1'},\n",
       " {'type': 'QF', 'strength': -17.5, 'L': 8.0, 's': 128.0, 'name': 'QF_1'},\n",
       " {'type': 'AW', 'strength': 2.4749, 'L': 112.0, 's': 240.0, 'name': 'AW_2'},\n",
       " {'type': 'QF', 'strength': 17.5, 'L': 8.0, 's': 256.0, 'name': 'QF_2'},\n",
       " {'type': 'AW', 'strength': 2.4749, 'L': 112.0, 's': 384.0, 'name': 'AW_3'},\n",
       " {'type': 'QF', 'strength': -17.5, 'L': 8.0, 's': 400.0, 'name': 'QF_3'},\n",
       " {'type': 'AW', 'strength': 2.4749, 'L': 112.0, 's': 512.0, 'name': 'AW_4'},\n",
       " {'type': 'QF', 'strength': 17.5, 'L': 8.0, 's': 528.0, 'name': 'QF_4'},\n",
       " {'type': 'AW', 'strength': 2.4749, 'L': 112.0, 's': 640.0, 'name': 'AW_5'},\n",
       " {'type': 'QF', 'strength': -17.5, 'L': 8.0, 's': 656.0, 'name': 'QF_5'}]"
      ]
     },
     "execution_count": 4,
     "metadata": {},
     "output_type": "execute_result"
    }
   ],
   "source": [
    "# Invent names for these \n",
    "lattice.create_names(lat)\n",
    "lat[:10]"
   ]
  },
  {
   "cell_type": "code",
   "execution_count": 5,
   "metadata": {},
   "outputs": [
    {
     "name": "stdout",
     "output_type": "stream",
     "text": [
      "5600.0\n"
     ]
    },
    {
     "data": {
      "text/plain": [
       "['? VERSION = 1.0',\n",
       " '? UNITLENGTH = 0.03 # meters',\n",
       " '',\n",
       " '#------------',\n",
       " '# QF',\n",
       " 'QF -17.5 8.0 120.0',\n",
       " 'QF 0 120.0 0.0',\n",
       " 'QF 17.5 8.0 0.0',\n",
       " 'QF 0 136.0 0.0',\n",
       " 'QF -17.5 8.0 0.0',\n",
       " 'QF 0 120.0 0.0',\n",
       " 'QF 17.5 8.0 0.0',\n",
       " 'QF 0 120.0 0.0',\n",
       " 'QF -17.5 8.0 0.0',\n",
       " 'QF 0 136.0 0.0',\n",
       " 'QF 17.5 8.0 0.0',\n",
       " 'QF 0 120.0 0.0',\n",
       " 'QF -17.5 8.0 0.0',\n",
       " 'QF 0 120.0 0.0',\n",
       " 'QF 17.5 8.0 0.0',\n",
       " 'QF 0 136.0 0.0',\n",
       " 'QF -17.5 8.0 0.0',\n",
       " 'QF 0 120.0 0.0',\n",
       " 'QF 17.5 8.0 0.0',\n",
       " 'QF 0 120.0 0.0',\n",
       " 'QF -17.5 8.0 0.0',\n",
       " 'QF 0 136.0 0.0',\n",
       " 'QF 17.5 8.0 0.0',\n",
       " 'QF 0 120.0 0.0',\n",
       " 'QF -17.5 8.0 0.0',\n",
       " 'QF 0 120.0 0.0',\n",
       " 'QF 17.5 8.0 0.0',\n",
       " 'QF 0 136.0 0.0',\n",
       " 'QF -17.5 8.0 0.0',\n",
       " 'QF 0 120.0 0.0',\n",
       " 'QF 17.5 8.0 0.0',\n",
       " 'QF 0 120.0 0.0',\n",
       " 'QF -17.5 8.0 0.0',\n",
       " 'QF 0 136.0 0.0',\n",
       " 'QF 17.5 8.0 0.0',\n",
       " 'QF 0 120.0 0.0',\n",
       " 'QF -17.5 8.0 0.0',\n",
       " 'QF 0 120.0 0.0',\n",
       " 'QF 17.5 8.0 0.0',\n",
       " 'QF 0 136.0 0.0',\n",
       " 'QF -17.5 8.0 0.0',\n",
       " 'QF 0 120.0 0.0',\n",
       " 'QF 17.5 8.0 0.0',\n",
       " 'QF 0 120.0 0.0',\n",
       " 'QF -17.5 8.0 0.0',\n",
       " 'QF 0 136.0 0.0',\n",
       " 'QF 17.5 8.0 0.0',\n",
       " 'QF 0 120.0 0.0',\n",
       " 'QF -17.5 8.0 0.0',\n",
       " 'QF 0 120.0 0.0',\n",
       " 'QF 17.5 8.0 0.0',\n",
       " 'QF 0 136.0 0.0',\n",
       " 'QF -17.5 8.0 0.0',\n",
       " 'QF 0 120.0 0.0',\n",
       " 'QF 17.5 8.0 0.0',\n",
       " 'QF 0 120.0 0.0',\n",
       " 'QF -17.5 8.0 0.0',\n",
       " 'QF 0 136.0 0.0',\n",
       " 'QF 17.5 8.0 0.0',\n",
       " 'QF 0 120.0 0.0',\n",
       " 'QF -17.5 8.0 0.0',\n",
       " 'QF 0 120.0 0.0',\n",
       " 'QF 17.5 8.0 0.0',\n",
       " 'QF 0 136.0 0.0',\n",
       " 'QF -17.5 8.0 0.0',\n",
       " 'QF 0 120.0 0.0',\n",
       " 'QF 17.5 8.0 0.0',\n",
       " 'QF 0 120.0 0.0',\n",
       " 'QF -17.5 8.0 0.0',\n",
       " 'QF 0 136.0 0.0',\n",
       " 'QF 17.5 8.0 0.0',\n",
       " 'QF 0 120.0 0.0',\n",
       " 'QF -17.5 8.0 0.0',\n",
       " 'QF 0 120.0 0.0',\n",
       " 'QF 17.5 8.0 0.0',\n",
       " 'QF 0 136.0 0.0',\n",
       " 'QF -17.5 8.0 0.0',\n",
       " 'QF 0 120.0 0.0',\n",
       " 'QF 17.5 8.0 0.0',\n",
       " 'QF 0 120.0 0.0',\n",
       " 'QF -17.5 8.0 0.0',\n",
       " 'QF 0 136.0 0.0',\n",
       " 'QF 17.5 8.0 0.0',\n",
       " '',\n",
       " '#------------',\n",
       " '# AW',\n",
       " 'AW 2.4749 112.0 0.0',\n",
       " 'AW 0 16.0 0.0',\n",
       " 'AW 2.4749 112.0 0.0',\n",
       " 'AW 0 32.0 0.0',\n",
       " 'AW 2.4749 112.0 0.0',\n",
       " 'AW 0 16.0 0.0',\n",
       " 'AW 2.4749 112.0 0.0',\n",
       " 'AW 0 16.0 0.0',\n",
       " 'AW 2.4749 112.0 0.0',\n",
       " 'AW 0 32.0 0.0',\n",
       " 'AW 2.4749 112.0 0.0',\n",
       " 'AW 0 16.0 0.0',\n",
       " 'AW 2.4749 112.0 0.0',\n",
       " 'AW 0 16.0 0.0',\n",
       " 'AW 2.4749 112.0 0.0',\n",
       " 'AW 0 32.0 0.0',\n",
       " 'AW 2.4749 112.0 0.0',\n",
       " 'AW 0 16.0 0.0',\n",
       " 'AW 2.4749 112.0 0.0',\n",
       " 'AW 0 16.0 0.0',\n",
       " 'AW 2.4749 112.0 0.0',\n",
       " 'AW 0 32.0 0.0',\n",
       " 'AW 2.4749 112.0 0.0',\n",
       " 'AW 0 16.0 0.0',\n",
       " 'AW 2.4749 112.0 0.0',\n",
       " 'AW 0 16.0 0.0',\n",
       " 'AW 2.4749 112.0 0.0',\n",
       " 'AW 0 32.0 0.0',\n",
       " 'AW 2.4749 112.0 0.0',\n",
       " 'AW 0 16.0 0.0',\n",
       " 'AW 2.4749 112.0 0.0',\n",
       " 'AW 0 16.0 0.0',\n",
       " 'AW 2.4749 112.0 0.0',\n",
       " 'AW 0 32.0 0.0',\n",
       " 'AW 2.4749 112.0 0.0',\n",
       " 'AW 0 16.0 0.0',\n",
       " 'AW 2.4749 112.0 0.0',\n",
       " 'AW 0 16.0 0.0',\n",
       " 'AW 2.4749 112.0 0.0',\n",
       " 'AW 0 32.0 0.0',\n",
       " 'AW 2.4749 112.0 0.0',\n",
       " 'AW 0 16.0 0.0',\n",
       " 'AW 2.4749 112.0 0.0',\n",
       " 'AW 0 16.0 0.0',\n",
       " 'AW 2.4749 112.0 0.0',\n",
       " 'AW 0 32.0 0.0',\n",
       " 'AW 2.4749 112.0 0.0',\n",
       " 'AW 0 16.0 0.0',\n",
       " 'AW 2.4749 112.0 0.0',\n",
       " 'AW 0 16.0 0.0',\n",
       " 'AW 2.4749 112.0 0.0',\n",
       " 'AW 0 32.0 0.0',\n",
       " 'AW 2.4749 112.0 0.0',\n",
       " 'AW 0 16.0 0.0',\n",
       " 'AW 2.4749 112.0 0.0',\n",
       " 'AW 0 16.0 0.0',\n",
       " 'AW 2.4749 112.0 0.0',\n",
       " 'AW 0 32.0 0.0',\n",
       " 'AW 2.4749 112.0 0.0',\n",
       " 'AW 0 16.0 0.0',\n",
       " 'AW 2.4749 112.0 0.0',\n",
       " 'AW 0 16.0 0.0',\n",
       " 'AW 2.4749 112.0 0.0',\n",
       " 'AW 0 32.0 0.0',\n",
       " 'AW 2.4749 112.0 0.0',\n",
       " 'AW 0 16.0 0.0',\n",
       " 'AW 2.4749 112.0 0.0',\n",
       " 'AW 0 16.0 0.0',\n",
       " 'AW 2.4749 112.0 0.0',\n",
       " 'AW 0 32.0 0.0',\n",
       " 'AW 2.4749 112.0 0.0',\n",
       " 'AW 0 16.0 0.0',\n",
       " 'AW 2.4749 112.0 0.0',\n",
       " 'AW 0 688.0 0.0']"
      ]
     },
     "execution_count": 5,
     "metadata": {},
     "output_type": "execute_result"
    }
   ],
   "source": [
    "# Form original Genesis lattice\n",
    "lattice.genesis_lattice_from_standard_lattice(lat, unitlength = params['unitlength'])"
   ]
  },
  {
   "cell_type": "code",
   "execution_count": null,
   "metadata": {},
   "outputs": [],
   "source": []
  }
 ],
 "metadata": {
  "kernelspec": {
   "display_name": "Python 3",
   "language": "python",
   "name": "python3"
  },
  "language_info": {
   "codemirror_mode": {
    "name": "ipython",
    "version": 3
   },
   "file_extension": ".py",
   "mimetype": "text/x-python",
   "name": "python",
   "nbconvert_exporter": "python",
   "pygments_lexer": "ipython3",
   "version": "3.7.3"
  }
 },
 "nbformat": 4,
 "nbformat_minor": 2
}
