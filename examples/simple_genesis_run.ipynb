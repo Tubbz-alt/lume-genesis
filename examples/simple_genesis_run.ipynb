{
 "cells": [
  {
   "cell_type": "code",
   "execution_count": 1,
   "metadata": {},
   "outputs": [],
   "source": [
    "from genesis import genesis_tools\n",
    "%matplotlib inline\n",
    "\n",
    "import matplotlib.pyplot as plt\n",
    "plt.rcParams['figure.figsize'] = [8,8]\n",
    "import numpy as np\n",
    "import os\n",
    "import time"
   ]
  },
  {
   "cell_type": "code",
   "execution_count": 2,
   "metadata": {},
   "outputs": [],
   "source": [
    "# Point to my genesis binary, working directory\n",
    "params = {'genesis_bin':os.path.expandvars('$HOME/Code/genesis/work/'),\n",
    "    'genesis_bin':os.path.expandvars('$HOME/Code/genesis/bin/genesis'),\n",
    "    }"
   ]
  },
  {
   "cell_type": "code",
   "execution_count": 3,
   "metadata": {},
   "outputs": [
    {
     "data": {
      "text/plain": [
       "'/Users/chrisonian/work/genesis_run_mihpX7IIYl/'"
      ]
     },
     "execution_count": 3,
     "metadata": {},
     "output_type": "execute_result"
    }
   ],
   "source": [
    "g = genesis_tools.Genesis(**params)\n",
    "g.sim_path"
   ]
  },
  {
   "cell_type": "code",
   "execution_count": 4,
   "metadata": {},
   "outputs": [
    {
     "data": {
      "text/plain": [
       "251"
      ]
     },
     "execution_count": 4,
     "metadata": {},
     "output_type": "execute_result"
    }
   ],
   "source": [
    "# Turn on field output\n",
    "g.input_params['idmpfld'] = 1\n",
    "# Turn on particle output\n",
    "g.input_params['idmppar'] = 1\n",
    "g.input_params['npart'] = 2048\n",
    "\n",
    "# Turn on history\n",
    "g.input_params['ippart'] = 10\n",
    "g.input_params['ipradi'] = 0\n",
    "g.input_params['ncar']"
   ]
  },
  {
   "cell_type": "code",
   "execution_count": 5,
   "metadata": {},
   "outputs": [
    {
     "name": "stdout",
     "output_type": "stream",
     "text": [
      "init dir:  /Users/chrisonian/Code/GitHub/lume-genesis/examples\n",
      "running genesis in /Users/chrisonian/work/genesis_run_mihpX7IIYl\n",
      "Genesis.write_lattice - WARNING: ran out of quads for lattice...\n",
      "-------------------------------\n",
      "Genesis 1.3 has begun execution\n",
      "(Version 1.0 Unix)\n",
      "\n",
      "Please enter input file name \n",
      "***  Warning: external magnet definition too short for  quadrupole field             \n",
      "***  Warning: Size of particle file [Mbytes]:  14     \n",
      "Slice     1: Simulation  10% completed.\n",
      "Slice     1: Simulation  20% completed.\n",
      "Slice     1: Simulation  30% completed.\n",
      "Slice     1: Simulation  40% completed.\n",
      "Slice     1: Simulation  50% completed.\n",
      "Slice     1: Simulation  60% completed.\n",
      "Slice     1: Simulation  70% completed.\n",
      "Slice     1: Simulation  80% completed.\n",
      "Slice     1: Simulation  90% completed.\n",
      "Slice     1: Simulation 100% completed.\n",
      "***  writing history record for slice     1\n",
      "***  closing files\n",
      "\n",
      "Genesis run has finished\n",
      "------------------------\n"
     ]
    }
   ],
   "source": [
    "#f.clean()\n",
    "g.run_genesis()"
   ]
  },
  {
   "cell_type": "code",
   "execution_count": 6,
   "metadata": {},
   "outputs": [
    {
     "data": {
      "text/plain": [
       "['/Users/chrisonian/work/genesis_run_mihpX7IIYl/',\n",
       " '/Users/chrisonian/Code/genesis/bin/genesis']"
      ]
     },
     "execution_count": 6,
     "metadata": {},
     "output_type": "execute_result"
    }
   ],
   "source": [
    "[g.sim_path,\n",
    "    g.genesis_bin]"
   ]
  },
  {
   "cell_type": "code",
   "execution_count": 7,
   "metadata": {},
   "outputs": [
    {
     "name": "stdout",
     "output_type": "stream",
     "text": [
      "total 34408\n",
      "drwxr-xr-x  9 chrisonian  staff   288B Aug 31 10:21 \u001b[34m.\u001b[m\u001b[m\n",
      "drwxr-xr-x  3 chrisonian  staff    96B Aug 31 10:21 \u001b[34m..\u001b[m\u001b[m\n",
      "-rw-r--r--  1 chrisonian  staff   2.0K Aug 31 10:21 genesis.in\n",
      "-rw-r--r--  1 chrisonian  staff   640B Aug 31 10:21 genesis.lat\n",
      "-rw-r--r--  1 chrisonian  staff   769B Aug 31 10:21 genesis.log\n",
      "-rw-r--r--  1 chrisonian  staff   370K Aug 31 10:21 genesis.out\n",
      "-rw-r--r--  1 chrisonian  staff   984K Aug 31 10:21 genesis.out.dfl\n",
      "-rw-r--r--  1 chrisonian  staff    96K Aug 31 10:21 genesis.out.dpa\n",
      "-rw-r--r--  1 chrisonian  staff    15M Aug 31 10:21 genesis.out.par\n"
     ]
    }
   ],
   "source": [
    "!ls -ahl {g.sim_path}"
   ]
  },
  {
   "cell_type": "code",
   "execution_count": 8,
   "metadata": {},
   "outputs": [
    {
     "data": {
      "text/plain": [
       "'/Users/chrisonian/work/genesis_run_mihpX7IIYl'"
      ]
     },
     "execution_count": 8,
     "metadata": {},
     "output_type": "execute_result"
    }
   ],
   "source": [
    "# Change dir for convenience\n",
    "os.chdir(g.sim_path)\n",
    "os.getcwd()"
   ]
  },
  {
   "cell_type": "code",
   "execution_count": 9,
   "metadata": {},
   "outputs": [],
   "source": [
    "dat = g.read_output(column=0)"
   ]
  },
  {
   "cell_type": "code",
   "execution_count": 10,
   "metadata": {},
   "outputs": [
    {
     "data": {
      "application/javascript": [
       "\n",
       "(function(root) {\n",
       "  function now() {\n",
       "    return new Date();\n",
       "  }\n",
       "\n",
       "  var force = true;\n",
       "\n",
       "  if (typeof (root._bokeh_onload_callbacks) === \"undefined\" || force === true) {\n",
       "    root._bokeh_onload_callbacks = [];\n",
       "    root._bokeh_is_loading = undefined;\n",
       "  }\n",
       "\n",
       "  var JS_MIME_TYPE = 'application/javascript';\n",
       "  var HTML_MIME_TYPE = 'text/html';\n",
       "  var EXEC_MIME_TYPE = 'application/vnd.bokehjs_exec.v0+json';\n",
       "  var CLASS_NAME = 'output_bokeh rendered_html';\n",
       "\n",
       "  /**\n",
       "   * Render data to the DOM node\n",
       "   */\n",
       "  function render(props, node) {\n",
       "    var script = document.createElement(\"script\");\n",
       "    node.appendChild(script);\n",
       "  }\n",
       "\n",
       "  /**\n",
       "   * Handle when an output is cleared or removed\n",
       "   */\n",
       "  function handleClearOutput(event, handle) {\n",
       "    var cell = handle.cell;\n",
       "\n",
       "    var id = cell.output_area._bokeh_element_id;\n",
       "    var server_id = cell.output_area._bokeh_server_id;\n",
       "    // Clean up Bokeh references\n",
       "    if (id !== undefined) {\n",
       "      Bokeh.index[id].model.document.clear();\n",
       "      delete Bokeh.index[id];\n",
       "    }\n",
       "\n",
       "    if (server_id !== undefined) {\n",
       "      // Clean up Bokeh references\n",
       "      var cmd = \"from bokeh.io.state import curstate; print(curstate().uuid_to_server['\" + server_id + \"'].get_sessions()[0].document.roots[0]._id)\";\n",
       "      cell.notebook.kernel.execute(cmd, {\n",
       "        iopub: {\n",
       "          output: function(msg) {\n",
       "            var element_id = msg.content.text.trim();\n",
       "            Bokeh.index[element_id].model.document.clear();\n",
       "            delete Bokeh.index[element_id];\n",
       "          }\n",
       "        }\n",
       "      });\n",
       "      // Destroy server and session\n",
       "      var cmd = \"import bokeh.io.notebook as ion; ion.destroy_server('\" + server_id + \"')\";\n",
       "      cell.notebook.kernel.execute(cmd);\n",
       "    }\n",
       "  }\n",
       "\n",
       "  /**\n",
       "   * Handle when a new output is added\n",
       "   */\n",
       "  function handleAddOutput(event, handle) {\n",
       "    var output_area = handle.output_area;\n",
       "    var output = handle.output;\n",
       "\n",
       "    // limit handleAddOutput to display_data with EXEC_MIME_TYPE content only\n",
       "    if ((output.output_type != \"display_data\") || (!output.data.hasOwnProperty(EXEC_MIME_TYPE))) {\n",
       "      return\n",
       "    }\n",
       "\n",
       "    var toinsert = output_area.element.find(\".\" + CLASS_NAME.split(' ')[0]);\n",
       "\n",
       "    if (output.metadata[EXEC_MIME_TYPE][\"id\"] !== undefined) {\n",
       "      toinsert[toinsert.length - 1].firstChild.textContent = output.data[JS_MIME_TYPE];\n",
       "      // store reference to embed id on output_area\n",
       "      output_area._bokeh_element_id = output.metadata[EXEC_MIME_TYPE][\"id\"];\n",
       "    }\n",
       "    if (output.metadata[EXEC_MIME_TYPE][\"server_id\"] !== undefined) {\n",
       "      var bk_div = document.createElement(\"div\");\n",
       "      bk_div.innerHTML = output.data[HTML_MIME_TYPE];\n",
       "      var script_attrs = bk_div.children[0].attributes;\n",
       "      for (var i = 0; i < script_attrs.length; i++) {\n",
       "        toinsert[toinsert.length - 1].firstChild.setAttribute(script_attrs[i].name, script_attrs[i].value);\n",
       "      }\n",
       "      // store reference to server id on output_area\n",
       "      output_area._bokeh_server_id = output.metadata[EXEC_MIME_TYPE][\"server_id\"];\n",
       "    }\n",
       "  }\n",
       "\n",
       "  function register_renderer(events, OutputArea) {\n",
       "\n",
       "    function append_mime(data, metadata, element) {\n",
       "      // create a DOM node to render to\n",
       "      var toinsert = this.create_output_subarea(\n",
       "        metadata,\n",
       "        CLASS_NAME,\n",
       "        EXEC_MIME_TYPE\n",
       "      );\n",
       "      this.keyboard_manager.register_events(toinsert);\n",
       "      // Render to node\n",
       "      var props = {data: data, metadata: metadata[EXEC_MIME_TYPE]};\n",
       "      render(props, toinsert[toinsert.length - 1]);\n",
       "      element.append(toinsert);\n",
       "      return toinsert\n",
       "    }\n",
       "\n",
       "    /* Handle when an output is cleared or removed */\n",
       "    events.on('clear_output.CodeCell', handleClearOutput);\n",
       "    events.on('delete.Cell', handleClearOutput);\n",
       "\n",
       "    /* Handle when a new output is added */\n",
       "    events.on('output_added.OutputArea', handleAddOutput);\n",
       "\n",
       "    /**\n",
       "     * Register the mime type and append_mime function with output_area\n",
       "     */\n",
       "    OutputArea.prototype.register_mime_type(EXEC_MIME_TYPE, append_mime, {\n",
       "      /* Is output safe? */\n",
       "      safe: true,\n",
       "      /* Index of renderer in `output_area.display_order` */\n",
       "      index: 0\n",
       "    });\n",
       "  }\n",
       "\n",
       "  // register the mime type if in Jupyter Notebook environment and previously unregistered\n",
       "  if (root.Jupyter !== undefined) {\n",
       "    var events = require('base/js/events');\n",
       "    var OutputArea = require('notebook/js/outputarea').OutputArea;\n",
       "\n",
       "    if (OutputArea.prototype.mime_types().indexOf(EXEC_MIME_TYPE) == -1) {\n",
       "      register_renderer(events, OutputArea);\n",
       "    }\n",
       "  }\n",
       "\n",
       "  \n",
       "  if (typeof (root._bokeh_timeout) === \"undefined\" || force === true) {\n",
       "    root._bokeh_timeout = Date.now() + 5000;\n",
       "    root._bokeh_failed_load = false;\n",
       "  }\n",
       "\n",
       "  var NB_LOAD_WARNING = {'data': {'text/html':\n",
       "     \"<div style='background-color: #fdd'>\\n\"+\n",
       "     \"<p>\\n\"+\n",
       "     \"BokehJS does not appear to have successfully loaded. If loading BokehJS from CDN, this \\n\"+\n",
       "     \"may be due to a slow or bad network connection. Possible fixes:\\n\"+\n",
       "     \"</p>\\n\"+\n",
       "     \"<ul>\\n\"+\n",
       "     \"<li>re-rerun `output_notebook()` to attempt to load from CDN again, or</li>\\n\"+\n",
       "     \"<li>use INLINE resources instead, as so:</li>\\n\"+\n",
       "     \"</ul>\\n\"+\n",
       "     \"<code>\\n\"+\n",
       "     \"from bokeh.resources import INLINE\\n\"+\n",
       "     \"output_notebook(resources=INLINE)\\n\"+\n",
       "     \"</code>\\n\"+\n",
       "     \"</div>\"}};\n",
       "\n",
       "  function display_loaded() {\n",
       "    var el = document.getElementById(null);\n",
       "    if (el != null) {\n",
       "      el.textContent = \"BokehJS is loading...\";\n",
       "    }\n",
       "    if (root.Bokeh !== undefined) {\n",
       "      if (el != null) {\n",
       "        el.textContent = \"BokehJS \" + root.Bokeh.version + \" successfully loaded.\";\n",
       "      }\n",
       "    } else if (Date.now() < root._bokeh_timeout) {\n",
       "      setTimeout(display_loaded, 100)\n",
       "    }\n",
       "  }\n",
       "\n",
       "\n",
       "  function run_callbacks() {\n",
       "    try {\n",
       "      root._bokeh_onload_callbacks.forEach(function(callback) { callback() });\n",
       "    }\n",
       "    finally {\n",
       "      delete root._bokeh_onload_callbacks\n",
       "    }\n",
       "    console.info(\"Bokeh: all callbacks have finished\");\n",
       "  }\n",
       "\n",
       "  function load_libs(js_urls, callback) {\n",
       "    root._bokeh_onload_callbacks.push(callback);\n",
       "    if (root._bokeh_is_loading > 0) {\n",
       "      console.log(\"Bokeh: BokehJS is being loaded, scheduling callback at\", now());\n",
       "      return null;\n",
       "    }\n",
       "    if (js_urls == null || js_urls.length === 0) {\n",
       "      run_callbacks();\n",
       "      return null;\n",
       "    }\n",
       "    console.log(\"Bokeh: BokehJS not loaded, scheduling load and callback at\", now());\n",
       "    root._bokeh_is_loading = js_urls.length;\n",
       "    for (var i = 0; i < js_urls.length; i++) {\n",
       "      var url = js_urls[i];\n",
       "      var s = document.createElement('script');\n",
       "      s.src = url;\n",
       "      s.async = false;\n",
       "      s.onreadystatechange = s.onload = function() {\n",
       "        root._bokeh_is_loading--;\n",
       "        if (root._bokeh_is_loading === 0) {\n",
       "          console.log(\"Bokeh: all BokehJS libraries loaded\");\n",
       "          run_callbacks()\n",
       "        }\n",
       "      };\n",
       "      s.onerror = function() {\n",
       "        console.warn(\"failed to load library \" + url);\n",
       "      };\n",
       "      console.log(\"Bokeh: injecting script tag for BokehJS library: \", url);\n",
       "      document.getElementsByTagName(\"head\")[0].appendChild(s);\n",
       "    }\n",
       "  };\n",
       "\n",
       "  var js_urls = [\"https://cdn.pydata.org/bokeh/release/bokeh-0.12.15.min.js\", \"https://cdn.pydata.org/bokeh/release/bokeh-widgets-0.12.15.min.js\", \"https://cdn.pydata.org/bokeh/release/bokeh-tables-0.12.15.min.js\", \"https://cdn.pydata.org/bokeh/release/bokeh-gl-0.12.15.min.js\"];\n",
       "\n",
       "  var inline_js = [\n",
       "    function(Bokeh) {\n",
       "      Bokeh.set_log_level(\"info\");\n",
       "    },\n",
       "    \n",
       "    function(Bokeh) {\n",
       "      \n",
       "    },\n",
       "    function(Bokeh) {\n",
       "      console.log(\"Bokeh: injecting CSS: https://cdn.pydata.org/bokeh/release/bokeh-0.12.15.min.css\");\n",
       "      Bokeh.embed.inject_css(\"https://cdn.pydata.org/bokeh/release/bokeh-0.12.15.min.css\");\n",
       "      console.log(\"Bokeh: injecting CSS: https://cdn.pydata.org/bokeh/release/bokeh-widgets-0.12.15.min.css\");\n",
       "      Bokeh.embed.inject_css(\"https://cdn.pydata.org/bokeh/release/bokeh-widgets-0.12.15.min.css\");\n",
       "      console.log(\"Bokeh: injecting CSS: https://cdn.pydata.org/bokeh/release/bokeh-tables-0.12.15.min.css\");\n",
       "      Bokeh.embed.inject_css(\"https://cdn.pydata.org/bokeh/release/bokeh-tables-0.12.15.min.css\");\n",
       "    }\n",
       "  ];\n",
       "\n",
       "  function run_inline_js() {\n",
       "    \n",
       "    if ((root.Bokeh !== undefined) || (force === true)) {\n",
       "      for (var i = 0; i < inline_js.length; i++) {\n",
       "        inline_js[i].call(root, root.Bokeh);\n",
       "      }} else if (Date.now() < root._bokeh_timeout) {\n",
       "      setTimeout(run_inline_js, 100);\n",
       "    } else if (!root._bokeh_failed_load) {\n",
       "      console.log(\"Bokeh: BokehJS failed to load within specified timeout.\");\n",
       "      root._bokeh_failed_load = true;\n",
       "    } else if (force !== true) {\n",
       "      var cell = $(document.getElementById(null)).parents('.cell').data().cell;\n",
       "      cell.output_area.append_execute_result(NB_LOAD_WARNING)\n",
       "    }\n",
       "\n",
       "  }\n",
       "\n",
       "  if (root._bokeh_is_loading === 0) {\n",
       "    console.log(\"Bokeh: BokehJS loaded, going straight to plotting\");\n",
       "    run_inline_js();\n",
       "  } else {\n",
       "    load_libs(js_urls, function() {\n",
       "      console.log(\"Bokeh: BokehJS plotting callback run at\", now());\n",
       "      run_inline_js();\n",
       "    });\n",
       "  }\n",
       "}(window));"
      ],
      "application/vnd.bokehjs_load.v0+json": "\n(function(root) {\n  function now() {\n    return new Date();\n  }\n\n  var force = true;\n\n  if (typeof (root._bokeh_onload_callbacks) === \"undefined\" || force === true) {\n    root._bokeh_onload_callbacks = [];\n    root._bokeh_is_loading = undefined;\n  }\n\n  \n\n  \n  if (typeof (root._bokeh_timeout) === \"undefined\" || force === true) {\n    root._bokeh_timeout = Date.now() + 5000;\n    root._bokeh_failed_load = false;\n  }\n\n  var NB_LOAD_WARNING = {'data': {'text/html':\n     \"<div style='background-color: #fdd'>\\n\"+\n     \"<p>\\n\"+\n     \"BokehJS does not appear to have successfully loaded. If loading BokehJS from CDN, this \\n\"+\n     \"may be due to a slow or bad network connection. Possible fixes:\\n\"+\n     \"</p>\\n\"+\n     \"<ul>\\n\"+\n     \"<li>re-rerun `output_notebook()` to attempt to load from CDN again, or</li>\\n\"+\n     \"<li>use INLINE resources instead, as so:</li>\\n\"+\n     \"</ul>\\n\"+\n     \"<code>\\n\"+\n     \"from bokeh.resources import INLINE\\n\"+\n     \"output_notebook(resources=INLINE)\\n\"+\n     \"</code>\\n\"+\n     \"</div>\"}};\n\n  function display_loaded() {\n    var el = document.getElementById(null);\n    if (el != null) {\n      el.textContent = \"BokehJS is loading...\";\n    }\n    if (root.Bokeh !== undefined) {\n      if (el != null) {\n        el.textContent = \"BokehJS \" + root.Bokeh.version + \" successfully loaded.\";\n      }\n    } else if (Date.now() < root._bokeh_timeout) {\n      setTimeout(display_loaded, 100)\n    }\n  }\n\n\n  function run_callbacks() {\n    try {\n      root._bokeh_onload_callbacks.forEach(function(callback) { callback() });\n    }\n    finally {\n      delete root._bokeh_onload_callbacks\n    }\n    console.info(\"Bokeh: all callbacks have finished\");\n  }\n\n  function load_libs(js_urls, callback) {\n    root._bokeh_onload_callbacks.push(callback);\n    if (root._bokeh_is_loading > 0) {\n      console.log(\"Bokeh: BokehJS is being loaded, scheduling callback at\", now());\n      return null;\n    }\n    if (js_urls == null || js_urls.length === 0) {\n      run_callbacks();\n      return null;\n    }\n    console.log(\"Bokeh: BokehJS not loaded, scheduling load and callback at\", now());\n    root._bokeh_is_loading = js_urls.length;\n    for (var i = 0; i < js_urls.length; i++) {\n      var url = js_urls[i];\n      var s = document.createElement('script');\n      s.src = url;\n      s.async = false;\n      s.onreadystatechange = s.onload = function() {\n        root._bokeh_is_loading--;\n        if (root._bokeh_is_loading === 0) {\n          console.log(\"Bokeh: all BokehJS libraries loaded\");\n          run_callbacks()\n        }\n      };\n      s.onerror = function() {\n        console.warn(\"failed to load library \" + url);\n      };\n      console.log(\"Bokeh: injecting script tag for BokehJS library: \", url);\n      document.getElementsByTagName(\"head\")[0].appendChild(s);\n    }\n  };\n\n  var js_urls = [\"https://cdn.pydata.org/bokeh/release/bokeh-0.12.15.min.js\", \"https://cdn.pydata.org/bokeh/release/bokeh-widgets-0.12.15.min.js\", \"https://cdn.pydata.org/bokeh/release/bokeh-tables-0.12.15.min.js\", \"https://cdn.pydata.org/bokeh/release/bokeh-gl-0.12.15.min.js\"];\n\n  var inline_js = [\n    function(Bokeh) {\n      Bokeh.set_log_level(\"info\");\n    },\n    \n    function(Bokeh) {\n      \n    },\n    function(Bokeh) {\n      console.log(\"Bokeh: injecting CSS: https://cdn.pydata.org/bokeh/release/bokeh-0.12.15.min.css\");\n      Bokeh.embed.inject_css(\"https://cdn.pydata.org/bokeh/release/bokeh-0.12.15.min.css\");\n      console.log(\"Bokeh: injecting CSS: https://cdn.pydata.org/bokeh/release/bokeh-widgets-0.12.15.min.css\");\n      Bokeh.embed.inject_css(\"https://cdn.pydata.org/bokeh/release/bokeh-widgets-0.12.15.min.css\");\n      console.log(\"Bokeh: injecting CSS: https://cdn.pydata.org/bokeh/release/bokeh-tables-0.12.15.min.css\");\n      Bokeh.embed.inject_css(\"https://cdn.pydata.org/bokeh/release/bokeh-tables-0.12.15.min.css\");\n    }\n  ];\n\n  function run_inline_js() {\n    \n    if ((root.Bokeh !== undefined) || (force === true)) {\n      for (var i = 0; i < inline_js.length; i++) {\n        inline_js[i].call(root, root.Bokeh);\n      }} else if (Date.now() < root._bokeh_timeout) {\n      setTimeout(run_inline_js, 100);\n    } else if (!root._bokeh_failed_load) {\n      console.log(\"Bokeh: BokehJS failed to load within specified timeout.\");\n      root._bokeh_failed_load = true;\n    } else if (force !== true) {\n      var cell = $(document.getElementById(null)).parents('.cell').data().cell;\n      cell.output_area.append_execute_result(NB_LOAD_WARNING)\n    }\n\n  }\n\n  if (root._bokeh_is_loading === 0) {\n    console.log(\"Bokeh: BokehJS loaded, going straight to plotting\");\n    run_inline_js();\n  } else {\n    load_libs(js_urls, function() {\n      console.log(\"Bokeh: BokehJS plotting callback run at\", now());\n      run_inline_js();\n    });\n  }\n}(window));"
     },
     "metadata": {},
     "output_type": "display_data"
    },
    {
     "data": {
      "text/html": [
       "\n",
       "<div class=\"bk-root\">\n",
       "    <div class=\"bk-plotdiv\" id=\"e7677b1a-06bd-460a-ab6c-032be3cf02d7\"></div>\n",
       "</div>"
      ]
     },
     "metadata": {},
     "output_type": "display_data"
    },
    {
     "data": {
      "application/javascript": [
       "(function(root) {\n",
       "  function embed_document(root) {\n",
       "    \n",
       "  var docs_json = {\"06224fe3-3b1c-42d4-8cc1-5fdbea3ba3ad\":{\"roots\":{\"references\":[{\"attributes\":{},\"id\":\"03a7bbda-a867-41db-93b1-fbf0cf7bd7e4\",\"type\":\"BasicTickFormatter\"},{\"attributes\":{\"overlay\":{\"id\":\"648c6960-cda5-43ad-b625-a24f241921fd\",\"type\":\"BoxAnnotation\"}},\"id\":\"6d932136-3ea4-40bb-9cdc-5fbc737e72d9\",\"type\":\"BoxZoomTool\"},{\"attributes\":{\"callback\":null,\"column_names\":[\"x\",\"y\"],\"data\":{\"x\":{\"__ndarray__\":\"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\",\"dtype\":\"float64\",\"shape\":[1561]},\"y\":{\"__ndarray__\":\"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\",\"dtype\":\"float64\",\"shape\":[1561]}},\"selected\":null,\"selection_policy\":null},\"id\":\"7ce44cbb-4a92-4af8-b673-cee0f444ac58\",\"type\":\"ColumnDataSource\"},{\"attributes\":{\"callback\":null},\"id\":\"d70eddbc-2464-4bb1-93b2-1b72fffeb216\",\"type\":\"DataRange1d\"},{\"attributes\":{\"bottom_units\":\"screen\",\"fill_alpha\":{\"value\":0.5},\"fill_color\":{\"value\":\"lightgrey\"},\"left_units\":\"screen\",\"level\":\"overlay\",\"line_alpha\":{\"value\":1.0},\"line_color\":{\"value\":\"black\"},\"line_dash\":[4,4],\"line_width\":{\"value\":2},\"plot\":null,\"render_mode\":\"css\",\"right_units\":\"screen\",\"top_units\":\"screen\"},\"id\":\"648c6960-cda5-43ad-b625-a24f241921fd\",\"type\":\"BoxAnnotation\"},{\"attributes\":{},\"id\":\"69b644ad-a608-48e3-aed7-b98173b00e90\",\"type\":\"LinearScale\"},{\"attributes\":{\"source\":{\"id\":\"7ce44cbb-4a92-4af8-b673-cee0f444ac58\",\"type\":\"ColumnDataSource\"}},\"id\":\"0b86a5b9-a0ce-4ac9-aba8-ebc67c23592c\",\"type\":\"CDSView\"},{\"attributes\":{},\"id\":\"e26189c8-abb3-4995-8ed7-00f3ffbc1ab9\",\"type\":\"SaveTool\"},{\"attributes\":{},\"id\":\"f1dfd1f4-0969-4b1f-99d2-ffc251042fe6\",\"type\":\"ResetTool\"},{\"attributes\":{\"line_color\":\"#1f77b4\",\"line_width\":2,\"x\":{\"field\":\"x\"},\"y\":{\"field\":\"y\"}},\"id\":\"ff76cf0d-1137-4017-a309-38215805cb55\",\"type\":\"Line\"},{\"attributes\":{\"plot\":null,\"text\":\"\"},\"id\":\"6a31eac2-0fdd-4880-b8a0-7c6351e342e7\",\"type\":\"Title\"},{\"attributes\":{},\"id\":\"15da8b87-6b66-469c-8f68-6852a2846f8f\",\"type\":\"HelpTool\"},{\"attributes\":{\"axis_label\":\"Z (M)\",\"formatter\":{\"id\":\"03a7bbda-a867-41db-93b1-fbf0cf7bd7e4\",\"type\":\"BasicTickFormatter\"},\"plot\":{\"id\":\"a80c5ef0-e54e-49c3-a350-a84f8e71d2af\",\"subtype\":\"Figure\",\"type\":\"Plot\"},\"ticker\":{\"id\":\"057ed49a-1b17-4c58-b672-95d5ac775921\",\"type\":\"BasicTicker\"}},\"id\":\"5dfd2087-7544-4d7e-9ef7-6ce5adc02af7\",\"type\":\"LinearAxis\"},{\"attributes\":{},\"id\":\"057ed49a-1b17-4c58-b672-95d5ac775921\",\"type\":\"BasicTicker\"},{\"attributes\":{\"below\":[{\"id\":\"5dfd2087-7544-4d7e-9ef7-6ce5adc02af7\",\"type\":\"LinearAxis\"}],\"left\":[{\"id\":\"d879eb78-9011-4d55-9eb7-ed265f48040d\",\"type\":\"LogAxis\"}],\"plot_height\":400,\"plot_width\":800,\"renderers\":[{\"id\":\"5dfd2087-7544-4d7e-9ef7-6ce5adc02af7\",\"type\":\"LinearAxis\"},{\"id\":\"eb8a7a27-be34-49e3-866a-b7580d9396d1\",\"type\":\"Grid\"},{\"id\":\"d879eb78-9011-4d55-9eb7-ed265f48040d\",\"type\":\"LogAxis\"},{\"id\":\"d53181ef-9b13-4c82-b2b5-7aa73e5a8ad6\",\"type\":\"Grid\"},{\"id\":\"648c6960-cda5-43ad-b625-a24f241921fd\",\"type\":\"BoxAnnotation\"},{\"id\":\"4bb3a43f-8cf7-47d6-a76c-c9c5ce3d3841\",\"type\":\"GlyphRenderer\"}],\"title\":{\"id\":\"6a31eac2-0fdd-4880-b8a0-7c6351e342e7\",\"type\":\"Title\"},\"toolbar\":{\"id\":\"c9c15175-876f-4d9f-a582-a5873fe6c2c7\",\"type\":\"Toolbar\"},\"x_range\":{\"id\":\"b418120d-ce88-43e5-b65b-f7996af477ff\",\"type\":\"DataRange1d\"},\"x_scale\":{\"id\":\"69b644ad-a608-48e3-aed7-b98173b00e90\",\"type\":\"LinearScale\"},\"y_range\":{\"id\":\"d70eddbc-2464-4bb1-93b2-1b72fffeb216\",\"type\":\"DataRange1d\"},\"y_scale\":{\"id\":\"fd35a9d5-8d83-4ea8-b659-7dbdc0f46fc8\",\"type\":\"LogScale\"}},\"id\":\"a80c5ef0-e54e-49c3-a350-a84f8e71d2af\",\"subtype\":\"Figure\",\"type\":\"Plot\"},{\"attributes\":{\"plot\":{\"id\":\"a80c5ef0-e54e-49c3-a350-a84f8e71d2af\",\"subtype\":\"Figure\",\"type\":\"Plot\"},\"ticker\":{\"id\":\"057ed49a-1b17-4c58-b672-95d5ac775921\",\"type\":\"BasicTicker\"}},\"id\":\"eb8a7a27-be34-49e3-866a-b7580d9396d1\",\"type\":\"Grid\"},{\"attributes\":{\"dimension\":1,\"plot\":{\"id\":\"a80c5ef0-e54e-49c3-a350-a84f8e71d2af\",\"subtype\":\"Figure\",\"type\":\"Plot\"},\"ticker\":{\"id\":\"69681184-e2a7-4a13-a9c9-763f88b58b89\",\"type\":\"LogTicker\"}},\"id\":\"d53181ef-9b13-4c82-b2b5-7aa73e5a8ad6\",\"type\":\"Grid\"},{\"attributes\":{\"data_source\":{\"id\":\"7ce44cbb-4a92-4af8-b673-cee0f444ac58\",\"type\":\"ColumnDataSource\"},\"glyph\":{\"id\":\"ff76cf0d-1137-4017-a309-38215805cb55\",\"type\":\"Line\"},\"hover_glyph\":null,\"muted_glyph\":null,\"nonselection_glyph\":{\"id\":\"33e4d20a-b12d-46cd-bd7f-29647448e0ea\",\"type\":\"Line\"},\"selection_glyph\":null,\"view\":{\"id\":\"0b86a5b9-a0ce-4ac9-aba8-ebc67c23592c\",\"type\":\"CDSView\"}},\"id\":\"4bb3a43f-8cf7-47d6-a76c-c9c5ce3d3841\",\"type\":\"GlyphRenderer\"},{\"attributes\":{\"line_alpha\":0.1,\"line_color\":\"#1f77b4\",\"line_width\":2,\"x\":{\"field\":\"x\"},\"y\":{\"field\":\"y\"}},\"id\":\"33e4d20a-b12d-46cd-bd7f-29647448e0ea\",\"type\":\"Line\"},{\"attributes\":{\"axis_label\":\"power (W)\",\"formatter\":{\"id\":\"cb831b0d-12d6-4599-9db1-e88f43053c20\",\"type\":\"LogTickFormatter\"},\"plot\":{\"id\":\"a80c5ef0-e54e-49c3-a350-a84f8e71d2af\",\"subtype\":\"Figure\",\"type\":\"Plot\"},\"ticker\":{\"id\":\"69681184-e2a7-4a13-a9c9-763f88b58b89\",\"type\":\"LogTicker\"}},\"id\":\"d879eb78-9011-4d55-9eb7-ed265f48040d\",\"type\":\"LogAxis\"},{\"attributes\":{\"num_minor_ticks\":10},\"id\":\"69681184-e2a7-4a13-a9c9-763f88b58b89\",\"type\":\"LogTicker\"},{\"attributes\":{\"ticker\":null},\"id\":\"cb831b0d-12d6-4599-9db1-e88f43053c20\",\"type\":\"LogTickFormatter\"},{\"attributes\":{\"callback\":null},\"id\":\"b418120d-ce88-43e5-b65b-f7996af477ff\",\"type\":\"DataRange1d\"},{\"attributes\":{\"active_drag\":\"auto\",\"active_inspect\":\"auto\",\"active_scroll\":\"auto\",\"active_tap\":\"auto\",\"tools\":[{\"id\":\"c0567a9a-f5f9-499b-bb7a-6fb00558c42c\",\"type\":\"PanTool\"},{\"id\":\"b5559839-9aff-4e53-a851-0505ef1a013b\",\"type\":\"WheelZoomTool\"},{\"id\":\"6d932136-3ea4-40bb-9cdc-5fbc737e72d9\",\"type\":\"BoxZoomTool\"},{\"id\":\"e26189c8-abb3-4995-8ed7-00f3ffbc1ab9\",\"type\":\"SaveTool\"},{\"id\":\"f1dfd1f4-0969-4b1f-99d2-ffc251042fe6\",\"type\":\"ResetTool\"},{\"id\":\"15da8b87-6b66-469c-8f68-6852a2846f8f\",\"type\":\"HelpTool\"}]},\"id\":\"c9c15175-876f-4d9f-a582-a5873fe6c2c7\",\"type\":\"Toolbar\"},{\"attributes\":{},\"id\":\"fd35a9d5-8d83-4ea8-b659-7dbdc0f46fc8\",\"type\":\"LogScale\"},{\"attributes\":{},\"id\":\"c0567a9a-f5f9-499b-bb7a-6fb00558c42c\",\"type\":\"PanTool\"},{\"attributes\":{},\"id\":\"b5559839-9aff-4e53-a851-0505ef1a013b\",\"type\":\"WheelZoomTool\"}],\"root_ids\":[\"a80c5ef0-e54e-49c3-a350-a84f8e71d2af\"]},\"title\":\"Bokeh Application\",\"version\":\"0.12.15\"}};\n",
       "  var render_items = [{\"docid\":\"06224fe3-3b1c-42d4-8cc1-5fdbea3ba3ad\",\"elementid\":\"e7677b1a-06bd-460a-ab6c-032be3cf02d7\",\"modelid\":\"a80c5ef0-e54e-49c3-a350-a84f8e71d2af\"}];\n",
       "  root.Bokeh.embed.embed_items_notebook(docs_json, render_items);\n",
       "\n",
       "  }\n",
       "  if (root.Bokeh !== undefined) {\n",
       "    embed_document(root);\n",
       "  } else {\n",
       "    var attempts = 0;\n",
       "    var timer = setInterval(function(root) {\n",
       "      if (root.Bokeh !== undefined) {\n",
       "        embed_document(root);\n",
       "        clearInterval(timer);\n",
       "      }\n",
       "      attempts++;\n",
       "      if (attempts > 100) {\n",
       "        console.log(\"Bokeh: ERROR: Unable to run BokehJS code because BokehJS library is missing\")\n",
       "        clearInterval(timer);\n",
       "      }\n",
       "    }, 10, root)\n",
       "  }\n",
       "})(window);"
      ],
      "application/vnd.bokehjs_exec.v0+json": ""
     },
     "metadata": {
      "application/vnd.bokehjs_exec.v0+json": {
       "id": "a80c5ef0-e54e-49c3-a350-a84f8e71d2af"
      }
     },
     "output_type": "display_data"
    }
   ],
   "source": [
    "# Test Bokeh plotting\n",
    "from bokeh.plotting import figure, output_file, show, output_notebook\n",
    "\n",
    "#output_file(\"line.html\")\n",
    "output_notebook(verbose=False, hide_banner=True)\n",
    "\n",
    "p = figure(plot_width=800, plot_height=400, y_axis_type='log')\n",
    "\n",
    "# add a line renderer\n",
    "p.line(dat[0],dat[1], line_width=2)\n",
    "\n",
    "p.xaxis.axis_label = 'Z (M)'\n",
    "p.yaxis.axis_label = 'power (W)'\n",
    "\n",
    "show(p)"
   ]
  },
  {
   "cell_type": "markdown",
   "metadata": {},
   "source": [
    "# Particle file"
   ]
  },
  {
   "cell_type": "code",
   "execution_count": 11,
   "metadata": {},
   "outputs": [
    {
     "data": {
      "text/plain": [
       "'/Users/chrisonian/work/genesis_run_mihpX7IIYl/genesis.out.par'"
      ]
     },
     "execution_count": 11,
     "metadata": {},
     "output_type": "execute_result"
    }
   ],
   "source": [
    "fname = g.sim_path+'genesis.out.par'\n",
    "fname"
   ]
  },
  {
   "cell_type": "code",
   "execution_count": 12,
   "metadata": {},
   "outputs": [
    {
     "data": {
      "text/plain": [
       "157"
      ]
     },
     "execution_count": 12,
     "metadata": {},
     "output_type": "execute_result"
    }
   ],
   "source": [
    "pdat = np.fromfile(fname, dtype=np.float).astype(float)\n",
    "npart = g.input_params['npart']\n",
    "nbunch = int(len(pdat)/6/npart)\n",
    "nbunch"
   ]
  },
  {
   "cell_type": "code",
   "execution_count": 13,
   "metadata": {},
   "outputs": [],
   "source": [
    "# gamma, phase, x, y, px/mc, py/mc\n",
    "b = pdat.reshape(nbunch,6,npart)"
   ]
  },
  {
   "cell_type": "code",
   "execution_count": 14,
   "metadata": {},
   "outputs": [
    {
     "data": {
      "text/plain": [
       "2048"
      ]
     },
     "execution_count": 14,
     "metadata": {},
     "output_type": "execute_result"
    }
   ],
   "source": [
    "len(b[0][2])"
   ]
  },
  {
   "cell_type": "code",
   "execution_count": 15,
   "metadata": {},
   "outputs": [
    {
     "data": {
      "image/png": "[encoded data removed]",
      "text/plain": [
       "<Figure size 432x288 with 1 Axes>"
      ]
     },
     "metadata": {},
     "output_type": "display_data"
    }
   ],
   "source": [
    "p = b[-1]\n",
    "plt.hist2d(p[1], 0.511*p[0], bins=[100,100], cmap=plt.get_cmap('plasma'))\n",
    "plt.xlabel('phase')\n",
    "plt.ylabel('energy (MeV)')\n",
    "plt.savefig('frame.png')\n",
    "plt.show()"
   ]
  },
  {
   "cell_type": "code",
   "execution_count": 16,
   "metadata": {},
   "outputs": [
    {
     "data": {
      "image/png": "[encoded data removed]",
      "text/plain": [
       "<Figure size 432x288 with 1 Axes>"
      ]
     },
     "metadata": {},
     "output_type": "display_data"
    }
   ],
   "source": [
    "def frame(i, ):\n",
    "    p = b[i]\n",
    "    plt.hist2d(p[1], 0.511*p[0], bins=[200,200], cmap=plt.get_cmap('plasma'))\n",
    "    plt.xlabel('phase')\n",
    "    plt.ylabel('energy (MeV)')\n",
    "    plt.savefig('frame_'+str(i)+'.png')\n",
    "    \n",
    "frame(100)"
   ]
  },
  {
   "cell_type": "code",
   "execution_count": 17,
   "metadata": {},
   "outputs": [
    {
     "data": {
      "image/png": "[encoded data removed]",
      "text/plain": [
       "<Figure size 432x288 with 1 Axes>"
      ]
     },
     "metadata": {},
     "output_type": "display_data"
    }
   ],
   "source": [
    "# Make frames\n",
    "for i in range(nbunch):\n",
    "    frame(i);"
   ]
  },
  {
   "cell_type": "code",
   "execution_count": 18,
   "metadata": {},
   "outputs": [
    {
     "name": "stdout",
     "output_type": "stream",
     "text": [
      "ffmpeg version 4.0.2 Copyright (c) 2000-2018 the FFmpeg developers\n",
      "  built with Apple LLVM version 9.1.0 (clang-902.0.39.2)\n",
      "  configuration: --prefix=/opt/local --enable-swscale --enable-avfilter --enable-avresample --enable-libmp3lame --enable-libvorbis --enable-libopus --enable-librsvg --enable-libtheora --enable-libopenjpeg --enable-libmodplug --enable-libvpx --enable-libsoxr --enable-libspeex --enable-libass --enable-libbluray --enable-lzma --enable-gnutls --enable-fontconfig --enable-libfreetype --enable-libfribidi --disable-libjack --disable-libopencore-amrnb --disable-libopencore-amrwb --disable-libxcb --disable-libxcb-shm --disable-libxcb-xfixes --disable-indev=jack --enable-opencl --disable-outdev=xv --enable-audiotoolbox --enable-videotoolbox --enable-sdl2 --mandir=/opt/local/share/man --enable-shared --enable-pthreads --cc=/usr/bin/clang --arch=x86_64 --enable-x86asm --enable-libx265 --enable-gpl --enable-postproc --enable-libx264 --enable-libxvid\n",
      "  libavutil      56. 14.100 / 56. 14.100\n",
      "  libavcodec     58. 18.100 / 58. 18.100\n",
      "  libavformat    58. 12.100 / 58. 12.100\n",
      "  libavdevice    58.  3.100 / 58.  3.100\n",
      "  libavfilter     7. 16.100 /  7. 16.100\n",
      "  libavresample   4.  0.  0 /  4.  0.  0\n",
      "  libswscale      5.  1.100 /  5.  1.100\n",
      "  libswresample   3.  1.100 /  3.  1.100\n",
      "  libpostproc    55.  1.100 / 55.  1.100\n",
      "Input #0, image2, from 'frame_%d.png':\n",
      "  Duration: 00:00:15.70, start: 0.000000, bitrate: N/A\n",
      "    Stream #0:0: Video: png, rgba(pc), 432x288 [SAR 2834:2834 DAR 3:2], 10 fps, 10 tbr, 10 tbn, 10 tbc\n",
      "Stream mapping:\n",
      "  Stream #0:0 -> #0:0 (png (native) -> h264 (libx264))\n",
      "Press [q] to stop, [?] for help\n",
      "\u001b[1;36m[libx264 @ 0x7fdfd701e800] \u001b[0musing SAR=1/1\n",
      "\u001b[1;36m[libx264 @ 0x7fdfd701e800] \u001b[0musing cpu capabilities: MMX2 SSE2Fast SSSE3 SSE4.2 AVX FMA3 BMI2 AVX2\n",
      "\u001b[1;36m[libx264 @ 0x7fdfd701e800] \u001b[0mprofile High 4:4:4 Predictive, level 2.1, 4:4:4 8-bit\n",
      "\u001b[1;36m[libx264 @ 0x7fdfd701e800] \u001b[0m264 - core 152 - H.264/MPEG-4 AVC codec - Copyleft 2003-2017 - http://www.videolan.org/x264.html - options: cabac=1 ref=3 deblock=1:0:0 analyse=0x1:0x111 me=hex subme=7 psy=1 psy_rd=1.00:0.00 mixed_ref=1 me_range=16 chroma_me=1 trellis=1 8x8dct=0 cqm=0 deadzone=21,11 fast_pskip=1 chroma_qp_offset=4 threads=9 lookahead_threads=1 sliced_threads=0 nr=0 decimate=1 interlaced=0 bluray_compat=0 constrained_intra=0 bframes=3 b_pyramid=2 b_adapt=1 b_bias=0 direct=1 weightb=1 open_gop=0 weightp=2 keyint=250 keyint_min=10 scenecut=40 intra_refresh=0 rc_lookahead=40 rc=crf mbtree=1 crf=23.0 qcomp=0.60 qpmin=0 qpmax=69 qpstep=4 ip_ratio=1.40 aq=1:1.00\n",
      "Output #0, mp4, to 'output.mp4':\n",
      "  Metadata:\n",
      "    encoder         : Lavf58.12.100\n",
      "    Stream #0:0: Video: h264 (libx264) (avc1 / 0x31637661), yuv444p, 432x288 [SAR 1:1 DAR 3:2], q=-1--1, 10 fps, 10240 tbn, 10 tbc\n",
      "    Metadata:\n",
      "      encoder         : Lavc58.18.100 libx264\n",
      "    Side data:\n",
      "      cpb: bitrate max/min/avg: 0/0/0 buffer size: 0 vbv_delay: -1\n",
      "frame=  157 fps=0.0 q=-1.0 Lsize=    1364kB time=00:00:15.40 bitrate= 725.4kbits/s speed=33.7x    \n",
      "video:1361kB audio:0kB subtitle:0kB other streams:0kB global headers:0kB muxing overhead: 0.192718%\n",
      "\u001b[1;36m[libx264 @ 0x7fdfd701e800] \u001b[0mframe I:1     Avg QP:21.85  size: 31939\n",
      "\u001b[1;36m[libx264 @ 0x7fdfd701e800] \u001b[0mframe P:48    Avg QP:19.61  size:  9631\n",
      "\u001b[1;36m[libx264 @ 0x7fdfd701e800] \u001b[0mframe B:108   Avg QP:23.48  size:  8323\n",
      "\u001b[1;36m[libx264 @ 0x7fdfd701e800] \u001b[0mconsecutive B-frames:  5.1%  6.4%  9.6% 79.0%\n",
      "\u001b[1;36m[libx264 @ 0x7fdfd701e800] \u001b[0mmb I  I16..4: 38.5%  0.0% 61.5%\n",
      "\u001b[1;36m[libx264 @ 0x7fdfd701e800] \u001b[0mmb P  I16..4:  7.0%  0.0% 18.4%  P16..4: 12.4%  4.1%  2.9%  0.0%  0.0%    skip:55.3%\n",
      "\u001b[1;36m[libx264 @ 0x7fdfd701e800] \u001b[0mmb B  I16..4:  2.7%  0.0%  5.6%  B16..8: 21.4%  7.5%  7.9%  direct: 2.8%  skip:52.2%  L0:48.0% L1:45.7% BI: 6.3%\n",
      "\u001b[1;36m[libx264 @ 0x7fdfd701e800] \u001b[0mcoded y,u,v intra: 69.3% 32.7% 65.8% inter: 13.8% 4.1% 12.8%\n",
      "\u001b[1;36m[libx264 @ 0x7fdfd701e800] \u001b[0mi16 v,h,dc,p: 53% 27% 19%  1%\n",
      "\u001b[1;36m[libx264 @ 0x7fdfd701e800] \u001b[0mi4 v,h,dc,ddl,ddr,vr,hd,vl,hu: 20% 19% 36%  4%  4%  3%  6%  3%  6%\n",
      "\u001b[1;36m[libx264 @ 0x7fdfd701e800] \u001b[0mWeighted P-Frames: Y:0.0% UV:0.0%\n",
      "\u001b[1;36m[libx264 @ 0x7fdfd701e800] \u001b[0mref P L0: 56.7%  1.5% 25.2% 16.5%\n",
      "\u001b[1;36m[libx264 @ 0x7fdfd701e800] \u001b[0mref B L0: 78.5% 16.5%  5.0%\n",
      "\u001b[1;36m[libx264 @ 0x7fdfd701e800] \u001b[0mref B L1: 92.0%  8.0%\n",
      "\u001b[1;36m[libx264 @ 0x7fdfd701e800] \u001b[0mkb/s:709.84\n"
     ]
    }
   ],
   "source": [
    "# Make movie\n",
    "!ffmpeg -framerate 10 -i frame_%d.png -c:v libx264 -c:a libfdk_aac output.mp4"
   ]
  },
  {
   "cell_type": "code",
   "execution_count": 19,
   "metadata": {},
   "outputs": [],
   "source": [
    "g.clean()"
   ]
  },
  {
   "cell_type": "code",
   "execution_count": null,
   "metadata": {},
   "outputs": [],
   "source": []
  }
 ],
 "metadata": {
  "kernelspec": {
   "display_name": "Python 3",
   "language": "python",
   "name": "python3"
  },
  "language_info": {
   "codemirror_mode": {
    "name": "ipython",
    "version": 3
   },
   "file_extension": ".py",
   "mimetype": "text/x-python",
   "name": "python",
   "nbconvert_exporter": "python",
   "pygments_lexer": "ipython3",
   "version": "3.6.6"
  }
 },
 "nbformat": 4,
 "nbformat_minor": 2
}
