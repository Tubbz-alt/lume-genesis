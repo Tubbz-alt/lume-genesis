{
 "cells": [
  {
   "cell_type": "markdown",
   "metadata": {},
   "source": [
    "# Simple LUME-Genesis example"
   ]
  },
  {
   "cell_type": "code",
   "execution_count": 1,
   "metadata": {},
   "outputs": [],
   "source": [
    "# Useful for debugging\n",
    "%load_ext autoreload\n",
    "%autoreload 2"
   ]
  },
  {
   "cell_type": "code",
   "execution_count": 2,
   "metadata": {},
   "outputs": [],
   "source": [
    "from genesis import Genesis\n",
    "import os\n",
    "\n",
    "# Genesis binary\n",
    "if 'GENESIS_BIN' not in os.environ:\n",
    "    os.environ['GENESIS_BIN'] = os.path.expandvars('$HOME/Code/genesis/bin/genesis')"
   ]
  },
  {
   "cell_type": "code",
   "execution_count": 3,
   "metadata": {},
   "outputs": [
    {
     "name": "stdout",
     "output_type": "stream",
     "text": [
      "Configured to run in: /var/folders/wj/lfgr01993dx79p9cm_skykbw0000gn/T/tmpz7m1uyqi\n"
     ]
    },
    {
     "data": {
      "text/plain": [
       "'/var/folders/wj/lfgr01993dx79p9cm_skykbw0000gn/T/tmpz7m1uyqi'"
      ]
     },
     "execution_count": 3,
     "metadata": {},
     "output_type": "execute_result"
    }
   ],
   "source": [
    "# Make genesis object with default input\n",
    "G = Genesis(verbose=True)\n",
    "G.path"
   ]
  },
  {
   "cell_type": "code",
   "execution_count": 4,
   "metadata": {},
   "outputs": [
    {
     "name": "stdout",
     "output_type": "stream",
     "text": [
      "Genesis configured in /var/folders/wj/lfgr01993dx79p9cm_skykbw0000gn/T/tmpz7m1uyqi\n"
     ]
    }
   ],
   "source": [
    "# Turn on field output\n",
    "G.input['idmpfld'] = 1\n",
    "# Turn on particle output\n",
    "G.input['idmppar'] = 1\n",
    "G.input['npart'] = 2048\n",
    "\n",
    "# Turn on history\n",
    "G.input['ippart'] = 10\n",
    "G.input['ipradi'] = 0\n",
    "G.input['ncar']\n",
    "\n",
    "print(G)"
   ]
  },
  {
   "cell_type": "code",
   "execution_count": 5,
   "metadata": {},
   "outputs": [
    {
     "name": "stdout",
     "output_type": "stream",
     "text": [
      "init dir:  /Users/chrisonian/Code/GitHub/lume-genesis/examples\n",
      "running genesis in /private/var/folders/wj/lfgr01993dx79p9cm_skykbw0000gn/T/tmpz7m1uyqi\n",
      "-------------------------------\n",
      "Genesis 1.3 has begun execution\n",
      "(Version 1.0 Unix)\n",
      "\n",
      "Please enter input file name \n",
      "***  Warning: Size of particle file [Mbytes]:  14     \n",
      "Slice     1: Simulation  10% completed.\n",
      "Slice     1: Simulation  20% completed.\n",
      "Slice     1: Simulation  30% completed.\n",
      "Slice     1: Simulation  40% completed.\n",
      "Slice     1: Simulation  50% completed.\n",
      "Slice     1: Simulation  60% completed.\n",
      "Slice     1: Simulation  70% completed.\n",
      "Slice     1: Simulation  80% completed.\n",
      "Slice     1: Simulation  90% completed.\n",
      "Slice     1: Simulation 100% completed.\n",
      "***  writing history record for slice     1\n",
      "***  closing files\n",
      "\n",
      "Genesis run has finished\n",
      "------------------------\n",
      "Loaded output: /var/folders/wj/lfgr01993dx79p9cm_skykbw0000gn/T/tmpz7m1uyqi/genesis.out\n"
     ]
    }
   ],
   "source": [
    "# Run genesis with default lattice \n",
    "G.run()"
   ]
  },
  {
   "cell_type": "code",
   "execution_count": 6,
   "metadata": {},
   "outputs": [
    {
     "data": {
      "text/plain": [
       "'/var/folders/wj/lfgr01993dx79p9cm_skykbw0000gn/T/tmpz7m1uyqi'"
      ]
     },
     "execution_count": 6,
     "metadata": {},
     "output_type": "execute_result"
    }
   ],
   "source": [
    "# This is the working path\n",
    "G.path"
   ]
  },
  {
   "cell_type": "code",
   "execution_count": 7,
   "metadata": {},
   "outputs": [
    {
     "name": "stdout",
     "output_type": "stream",
     "text": [
      "total 34912\n",
      "drwx------    9 chrisonian  staff   288B Mar  3 17:35 \u001b[34m.\u001b[m\u001b[m\n",
      "drwx------@ 137 chrisonian  staff   4.3K Mar  3 17:35 \u001b[34m..\u001b[m\u001b[m\n",
      "-rw-r--r--    1 chrisonian  staff   2.0K Mar  3 17:35 genesis.in\n",
      "-rw-r--r--    1 chrisonian  staff   1.3K Mar  3 17:35 genesis.lat\n",
      "-rw-r--r--    1 chrisonian  staff   370K Mar  3 17:35 genesis.out\n",
      "-rw-r--r--    1 chrisonian  staff   984K Mar  3 17:35 genesis.out.dfl\n",
      "-rw-r--r--    1 chrisonian  staff    96K Mar  3 17:35 genesis.out.dpa\n",
      "-rw-r--r--    1 chrisonian  staff    15M Mar  3 17:35 genesis.out.par\n",
      "-rw-r--r--    1 chrisonian  staff    53B Mar  3 17:35 run\n"
     ]
    }
   ],
   "source": [
    "# Contents of this\n",
    "!ls -ahl {G.path}"
   ]
  },
  {
   "cell_type": "code",
   "execution_count": 8,
   "metadata": {},
   "outputs": [
    {
     "data": {
      "text/plain": [
       "'f9a2206c05184a4ee20aa805a637efda'"
      ]
     },
     "execution_count": 8,
     "metadata": {},
     "output_type": "execute_result"
    }
   ],
   "source": [
    "# Get a hash of the input\n",
    "G.fingerprint()"
   ]
  },
  {
   "cell_type": "code",
   "execution_count": 9,
   "metadata": {},
   "outputs": [
    {
     "name": "stdout",
     "output_type": "stream",
     "text": [
      "loading lattice:  /var/folders/wj/lfgr01993dx79p9cm_skykbw0000gn/T/tmpz7m1uyqi/genesis.lat\n"
     ]
    }
   ],
   "source": [
    "# Loads the lattice file. Note that this has already been done on init. \n",
    "G.load_lattice()"
   ]
  },
  {
   "cell_type": "code",
   "execution_count": 10,
   "metadata": {},
   "outputs": [
    {
     "data": {
      "text/plain": [
       "{'version': 1, 'unitlength': '0.03 # meters'}"
      ]
     },
     "execution_count": 10,
     "metadata": {},
     "output_type": "execute_result"
    }
   ],
   "source": [
    "# Lattice parameters\n",
    "G.lattice_params"
   ]
  },
  {
   "cell_type": "code",
   "execution_count": 11,
   "metadata": {},
   "outputs": [],
   "source": [
    "# Get a list of z from the output\n",
    "zlist = G.output['lattice']['z']"
   ]
  },
  {
   "cell_type": "code",
   "execution_count": 12,
   "metadata": {},
   "outputs": [
    {
     "data": {
      "text/plain": [
       "dict_keys(['index', 'current', 'data'])"
      ]
     },
     "execution_count": 12,
     "metadata": {},
     "output_type": "execute_result"
    }
   ],
   "source": [
    "# Get some slice data\n",
    "slicedat =G.output['slice_data']\n",
    "slicedat[0].keys()"
   ]
  },
  {
   "cell_type": "code",
   "execution_count": 13,
   "metadata": {},
   "outputs": [
    {
     "data": {
      "text/plain": [
       "dict_keys(['power', 'increment', 'p_mid', 'phi_mid', 'r_size', 'energy', 'bunching', 'xrms', 'yrms', 'error', '<x>', '<y>', 'e-spread', 'far_field'])"
      ]
     },
     "execution_count": 13,
     "metadata": {},
     "output_type": "execute_result"
    }
   ],
   "source": [
    "# These are the available columns\n",
    "slicedat[0]['data'].keys()"
   ]
  },
  {
   "cell_type": "code",
   "execution_count": 16,
   "metadata": {},
   "outputs": [
    {
     "data": {
      "text/plain": [
       "array([2.0000e-04, 2.0000e-04, 2.0000e-04, ..., 3.5145e+10, 3.4878e+10,\n",
       "       3.4607e+10])"
      ]
     },
     "execution_count": 16,
     "metadata": {},
     "output_type": "execute_result"
    }
   ],
   "source": [
    "slicedat[0]['data']['power']"
   ]
  },
  {
   "cell_type": "code",
   "execution_count": 15,
   "metadata": {},
   "outputs": [
    {
     "data": {
      "application/javascript": [
       "\n",
       "(function(root) {\n",
       "  function now() {\n",
       "    return new Date();\n",
       "  }\n",
       "\n",
       "  var force = true;\n",
       "\n",
       "  if (typeof root._bokeh_onload_callbacks === \"undefined\" || force === true) {\n",
       "    root._bokeh_onload_callbacks = [];\n",
       "    root._bokeh_is_loading = undefined;\n",
       "  }\n",
       "\n",
       "  var JS_MIME_TYPE = 'application/javascript';\n",
       "  var HTML_MIME_TYPE = 'text/html';\n",
       "  var EXEC_MIME_TYPE = 'application/vnd.bokehjs_exec.v0+json';\n",
       "  var CLASS_NAME = 'output_bokeh rendered_html';\n",
       "\n",
       "  /**\n",
       "   * Render data to the DOM node\n",
       "   */\n",
       "  function render(props, node) {\n",
       "    var script = document.createElement(\"script\");\n",
       "    node.appendChild(script);\n",
       "  }\n",
       "\n",
       "  /**\n",
       "   * Handle when an output is cleared or removed\n",
       "   */\n",
       "  function handleClearOutput(event, handle) {\n",
       "    var cell = handle.cell;\n",
       "\n",
       "    var id = cell.output_area._bokeh_element_id;\n",
       "    var server_id = cell.output_area._bokeh_server_id;\n",
       "    // Clean up Bokeh references\n",
       "    if (id != null && id in Bokeh.index) {\n",
       "      Bokeh.index[id].model.document.clear();\n",
       "      delete Bokeh.index[id];\n",
       "    }\n",
       "\n",
       "    if (server_id !== undefined) {\n",
       "      // Clean up Bokeh references\n",
       "      var cmd = \"from bokeh.io.state import curstate; print(curstate().uuid_to_server['\" + server_id + \"'].get_sessions()[0].document.roots[0]._id)\";\n",
       "      cell.notebook.kernel.execute(cmd, {\n",
       "        iopub: {\n",
       "          output: function(msg) {\n",
       "            var id = msg.content.text.trim();\n",
       "            if (id in Bokeh.index) {\n",
       "              Bokeh.index[id].model.document.clear();\n",
       "              delete Bokeh.index[id];\n",
       "            }\n",
       "          }\n",
       "        }\n",
       "      });\n",
       "      // Destroy server and session\n",
       "      var cmd = \"import bokeh.io.notebook as ion; ion.destroy_server('\" + server_id + \"')\";\n",
       "      cell.notebook.kernel.execute(cmd);\n",
       "    }\n",
       "  }\n",
       "\n",
       "  /**\n",
       "   * Handle when a new output is added\n",
       "   */\n",
       "  function handleAddOutput(event, handle) {\n",
       "    var output_area = handle.output_area;\n",
       "    var output = handle.output;\n",
       "\n",
       "    // limit handleAddOutput to display_data with EXEC_MIME_TYPE content only\n",
       "    if ((output.output_type != \"display_data\") || (!output.data.hasOwnProperty(EXEC_MIME_TYPE))) {\n",
       "      return\n",
       "    }\n",
       "\n",
       "    var toinsert = output_area.element.find(\".\" + CLASS_NAME.split(' ')[0]);\n",
       "\n",
       "    if (output.metadata[EXEC_MIME_TYPE][\"id\"] !== undefined) {\n",
       "      toinsert[toinsert.length - 1].firstChild.textContent = output.data[JS_MIME_TYPE];\n",
       "      // store reference to embed id on output_area\n",
       "      output_area._bokeh_element_id = output.metadata[EXEC_MIME_TYPE][\"id\"];\n",
       "    }\n",
       "    if (output.metadata[EXEC_MIME_TYPE][\"server_id\"] !== undefined) {\n",
       "      var bk_div = document.createElement(\"div\");\n",
       "      bk_div.innerHTML = output.data[HTML_MIME_TYPE];\n",
       "      var script_attrs = bk_div.children[0].attributes;\n",
       "      for (var i = 0; i < script_attrs.length; i++) {\n",
       "        toinsert[toinsert.length - 1].firstChild.setAttribute(script_attrs[i].name, script_attrs[i].value);\n",
       "      }\n",
       "      // store reference to server id on output_area\n",
       "      output_area._bokeh_server_id = output.metadata[EXEC_MIME_TYPE][\"server_id\"];\n",
       "    }\n",
       "  }\n",
       "\n",
       "  function register_renderer(events, OutputArea) {\n",
       "\n",
       "    function append_mime(data, metadata, element) {\n",
       "      // create a DOM node to render to\n",
       "      var toinsert = this.create_output_subarea(\n",
       "        metadata,\n",
       "        CLASS_NAME,\n",
       "        EXEC_MIME_TYPE\n",
       "      );\n",
       "      this.keyboard_manager.register_events(toinsert);\n",
       "      // Render to node\n",
       "      var props = {data: data, metadata: metadata[EXEC_MIME_TYPE]};\n",
       "      render(props, toinsert[toinsert.length - 1]);\n",
       "      element.append(toinsert);\n",
       "      return toinsert\n",
       "    }\n",
       "\n",
       "    /* Handle when an output is cleared or removed */\n",
       "    events.on('clear_output.CodeCell', handleClearOutput);\n",
       "    events.on('delete.Cell', handleClearOutput);\n",
       "\n",
       "    /* Handle when a new output is added */\n",
       "    events.on('output_added.OutputArea', handleAddOutput);\n",
       "\n",
       "    /**\n",
       "     * Register the mime type and append_mime function with output_area\n",
       "     */\n",
       "    OutputArea.prototype.register_mime_type(EXEC_MIME_TYPE, append_mime, {\n",
       "      /* Is output safe? */\n",
       "      safe: true,\n",
       "      /* Index of renderer in `output_area.display_order` */\n",
       "      index: 0\n",
       "    });\n",
       "  }\n",
       "\n",
       "  // register the mime type if in Jupyter Notebook environment and previously unregistered\n",
       "  if (root.Jupyter !== undefined) {\n",
       "    var events = require('base/js/events');\n",
       "    var OutputArea = require('notebook/js/outputarea').OutputArea;\n",
       "\n",
       "    if (OutputArea.prototype.mime_types().indexOf(EXEC_MIME_TYPE) == -1) {\n",
       "      register_renderer(events, OutputArea);\n",
       "    }\n",
       "  }\n",
       "\n",
       "  \n",
       "  if (typeof (root._bokeh_timeout) === \"undefined\" || force === true) {\n",
       "    root._bokeh_timeout = Date.now() + 5000;\n",
       "    root._bokeh_failed_load = false;\n",
       "  }\n",
       "\n",
       "  var NB_LOAD_WARNING = {'data': {'text/html':\n",
       "     \"<div style='background-color: #fdd'>\\n\"+\n",
       "     \"<p>\\n\"+\n",
       "     \"BokehJS does not appear to have successfully loaded. If loading BokehJS from CDN, this \\n\"+\n",
       "     \"may be due to a slow or bad network connection. Possible fixes:\\n\"+\n",
       "     \"</p>\\n\"+\n",
       "     \"<ul>\\n\"+\n",
       "     \"<li>re-rerun `output_notebook()` to attempt to load from CDN again, or</li>\\n\"+\n",
       "     \"<li>use INLINE resources instead, as so:</li>\\n\"+\n",
       "     \"</ul>\\n\"+\n",
       "     \"<code>\\n\"+\n",
       "     \"from bokeh.resources import INLINE\\n\"+\n",
       "     \"output_notebook(resources=INLINE)\\n\"+\n",
       "     \"</code>\\n\"+\n",
       "     \"</div>\"}};\n",
       "\n",
       "  function display_loaded() {\n",
       "    var el = document.getElementById(null);\n",
       "    if (el != null) {\n",
       "      el.textContent = \"BokehJS is loading...\";\n",
       "    }\n",
       "    if (root.Bokeh !== undefined) {\n",
       "      if (el != null) {\n",
       "        el.textContent = \"BokehJS \" + root.Bokeh.version + \" successfully loaded.\";\n",
       "      }\n",
       "    } else if (Date.now() < root._bokeh_timeout) {\n",
       "      setTimeout(display_loaded, 100)\n",
       "    }\n",
       "  }\n",
       "\n",
       "\n",
       "  function run_callbacks() {\n",
       "    try {\n",
       "      root._bokeh_onload_callbacks.forEach(function(callback) {\n",
       "        if (callback != null)\n",
       "          callback();\n",
       "      });\n",
       "    } finally {\n",
       "      delete root._bokeh_onload_callbacks\n",
       "    }\n",
       "    console.debug(\"Bokeh: all callbacks have finished\");\n",
       "  }\n",
       "\n",
       "  function load_libs(css_urls, js_urls, callback) {\n",
       "    if (css_urls == null) css_urls = [];\n",
       "    if (js_urls == null) js_urls = [];\n",
       "\n",
       "    root._bokeh_onload_callbacks.push(callback);\n",
       "    if (root._bokeh_is_loading > 0) {\n",
       "      console.debug(\"Bokeh: BokehJS is being loaded, scheduling callback at\", now());\n",
       "      return null;\n",
       "    }\n",
       "    if (js_urls == null || js_urls.length === 0) {\n",
       "      run_callbacks();\n",
       "      return null;\n",
       "    }\n",
       "    console.debug(\"Bokeh: BokehJS not loaded, scheduling load and callback at\", now());\n",
       "    root._bokeh_is_loading = css_urls.length + js_urls.length;\n",
       "\n",
       "    function on_load() {\n",
       "      root._bokeh_is_loading--;\n",
       "      if (root._bokeh_is_loading === 0) {\n",
       "        console.debug(\"Bokeh: all BokehJS libraries/stylesheets loaded\");\n",
       "        run_callbacks()\n",
       "      }\n",
       "    }\n",
       "\n",
       "    function on_error() {\n",
       "      console.error(\"failed to load \" + url);\n",
       "    }\n",
       "\n",
       "    for (var i = 0; i < css_urls.length; i++) {\n",
       "      var url = css_urls[i];\n",
       "      const element = document.createElement(\"link\");\n",
       "      element.onload = on_load;\n",
       "      element.onerror = on_error;\n",
       "      element.rel = \"stylesheet\";\n",
       "      element.type = \"text/css\";\n",
       "      element.href = url;\n",
       "      console.debug(\"Bokeh: injecting link tag for BokehJS stylesheet: \", url);\n",
       "      document.body.appendChild(element);\n",
       "    }\n",
       "\n",
       "    for (var i = 0; i < js_urls.length; i++) {\n",
       "      var url = js_urls[i];\n",
       "      var element = document.createElement('script');\n",
       "      element.onload = on_load;\n",
       "      element.onerror = on_error;\n",
       "      element.async = false;\n",
       "      element.src = url;\n",
       "      console.debug(\"Bokeh: injecting script tag for BokehJS library: \", url);\n",
       "      document.head.appendChild(element);\n",
       "    }\n",
       "  };\n",
       "\n",
       "  function inject_raw_css(css) {\n",
       "    const element = document.createElement(\"style\");\n",
       "    element.appendChild(document.createTextNode(css));\n",
       "    document.body.appendChild(element);\n",
       "  }\n",
       "\n",
       "  \n",
       "  var js_urls = [\"https://cdn.pydata.org/bokeh/release/bokeh-1.4.0.min.js\", \"https://cdn.pydata.org/bokeh/release/bokeh-widgets-1.4.0.min.js\", \"https://cdn.pydata.org/bokeh/release/bokeh-tables-1.4.0.min.js\", \"https://cdn.pydata.org/bokeh/release/bokeh-gl-1.4.0.min.js\"];\n",
       "  var css_urls = [];\n",
       "  \n",
       "\n",
       "  var inline_js = [\n",
       "    function(Bokeh) {\n",
       "      Bokeh.set_log_level(\"info\");\n",
       "    },\n",
       "    function(Bokeh) {\n",
       "    \n",
       "    \n",
       "    }\n",
       "  ];\n",
       "\n",
       "  function run_inline_js() {\n",
       "    \n",
       "    if (root.Bokeh !== undefined || force === true) {\n",
       "      \n",
       "    for (var i = 0; i < inline_js.length; i++) {\n",
       "      inline_js[i].call(root, root.Bokeh);\n",
       "    }\n",
       "    } else if (Date.now() < root._bokeh_timeout) {\n",
       "      setTimeout(run_inline_js, 100);\n",
       "    } else if (!root._bokeh_failed_load) {\n",
       "      console.log(\"Bokeh: BokehJS failed to load within specified timeout.\");\n",
       "      root._bokeh_failed_load = true;\n",
       "    } else if (force !== true) {\n",
       "      var cell = $(document.getElementById(null)).parents('.cell').data().cell;\n",
       "      cell.output_area.append_execute_result(NB_LOAD_WARNING)\n",
       "    }\n",
       "\n",
       "  }\n",
       "\n",
       "  if (root._bokeh_is_loading === 0) {\n",
       "    console.debug(\"Bokeh: BokehJS loaded, going straight to plotting\");\n",
       "    run_inline_js();\n",
       "  } else {\n",
       "    load_libs(css_urls, js_urls, function() {\n",
       "      console.debug(\"Bokeh: BokehJS plotting callback run at\", now());\n",
       "      run_inline_js();\n",
       "    });\n",
       "  }\n",
       "}(window));"
      ],
      "application/vnd.bokehjs_load.v0+json": "\n(function(root) {\n  function now() {\n    return new Date();\n  }\n\n  var force = true;\n\n  if (typeof root._bokeh_onload_callbacks === \"undefined\" || force === true) {\n    root._bokeh_onload_callbacks = [];\n    root._bokeh_is_loading = undefined;\n  }\n\n  \n\n  \n  if (typeof (root._bokeh_timeout) === \"undefined\" || force === true) {\n    root._bokeh_timeout = Date.now() + 5000;\n    root._bokeh_failed_load = false;\n  }\n\n  var NB_LOAD_WARNING = {'data': {'text/html':\n     \"<div style='background-color: #fdd'>\\n\"+\n     \"<p>\\n\"+\n     \"BokehJS does not appear to have successfully loaded. If loading BokehJS from CDN, this \\n\"+\n     \"may be due to a slow or bad network connection. Possible fixes:\\n\"+\n     \"</p>\\n\"+\n     \"<ul>\\n\"+\n     \"<li>re-rerun `output_notebook()` to attempt to load from CDN again, or</li>\\n\"+\n     \"<li>use INLINE resources instead, as so:</li>\\n\"+\n     \"</ul>\\n\"+\n     \"<code>\\n\"+\n     \"from bokeh.resources import INLINE\\n\"+\n     \"output_notebook(resources=INLINE)\\n\"+\n     \"</code>\\n\"+\n     \"</div>\"}};\n\n  function display_loaded() {\n    var el = document.getElementById(null);\n    if (el != null) {\n      el.textContent = \"BokehJS is loading...\";\n    }\n    if (root.Bokeh !== undefined) {\n      if (el != null) {\n        el.textContent = \"BokehJS \" + root.Bokeh.version + \" successfully loaded.\";\n      }\n    } else if (Date.now() < root._bokeh_timeout) {\n      setTimeout(display_loaded, 100)\n    }\n  }\n\n\n  function run_callbacks() {\n    try {\n      root._bokeh_onload_callbacks.forEach(function(callback) {\n        if (callback != null)\n          callback();\n      });\n    } finally {\n      delete root._bokeh_onload_callbacks\n    }\n    console.debug(\"Bokeh: all callbacks have finished\");\n  }\n\n  function load_libs(css_urls, js_urls, callback) {\n    if (css_urls == null) css_urls = [];\n    if (js_urls == null) js_urls = [];\n\n    root._bokeh_onload_callbacks.push(callback);\n    if (root._bokeh_is_loading > 0) {\n      console.debug(\"Bokeh: BokehJS is being loaded, scheduling callback at\", now());\n      return null;\n    }\n    if (js_urls == null || js_urls.length === 0) {\n      run_callbacks();\n      return null;\n    }\n    console.debug(\"Bokeh: BokehJS not loaded, scheduling load and callback at\", now());\n    root._bokeh_is_loading = css_urls.length + js_urls.length;\n\n    function on_load() {\n      root._bokeh_is_loading--;\n      if (root._bokeh_is_loading === 0) {\n        console.debug(\"Bokeh: all BokehJS libraries/stylesheets loaded\");\n        run_callbacks()\n      }\n    }\n\n    function on_error() {\n      console.error(\"failed to load \" + url);\n    }\n\n    for (var i = 0; i < css_urls.length; i++) {\n      var url = css_urls[i];\n      const element = document.createElement(\"link\");\n      element.onload = on_load;\n      element.onerror = on_error;\n      element.rel = \"stylesheet\";\n      element.type = \"text/css\";\n      element.href = url;\n      console.debug(\"Bokeh: injecting link tag for BokehJS stylesheet: \", url);\n      document.body.appendChild(element);\n    }\n\n    for (var i = 0; i < js_urls.length; i++) {\n      var url = js_urls[i];\n      var element = document.createElement('script');\n      element.onload = on_load;\n      element.onerror = on_error;\n      element.async = false;\n      element.src = url;\n      console.debug(\"Bokeh: injecting script tag for BokehJS library: \", url);\n      document.head.appendChild(element);\n    }\n  };\n\n  function inject_raw_css(css) {\n    const element = document.createElement(\"style\");\n    element.appendChild(document.createTextNode(css));\n    document.body.appendChild(element);\n  }\n\n  \n  var js_urls = [\"https://cdn.pydata.org/bokeh/release/bokeh-1.4.0.min.js\", \"https://cdn.pydata.org/bokeh/release/bokeh-widgets-1.4.0.min.js\", \"https://cdn.pydata.org/bokeh/release/bokeh-tables-1.4.0.min.js\", \"https://cdn.pydata.org/bokeh/release/bokeh-gl-1.4.0.min.js\"];\n  var css_urls = [];\n  \n\n  var inline_js = [\n    function(Bokeh) {\n      Bokeh.set_log_level(\"info\");\n    },\n    function(Bokeh) {\n    \n    \n    }\n  ];\n\n  function run_inline_js() {\n    \n    if (root.Bokeh !== undefined || force === true) {\n      \n    for (var i = 0; i < inline_js.length; i++) {\n      inline_js[i].call(root, root.Bokeh);\n    }\n    } else if (Date.now() < root._bokeh_timeout) {\n      setTimeout(run_inline_js, 100);\n    } else if (!root._bokeh_failed_load) {\n      console.log(\"Bokeh: BokehJS failed to load within specified timeout.\");\n      root._bokeh_failed_load = true;\n    } else if (force !== true) {\n      var cell = $(document.getElementById(null)).parents('.cell').data().cell;\n      cell.output_area.append_execute_result(NB_LOAD_WARNING)\n    }\n\n  }\n\n  if (root._bokeh_is_loading === 0) {\n    console.debug(\"Bokeh: BokehJS loaded, going straight to plotting\");\n    run_inline_js();\n  } else {\n    load_libs(css_urls, js_urls, function() {\n      console.debug(\"Bokeh: BokehJS plotting callback run at\", now());\n      run_inline_js();\n    });\n  }\n}(window));"
     },
     "metadata": {},
     "output_type": "display_data"
    },
    {
     "data": {
      "text/html": [
       "\n",
       "\n",
       "\n",
       "\n",
       "\n",
       "\n",
       "  <div class=\"bk-root\" id=\"aef6ad9b-1cfa-4bc4-9c3d-b44712ebfbf3\" data-root-id=\"1001\"></div>\n"
      ]
     },
     "metadata": {},
     "output_type": "display_data"
    },
    {
     "data": {
      "application/javascript": [
       "(function(root) {\n",
       "  function embed_document(root) {\n",
       "    \n",
       "  var docs_json = {\"c786cb5f-33c9-49ca-a51c-5d29e3f98c54\":{\"roots\":{\"references\":[{\"attributes\":{\"below\":[{\"id\":\"1010\",\"type\":\"LinearAxis\"}],\"center\":[{\"id\":\"1014\",\"type\":\"Grid\"},{\"id\":\"1019\",\"type\":\"Grid\"}],\"left\":[{\"id\":\"1015\",\"type\":\"LogAxis\"}],\"plot_height\":400,\"plot_width\":800,\"renderers\":[{\"id\":\"1036\",\"type\":\"GlyphRenderer\"}],\"title\":{\"id\":\"1039\",\"type\":\"Title\"},\"toolbar\":{\"id\":\"1026\",\"type\":\"Toolbar\"},\"x_range\":{\"id\":\"1002\",\"type\":\"DataRange1d\"},\"x_scale\":{\"id\":\"1006\",\"type\":\"LinearScale\"},\"y_range\":{\"id\":\"1004\",\"type\":\"DataRange1d\"},\"y_scale\":{\"id\":\"1008\",\"type\":\"LogScale\"}},\"id\":\"1001\",\"subtype\":\"Figure\",\"type\":\"Plot\"},{\"attributes\":{},\"id\":\"1025\",\"type\":\"HelpTool\"},{\"attributes\":{\"axis_label\":\"Z (M)\",\"formatter\":{\"id\":\"1040\",\"type\":\"BasicTickFormatter\"},\"ticker\":{\"id\":\"1011\",\"type\":\"BasicTicker\"}},\"id\":\"1010\",\"type\":\"LinearAxis\"},{\"attributes\":{\"callback\":null,\"data\":{\"x\":[0.0,0.03,0.06,0.09,0.12,0.15,0.18,0.21,0.24,0.27,0.3,0.33,0.36,0.39,0.42,0.45,0.48,0.51,0.54,0.57,0.6,0.63,0.66,0.69,0.72,0.75,0.78,0.81,0.84,0.87,0.9,0.93,0.96,0.99,1.02,1.05,1.08,1.11,1.14,1.17,1.2,1.23,1.26,1.29,1.32,1.35,1.38,1.41,1.44,1.47,1.5,1.53,1.56,1.59,1.62,1.65,1.68,1.71,1.74,1.77,1.8,1.83,1.86,1.89,1.92,1.95,1.98,2.01,2.04,2.07,2.1,2.13,2.16,2.19,2.22,2.25,2.28,2.31,2.34,2.37,2.4,2.43,2.46,2.49,2.52,2.55,2.58,2.61,2.64,2.67,2.7,2.73,2.76,2.79,2.82,2.85,2.88,2.91,2.94,2.97,3.0,3.03,3.06,3.09,3.12,3.15,3.18,3.21,3.24,3.27,3.3,3.33,3.36,3.39,3.42,3.45,3.48,3.51,3.54,3.57,3.6,3.63,3.66,3.69,3.72,3.75,3.78,3.81,3.84,3.87,3.9,3.93,3.96,3.99,4.02,4.05,4.08,4.11,4.14,4.17,4.2,4.23,4.26,4.29,4.32,4.35,4.38,4.41,4.44,4.47,4.5,4.53,4.56,4.59,4.62,4.65,4.68,4.71,4.74,4.77,4.8,4.83,4.86,4.89,4.92,4.95,4.98,5.01,5.04,5.07,5.1,5.13,5.16,5.19,5.22,5.25,5.28,5.31,5.34,5.37,5.4,5.43,5.46,5.49,5.52,5.55,5.58,5.61,5.64,5.67,5.7,5.73,5.76,5.79,5.82,5.85,5.88,5.91,5.94,5.97,6.0,6.03,6.06,6.09,6.12,6.15,6.18,6.21,6.24,6.27,6.3,6.33,6.36,6.39,6.42,6.45,6.48,6.51,6.54,6.57,6.6,6.63,6.66,6.69,6.72,6.75,6.78,6.81,6.84,6.87,6.9,6.93,6.96,6.99,7.02,7.05,7.08,7.11,7.14,7.17,7.2,7.23,7.26,7.29,7.32,7.35,7.38,7.41,7.44,7.47,7.5,7.53,7.56,7.59,7.62,7.65,7.68,7.71,7.74,7.77,7.8,7.83,7.86,7.89,7.92,7.95,7.98,8.01,8.04,8.07,8.1,8.13,8.16,8.19,8.22,8.25,8.28,8.31,8.34,8.37,8.4,8.43,8.46,8.49,8.52,8.55,8.58,8.61,8.64,8.67,8.7,8.73,8.76,8.79,8.82,8.85,8.88,8.91,8.94,8.97,9.0,9.03,9.06,9.09,9.12,9.15,9.18,9.21,9.24,9.27,9.3,9.33,9.36,9.39,9.42,9.45,9.48,9.51,9.54,9.57,9.6,9.63,9.66,9.69,9.72,9.75,9.78,9.81,9.84,9.87,9.9,9.93,9.96,9.99,10.02,10.05,10.08,10.11,10.14,10.17,10.2,10.23,10.26,10.29,10.32,10.35,10.38,10.41,10.44,10.47,10.5,10.53,10.56,10.59,10.62,10.65,10.68,10.71,10.74,10.77,10.8,10.83,10.86,10.89,10.92,10.95,10.98,11.01,11.04,11.07,11.1,11.13,11.16,11.19,11.22,11.25,11.28,11.31,11.34,11.37,11.4,11.43,11.46,11.49,11.52,11.55,11.58,11.61,11.64,11.67,11.7,11.73,11.76,11.79,11.82,11.85,11.88,11.91,11.94,11.97,12.0,12.03,12.06,12.09,12.12,12.15,12.18,12.21,12.24,12.27,12.3,12.33,12.36,12.39,12.42,12.45,12.48,12.51,12.54,12.57,12.6,12.63,12.66,12.69,12.72,12.75,12.78,12.81,12.84,12.87,12.9,12.93,12.96,12.99,13.02,13.05,13.08,13.11,13.14,13.17,13.2,13.23,13.26,13.29,13.32,13.35,13.38,13.41,13.44,13.47,13.5,13.53,13.56,13.59,13.62,13.65,13.68,13.71,13.74,13.77,13.8,13.83,13.86,13.89,13.92,13.95,13.98,14.01,14.04,14.07,14.1,14.13,14.16,14.19,14.22,14.25,14.28,14.31,14.34,14.37,14.4,14.43,14.46,14.49,14.52,14.55,14.58,14.61,14.64,14.67,14.7,14.73,14.76,14.79,14.82,14.85,14.88,14.91,14.94,14.97,15.0,15.03,15.06,15.09,15.12,15.15,15.18,15.21,15.24,15.27,15.3,15.33,15.36,15.39,15.42,15.45,15.48,15.51,15.54,15.57,15.6,15.63,15.66,15.69,15.72,15.75,15.78,15.81,15.84,15.87,15.9,15.93,15.96,15.99,16.02,16.05,16.08,16.11,16.14,16.17,16.2,16.23,16.26,16.29,16.32,16.35,16.38,16.41,16.44,16.47,16.5,16.53,16.56,16.59,16.62,16.65,16.68,16.71,16.74,16.77,16.8,16.83,16.86,16.89,16.92,16.95,16.98,17.01,17.04,17.07,17.1,17.13,17.16,17.19,17.22,17.25,17.28,17.31,17.34,17.37,17.4,17.43,17.46,17.49,17.52,17.55,17.58,17.61,17.64,17.67,17.7,17.73,17.76,17.79,17.82,17.85,17.88,17.91,17.94,17.97,18.0,18.03,18.06,18.09,18.12,18.15,18.18,18.21,18.24,18.27,18.3,18.33,18.36,18.39,18.42,18.45,18.48,18.51,18.54,18.57,18.6,18.63,18.66,18.69,18.72,18.75,18.78,18.81,18.84,18.87,18.9,18.93,18.96,18.99,19.02,19.05,19.08,19.11,19.14,19.17,19.2,19.23,19.26,19.29,19.32,19.35,19.38,19.41,19.44,19.47,19.5,19.53,19.56,19.59,19.62,19.65,19.68,19.71,19.74,19.77,19.8,19.83,19.86,19.89,19.92,19.95,19.98,20.01,20.04,20.07,20.1,20.13,20.16,20.19,20.22,20.25,20.28,20.31,20.34,20.37,20.4,20.43,20.46,20.49,20.52,20.55,20.58,20.61,20.64,20.67,20.7,20.73,20.76,20.79,20.82,20.85,20.88,20.91,20.94,20.97,21.0,21.03,21.06,21.09,21.12,21.15,21.18,21.21,21.24,21.27,21.3,21.33,21.36,21.39,21.42,21.45,21.48,21.51,21.54,21.57,21.6,21.63,21.66,21.69,21.72,21.75,21.78,21.81,21.84,21.87,21.9,21.93,21.96,21.99,22.02,22.05,22.08,22.11,22.14,22.17,22.2,22.23,22.26,22.29,22.32,22.35,22.38,22.41,22.44,22.47,22.5,22.53,22.56,22.59,22.62,22.65,22.68,22.71,22.74,22.77,22.8,22.83,22.86,22.89,22.92,22.95,22.98,23.01,23.04,23.07,23.1,23.13,23.16,23.19,23.22,23.25,23.28,23.31,23.34,23.37,23.4,23.43,23.46,23.49,23.52,23.55,23.58,23.61,23.64,23.67,23.7,23.73,23.76,23.79,23.82,23.85,23.88,23.91,23.94,23.97,24.0,24.03,24.06,24.09,24.12,24.15,24.18,24.21,24.24,24.27,24.3,24.33,24.36,24.39,24.42,24.45,24.48,24.51,24.54,24.57,24.6,24.63,24.66,24.69,24.72,24.75,24.78,24.81,24.84,24.87,24.9,24.93,24.96,24.99,25.02,25.05,25.08,25.11,25.14,25.17,25.2,25.23,25.26,25.29,25.32,25.35,25.38,25.41,25.44,25.47,25.5,25.53,25.56,25.59,25.62,25.65,25.68,25.71,25.74,25.77,25.8,25.83,25.86,25.89,25.92,25.95,25.98,26.01,26.04,26.07,26.1,26.13,26.16,26.19,26.22,26.25,26.28,26.31,26.34,26.37,26.4,26.43,26.46,26.49,26.52,26.55,26.58,26.61,26.64,26.67,26.7,26.73,26.76,26.79,26.82,26.85,26.88,26.91,26.94,26.97,27.0,27.03,27.06,27.09,27.12,27.15,27.18,27.21,27.24,27.27,27.3,27.33,27.36,27.39,27.42,27.45,27.48,27.51,27.54,27.57,27.6,27.63,27.66,27.69,27.72,27.75,27.78,27.81,27.84,27.87,27.9,27.93,27.96,27.99,28.02,28.05,28.08,28.11,28.14,28.17,28.2,28.23,28.26,28.29,28.32,28.35,28.38,28.41,28.44,28.47,28.5,28.53,28.56,28.59,28.62,28.65,28.68,28.71,28.74,28.77,28.8,28.83,28.86,28.89,28.92,28.95,28.98,29.01,29.04,29.07,29.1,29.13,29.16,29.19,29.22,29.25,29.28,29.31,29.34,29.37,29.4,29.43,29.46,29.49,29.52,29.55,29.58,29.61,29.64,29.67,29.7,29.73,29.76,29.79,29.82,29.85,29.88,29.91,29.94,29.97,30.0,30.03,30.06,30.09,30.12,30.15,30.18,30.21,30.24,30.27,30.3,30.33,30.36,30.39,30.42,30.45,30.48,30.51,30.54,30.57,30.6,30.63,30.66,30.69,30.72,30.75,30.78,30.81,30.84,30.87,30.9,30.93,30.96,30.99,31.02,31.05,31.08,31.11,31.14,31.17,31.2,31.23,31.26,31.29,31.32,31.35,31.38,31.41,31.44,31.47,31.5,31.53,31.56,31.59,31.62,31.65,31.68,31.71,31.74,31.77,31.8,31.83,31.86,31.89,31.92,31.95,31.98,32.01,32.04,32.07,32.1,32.13,32.16,32.19,32.22,32.25,32.28,32.31,32.34,32.37,32.4,32.43,32.46,32.49,32.52,32.55,32.58,32.61,32.64,32.67,32.7,32.73,32.76,32.79,32.82,32.85,32.88,32.91,32.94,32.97,33.0,33.03,33.06,33.09,33.12,33.15,33.18,33.21,33.24,33.27,33.3,33.33,33.36,33.39,33.42,33.45,33.48,33.51,33.54,33.57,33.6,33.63,33.66,33.69,33.72,33.75,33.78,33.81,33.84,33.87,33.9,33.93,33.96,33.99,34.02,34.05,34.08,34.11,34.14,34.17,34.2,34.23,34.26,34.29,34.32,34.35,34.38,34.41,34.44,34.47,34.5,34.53,34.56,34.59,34.62,34.65,34.68,34.71,34.74,34.77,34.8,34.83,34.86,34.89,34.92,34.95,34.98,35.01,35.04,35.07,35.1,35.13,35.16,35.19,35.22,35.25,35.28,35.31,35.34,35.37,35.4,35.43,35.46,35.49,35.52,35.55,35.58,35.61,35.64,35.67,35.7,35.73,35.76,35.79,35.82,35.85,35.88,35.91,35.94,35.97,36.0,36.03,36.06,36.09,36.12,36.15,36.18,36.21,36.24,36.27,36.3,36.33,36.36,36.39,36.42,36.45,36.48,36.51,36.54,36.57,36.6,36.63,36.66,36.69,36.72,36.75,36.78,36.81,36.84,36.87,36.9,36.93,36.96,36.99,37.02,37.05,37.08,37.11,37.14,37.17,37.2,37.23,37.26,37.29,37.32,37.35,37.38,37.41,37.44,37.47,37.5,37.53,37.56,37.59,37.62,37.65,37.68,37.71,37.74,37.77,37.8,37.83,37.86,37.89,37.92,37.95,37.98,38.01,38.04,38.07,38.1,38.13,38.16,38.19,38.22,38.25,38.28,38.31,38.34,38.37,38.4,38.43,38.46,38.49,38.52,38.55,38.58,38.61,38.64,38.67,38.7,38.73,38.76,38.79,38.82,38.85,38.88,38.91,38.94,38.97,39.0,39.03,39.06,39.09,39.12,39.15,39.18,39.21,39.24,39.27,39.3,39.33,39.36,39.39,39.42,39.45,39.48,39.51,39.54,39.57,39.6,39.63,39.66,39.69,39.72,39.75,39.78,39.81,39.84,39.87,39.9,39.93,39.96,39.99,40.02,40.05,40.08,40.11,40.14,40.17,40.2,40.23,40.26,40.29,40.32,40.35,40.38,40.41,40.44,40.47,40.5,40.53,40.56,40.59,40.62,40.65,40.68,40.71,40.74,40.77,40.8,40.83,40.86,40.89,40.92,40.95,40.98,41.01,41.04,41.07,41.1,41.13,41.16,41.19,41.22,41.25,41.28,41.31,41.34,41.37,41.4,41.43,41.46,41.49,41.52,41.55,41.58,41.61,41.64,41.67,41.7,41.73,41.76,41.79,41.82,41.85,41.88,41.91,41.94,41.97,42.0,42.03,42.06,42.09,42.12,42.15,42.18,42.21,42.24,42.27,42.3,42.33,42.36,42.39,42.42,42.45,42.48,42.51,42.54,42.57,42.6,42.63,42.66,42.69,42.72,42.75,42.78,42.81,42.84,42.87,42.9,42.93,42.96,42.99,43.02,43.05,43.08,43.11,43.14,43.17,43.2,43.23,43.26,43.29,43.32,43.35,43.38,43.41,43.44,43.47,43.5,43.53,43.56,43.59,43.62,43.65,43.68,43.71,43.74,43.77,43.8,43.83,43.86,43.89,43.92,43.95,43.98,44.01,44.04,44.07,44.1,44.13,44.16,44.19,44.22,44.25,44.28,44.31,44.34,44.37,44.4,44.43,44.46,44.49,44.52,44.55,44.58,44.61,44.64,44.67,44.7,44.73,44.76,44.79,44.82,44.85,44.88,44.91,44.94,44.97,45.0,45.03,45.06,45.09,45.12,45.15,45.18,45.21,45.24,45.27,45.3,45.33,45.36,45.39,45.42,45.45,45.48,45.51,45.54,45.57,45.6,45.63,45.66,45.69,45.72,45.75,45.78,45.81,45.84,45.87,45.9,45.93,45.96,45.99,46.02,46.05,46.08,46.11,46.14,46.17,46.2,46.23,46.26,46.29,46.32,46.35,46.38,46.41,46.44,46.47,46.5,46.53,46.56,46.59,46.62,46.65,46.68,46.71,46.74,46.77,46.8],\"y\":{\"__ndarray__\":\"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\",\"dtype\":\"float64\",\"shape\":[1561]}},\"selected\":{\"id\":\"1046\",\"type\":\"Selection\"},\"selection_policy\":{\"id\":\"1045\",\"type\":\"UnionRenderers\"}},\"id\":\"1033\",\"type\":\"ColumnDataSource\"},{\"attributes\":{\"bottom_units\":\"screen\",\"fill_alpha\":{\"value\":0.5},\"fill_color\":{\"value\":\"lightgrey\"},\"left_units\":\"screen\",\"level\":\"overlay\",\"line_alpha\":{\"value\":1.0},\"line_color\":{\"value\":\"black\"},\"line_dash\":[4,4],\"line_width\":{\"value\":2},\"render_mode\":\"css\",\"right_units\":\"screen\",\"top_units\":\"screen\"},\"id\":\"1044\",\"type\":\"BoxAnnotation\"},{\"attributes\":{\"num_minor_ticks\":10},\"id\":\"1016\",\"type\":\"LogTicker\"},{\"attributes\":{\"ticker\":null},\"id\":\"1042\",\"type\":\"LogTickFormatter\"},{\"attributes\":{},\"id\":\"1008\",\"type\":\"LogScale\"},{\"attributes\":{},\"id\":\"1011\",\"type\":\"BasicTicker\"},{\"attributes\":{\"ticker\":{\"id\":\"1011\",\"type\":\"BasicTicker\"}},\"id\":\"1014\",\"type\":\"Grid\"},{\"attributes\":{\"source\":{\"id\":\"1033\",\"type\":\"ColumnDataSource\"}},\"id\":\"1037\",\"type\":\"CDSView\"},{\"attributes\":{\"dimension\":1,\"ticker\":{\"id\":\"1016\",\"type\":\"LogTicker\"}},\"id\":\"1019\",\"type\":\"Grid\"},{\"attributes\":{},\"id\":\"1045\",\"type\":\"UnionRenderers\"},{\"attributes\":{\"axis_label\":\"power (W)\",\"formatter\":{\"id\":\"1042\",\"type\":\"LogTickFormatter\"},\"ticker\":{\"id\":\"1016\",\"type\":\"LogTicker\"}},\"id\":\"1015\",\"type\":\"LogAxis\"},{\"attributes\":{},\"id\":\"1046\",\"type\":\"Selection\"},{\"attributes\":{\"active_drag\":\"auto\",\"active_inspect\":\"auto\",\"active_multi\":null,\"active_scroll\":\"auto\",\"active_tap\":\"auto\",\"tools\":[{\"id\":\"1020\",\"type\":\"PanTool\"},{\"id\":\"1021\",\"type\":\"WheelZoomTool\"},{\"id\":\"1022\",\"type\":\"BoxZoomTool\"},{\"id\":\"1023\",\"type\":\"SaveTool\"},{\"id\":\"1024\",\"type\":\"ResetTool\"},{\"id\":\"1025\",\"type\":\"HelpTool\"}]},\"id\":\"1026\",\"type\":\"Toolbar\"},{\"attributes\":{\"line_alpha\":0.1,\"line_color\":\"#1f77b4\",\"line_width\":2,\"x\":{\"field\":\"x\"},\"y\":{\"field\":\"y\"}},\"id\":\"1035\",\"type\":\"Line\"},{\"attributes\":{\"callback\":null},\"id\":\"1002\",\"type\":\"DataRange1d\"},{\"attributes\":{},\"id\":\"1006\",\"type\":\"LinearScale\"},{\"attributes\":{},\"id\":\"1040\",\"type\":\"BasicTickFormatter\"},{\"attributes\":{},\"id\":\"1020\",\"type\":\"PanTool\"},{\"attributes\":{\"data_source\":{\"id\":\"1033\",\"type\":\"ColumnDataSource\"},\"glyph\":{\"id\":\"1034\",\"type\":\"Line\"},\"hover_glyph\":null,\"muted_glyph\":null,\"nonselection_glyph\":{\"id\":\"1035\",\"type\":\"Line\"},\"selection_glyph\":null,\"view\":{\"id\":\"1037\",\"type\":\"CDSView\"}},\"id\":\"1036\",\"type\":\"GlyphRenderer\"},{\"attributes\":{\"line_color\":\"#1f77b4\",\"line_width\":2,\"x\":{\"field\":\"x\"},\"y\":{\"field\":\"y\"}},\"id\":\"1034\",\"type\":\"Line\"},{\"attributes\":{\"callback\":null},\"id\":\"1004\",\"type\":\"DataRange1d\"},{\"attributes\":{},\"id\":\"1021\",\"type\":\"WheelZoomTool\"},{\"attributes\":{\"overlay\":{\"id\":\"1044\",\"type\":\"BoxAnnotation\"}},\"id\":\"1022\",\"type\":\"BoxZoomTool\"},{\"attributes\":{},\"id\":\"1023\",\"type\":\"SaveTool\"},{\"attributes\":{\"text\":\"\"},\"id\":\"1039\",\"type\":\"Title\"},{\"attributes\":{},\"id\":\"1024\",\"type\":\"ResetTool\"}],\"root_ids\":[\"1001\"]},\"title\":\"Bokeh Application\",\"version\":\"1.4.0\"}};\n",
       "  var render_items = [{\"docid\":\"c786cb5f-33c9-49ca-a51c-5d29e3f98c54\",\"roots\":{\"1001\":\"aef6ad9b-1cfa-4bc4-9c3d-b44712ebfbf3\"}}];\n",
       "  root.Bokeh.embed.embed_items_notebook(docs_json, render_items);\n",
       "\n",
       "  }\n",
       "  if (root.Bokeh !== undefined) {\n",
       "    embed_document(root);\n",
       "  } else {\n",
       "    var attempts = 0;\n",
       "    var timer = setInterval(function(root) {\n",
       "      if (root.Bokeh !== undefined) {\n",
       "        clearInterval(timer);\n",
       "        embed_document(root);\n",
       "      } else {\n",
       "        attempts++;\n",
       "        if (attempts > 100) {\n",
       "          clearInterval(timer);\n",
       "          console.log(\"Bokeh: ERROR: Unable to run BokehJS code because BokehJS library is missing\");\n",
       "        }\n",
       "      }\n",
       "    }, 10, root)\n",
       "  }\n",
       "})(window);"
      ],
      "application/vnd.bokehjs_exec.v0+json": ""
     },
     "metadata": {
      "application/vnd.bokehjs_exec.v0+json": {
       "id": "1001"
      }
     },
     "output_type": "display_data"
    }
   ],
   "source": [
    "# Test Bokeh plotting\n",
    "from bokeh.plotting import figure, output_file, show, output_notebook\n",
    "\n",
    "#output_file(\"line.html\")\n",
    "output_notebook(verbose=False, hide_banner=True)\n",
    "\n",
    "p = figure(plot_width=800, plot_height=400, y_axis_type='log')\n",
    "\n",
    "# add a line renderer\n",
    "p.line(zlist, mydat, line_width=2)\n",
    "\n",
    "p.xaxis.axis_label = 'Z (M)'\n",
    "p.yaxis.axis_label = 'power (W)'\n",
    "\n",
    "show(p)"
   ]
  },
  {
   "cell_type": "markdown",
   "metadata": {},
   "source": [
    "# Particle file"
   ]
  },
  {
   "cell_type": "code",
   "execution_count": 17,
   "metadata": {},
   "outputs": [],
   "source": [
    "%matplotlib inline\n",
    "\n",
    "import matplotlib.pyplot as plt\n",
    "plt.rcParams['figure.figsize'] = [8,8]\n",
    "import numpy as np\n",
    "import os\n",
    "import time"
   ]
  },
  {
   "cell_type": "code",
   "execution_count": 18,
   "metadata": {},
   "outputs": [
    {
     "data": {
      "text/plain": [
       "'/var/folders/wj/lfgr01993dx79p9cm_skykbw0000gn/T/tmpz7m1uyqi/genesis.out.par'"
      ]
     },
     "execution_count": 18,
     "metadata": {},
     "output_type": "execute_result"
    }
   ],
   "source": [
    "fname = G.path+'/genesis.out.par'\n",
    "fname"
   ]
  },
  {
   "cell_type": "code",
   "execution_count": 19,
   "metadata": {},
   "outputs": [
    {
     "data": {
      "text/plain": [
       "157"
      ]
     },
     "execution_count": 19,
     "metadata": {},
     "output_type": "execute_result"
    }
   ],
   "source": [
    "pdat = np.fromfile(fname, dtype=np.float).astype(float)\n",
    "npart = G.input['npart']\n",
    "nbunch = int(len(pdat)/6/npart)\n",
    "nbunch"
   ]
  },
  {
   "cell_type": "code",
   "execution_count": 20,
   "metadata": {},
   "outputs": [],
   "source": [
    "# gamma, phase, x, y, px/mc, py/mc\n",
    "b = pdat.reshape(nbunch,6,npart)"
   ]
  },
  {
   "cell_type": "code",
   "execution_count": 21,
   "metadata": {},
   "outputs": [
    {
     "data": {
      "text/plain": [
       "2048"
      ]
     },
     "execution_count": 21,
     "metadata": {},
     "output_type": "execute_result"
    }
   ],
   "source": [
    "len(b[0][2])"
   ]
  },
  {
   "cell_type": "code",
   "execution_count": 22,
   "metadata": {},
   "outputs": [
    {
     "data": {
      "image/png": "[encoded data removed]",
      "text/plain": [
       "<Figure size 576x576 with 1 Axes>"
      ]
     },
     "metadata": {
      "needs_background": "light"
     },
     "output_type": "display_data"
    }
   ],
   "source": [
    "p = b[-1]\n",
    "plt.hist2d(p[1]% (2*np.pi), 0.511*p[0], bins=[100,100], cmap=plt.get_cmap('plasma'))\n",
    "plt.xlabel('phase')\n",
    "plt.ylabel('energy (MeV)')\n",
    "plt.savefig('frame.png')\n",
    "plt.show()"
   ]
  },
  {
   "cell_type": "code",
   "execution_count": 23,
   "metadata": {},
   "outputs": [
    {
     "data": {
      "image/png": "[encoded data removed]",
      "text/plain": [
       "<Figure size 576x576 with 1 Axes>"
      ]
     },
     "metadata": {
      "needs_background": "light"
     },
     "output_type": "display_data"
    }
   ],
   "source": [
    "def frame(i, ):\n",
    "    p = b[i]\n",
    "    plt.hist2d(p[1]% (2*np.pi), 0.511*p[0], bins=[200,200], cmap=plt.get_cmap('plasma'))\n",
    "    plt.xlabel('phase')\n",
    "    plt.ylabel('energy (MeV)')\n",
    "    plt.savefig('frame_'+str(i)+'.png')\n",
    "    \n",
    "frame(100)"
   ]
  },
  {
   "cell_type": "code",
   "execution_count": 24,
   "metadata": {},
   "outputs": [
    {
     "ename": "KeyboardInterrupt",
     "evalue": "",
     "output_type": "error",
     "traceback": [
      "\u001b[0;31m---------------------------------------------------------------------------\u001b[0m",
      "\u001b[0;31mKeyboardInterrupt\u001b[0m                         Traceback (most recent call last)",
      "\u001b[0;32m<ipython-input-24-d4c5c7b137c7>\u001b[0m in \u001b[0;36m<module>\u001b[0;34m\u001b[0m\n\u001b[1;32m      1\u001b[0m \u001b[0;31m# Make frames\u001b[0m\u001b[0;34m\u001b[0m\u001b[0;34m\u001b[0m\u001b[0;34m\u001b[0m\u001b[0m\n\u001b[1;32m      2\u001b[0m \u001b[0;32mfor\u001b[0m \u001b[0mi\u001b[0m \u001b[0;32min\u001b[0m \u001b[0mrange\u001b[0m\u001b[0;34m(\u001b[0m\u001b[0mnbunch\u001b[0m\u001b[0;34m)\u001b[0m\u001b[0;34m:\u001b[0m\u001b[0;34m\u001b[0m\u001b[0;34m\u001b[0m\u001b[0m\n\u001b[0;32m----> 3\u001b[0;31m     \u001b[0mframe\u001b[0m\u001b[0;34m(\u001b[0m\u001b[0mi\u001b[0m\u001b[0;34m)\u001b[0m\u001b[0;34m;\u001b[0m\u001b[0;34m\u001b[0m\u001b[0;34m\u001b[0m\u001b[0m\n\u001b[0m",
      "\u001b[0;32m<ipython-input-23-afbf3b707012>\u001b[0m in \u001b[0;36mframe\u001b[0;34m(i)\u001b[0m\n\u001b[1;32m      4\u001b[0m     \u001b[0mplt\u001b[0m\u001b[0;34m.\u001b[0m\u001b[0mxlabel\u001b[0m\u001b[0;34m(\u001b[0m\u001b[0;34m'phase'\u001b[0m\u001b[0;34m)\u001b[0m\u001b[0;34m\u001b[0m\u001b[0;34m\u001b[0m\u001b[0m\n\u001b[1;32m      5\u001b[0m     \u001b[0mplt\u001b[0m\u001b[0;34m.\u001b[0m\u001b[0mylabel\u001b[0m\u001b[0;34m(\u001b[0m\u001b[0;34m'energy (MeV)'\u001b[0m\u001b[0;34m)\u001b[0m\u001b[0;34m\u001b[0m\u001b[0;34m\u001b[0m\u001b[0m\n\u001b[0;32m----> 6\u001b[0;31m     \u001b[0mplt\u001b[0m\u001b[0;34m.\u001b[0m\u001b[0msavefig\u001b[0m\u001b[0;34m(\u001b[0m\u001b[0;34m'frame_'\u001b[0m\u001b[0;34m+\u001b[0m\u001b[0mstr\u001b[0m\u001b[0;34m(\u001b[0m\u001b[0mi\u001b[0m\u001b[0;34m)\u001b[0m\u001b[0;34m+\u001b[0m\u001b[0;34m'.png'\u001b[0m\u001b[0;34m)\u001b[0m\u001b[0;34m\u001b[0m\u001b[0;34m\u001b[0m\u001b[0m\n\u001b[0m\u001b[1;32m      7\u001b[0m \u001b[0;34m\u001b[0m\u001b[0m\n\u001b[1;32m      8\u001b[0m \u001b[0mframe\u001b[0m\u001b[0;34m(\u001b[0m\u001b[0;36m100\u001b[0m\u001b[0;34m)\u001b[0m\u001b[0;34m\u001b[0m\u001b[0;34m\u001b[0m\u001b[0m\n",
      "\u001b[0;32m~/Code/miniconda3/envs/devel/lib/python3.7/site-packages/matplotlib/pyplot.py\u001b[0m in \u001b[0;36msavefig\u001b[0;34m(*args, **kwargs)\u001b[0m\n\u001b[1;32m    728\u001b[0m     \u001b[0mfig\u001b[0m \u001b[0;34m=\u001b[0m \u001b[0mgcf\u001b[0m\u001b[0;34m(\u001b[0m\u001b[0;34m)\u001b[0m\u001b[0;34m\u001b[0m\u001b[0;34m\u001b[0m\u001b[0m\n\u001b[1;32m    729\u001b[0m     \u001b[0mres\u001b[0m \u001b[0;34m=\u001b[0m \u001b[0mfig\u001b[0m\u001b[0;34m.\u001b[0m\u001b[0msavefig\u001b[0m\u001b[0;34m(\u001b[0m\u001b[0;34m*\u001b[0m\u001b[0margs\u001b[0m\u001b[0;34m,\u001b[0m \u001b[0;34m**\u001b[0m\u001b[0mkwargs\u001b[0m\u001b[0;34m)\u001b[0m\u001b[0;34m\u001b[0m\u001b[0;34m\u001b[0m\u001b[0m\n\u001b[0;32m--> 730\u001b[0;31m     \u001b[0mfig\u001b[0m\u001b[0;34m.\u001b[0m\u001b[0mcanvas\u001b[0m\u001b[0;34m.\u001b[0m\u001b[0mdraw_idle\u001b[0m\u001b[0;34m(\u001b[0m\u001b[0;34m)\u001b[0m   \u001b[0;31m# need this if 'transparent=True' to reset colors\u001b[0m\u001b[0;34m\u001b[0m\u001b[0;34m\u001b[0m\u001b[0m\n\u001b[0m\u001b[1;32m    731\u001b[0m     \u001b[0;32mreturn\u001b[0m \u001b[0mres\u001b[0m\u001b[0;34m\u001b[0m\u001b[0;34m\u001b[0m\u001b[0m\n\u001b[1;32m    732\u001b[0m \u001b[0;34m\u001b[0m\u001b[0m\n",
      "\u001b[0;32m~/Code/miniconda3/envs/devel/lib/python3.7/site-packages/matplotlib/backend_bases.py\u001b[0m in \u001b[0;36mdraw_idle\u001b[0;34m(self, *args, **kwargs)\u001b[0m\n\u001b[1;32m   1914\u001b[0m         \u001b[0;32mif\u001b[0m \u001b[0;32mnot\u001b[0m \u001b[0mself\u001b[0m\u001b[0;34m.\u001b[0m\u001b[0m_is_idle_drawing\u001b[0m\u001b[0;34m:\u001b[0m\u001b[0;34m\u001b[0m\u001b[0;34m\u001b[0m\u001b[0m\n\u001b[1;32m   1915\u001b[0m             \u001b[0;32mwith\u001b[0m \u001b[0mself\u001b[0m\u001b[0;34m.\u001b[0m\u001b[0m_idle_draw_cntx\u001b[0m\u001b[0;34m(\u001b[0m\u001b[0;34m)\u001b[0m\u001b[0;34m:\u001b[0m\u001b[0;34m\u001b[0m\u001b[0;34m\u001b[0m\u001b[0m\n\u001b[0;32m-> 1916\u001b[0;31m                 \u001b[0mself\u001b[0m\u001b[0;34m.\u001b[0m\u001b[0mdraw\u001b[0m\u001b[0;34m(\u001b[0m\u001b[0;34m*\u001b[0m\u001b[0margs\u001b[0m\u001b[0;34m,\u001b[0m \u001b[0;34m**\u001b[0m\u001b[0mkwargs\u001b[0m\u001b[0;34m)\u001b[0m\u001b[0;34m\u001b[0m\u001b[0;34m\u001b[0m\u001b[0m\n\u001b[0m\u001b[1;32m   1917\u001b[0m \u001b[0;34m\u001b[0m\u001b[0m\n\u001b[1;32m   1918\u001b[0m     \u001b[0;32mdef\u001b[0m \u001b[0mdraw_cursor\u001b[0m\u001b[0;34m(\u001b[0m\u001b[0mself\u001b[0m\u001b[0;34m,\u001b[0m \u001b[0mevent\u001b[0m\u001b[0;34m)\u001b[0m\u001b[0;34m:\u001b[0m\u001b[0;34m\u001b[0m\u001b[0;34m\u001b[0m\u001b[0m\n",
      "\u001b[0;32m~/Code/miniconda3/envs/devel/lib/python3.7/site-packages/matplotlib/backends/backend_agg.py\u001b[0m in \u001b[0;36mdraw\u001b[0;34m(self)\u001b[0m\n\u001b[1;32m    386\u001b[0m         \u001b[0mself\u001b[0m\u001b[0;34m.\u001b[0m\u001b[0mrenderer\u001b[0m \u001b[0;34m=\u001b[0m \u001b[0mself\u001b[0m\u001b[0;34m.\u001b[0m\u001b[0mget_renderer\u001b[0m\u001b[0;34m(\u001b[0m\u001b[0mcleared\u001b[0m\u001b[0;34m=\u001b[0m\u001b[0;32mTrue\u001b[0m\u001b[0;34m)\u001b[0m\u001b[0;34m\u001b[0m\u001b[0;34m\u001b[0m\u001b[0m\n\u001b[1;32m    387\u001b[0m         \u001b[0;32mwith\u001b[0m \u001b[0mRendererAgg\u001b[0m\u001b[0;34m.\u001b[0m\u001b[0mlock\u001b[0m\u001b[0;34m:\u001b[0m\u001b[0;34m\u001b[0m\u001b[0;34m\u001b[0m\u001b[0m\n\u001b[0;32m--> 388\u001b[0;31m             \u001b[0mself\u001b[0m\u001b[0;34m.\u001b[0m\u001b[0mfigure\u001b[0m\u001b[0;34m.\u001b[0m\u001b[0mdraw\u001b[0m\u001b[0;34m(\u001b[0m\u001b[0mself\u001b[0m\u001b[0;34m.\u001b[0m\u001b[0mrenderer\u001b[0m\u001b[0;34m)\u001b[0m\u001b[0;34m\u001b[0m\u001b[0;34m\u001b[0m\u001b[0m\n\u001b[0m\u001b[1;32m    389\u001b[0m             \u001b[0;31m# A GUI class may be need to update a window using this draw, so\u001b[0m\u001b[0;34m\u001b[0m\u001b[0;34m\u001b[0m\u001b[0;34m\u001b[0m\u001b[0m\n\u001b[1;32m    390\u001b[0m             \u001b[0;31m# don't forget to call the superclass.\u001b[0m\u001b[0;34m\u001b[0m\u001b[0;34m\u001b[0m\u001b[0;34m\u001b[0m\u001b[0m\n",
      "\u001b[0;32m~/Code/miniconda3/envs/devel/lib/python3.7/site-packages/matplotlib/artist.py\u001b[0m in \u001b[0;36mdraw_wrapper\u001b[0;34m(artist, renderer, *args, **kwargs)\u001b[0m\n\u001b[1;32m     36\u001b[0m                 \u001b[0mrenderer\u001b[0m\u001b[0;34m.\u001b[0m\u001b[0mstart_filter\u001b[0m\u001b[0;34m(\u001b[0m\u001b[0;34m)\u001b[0m\u001b[0;34m\u001b[0m\u001b[0;34m\u001b[0m\u001b[0m\n\u001b[1;32m     37\u001b[0m \u001b[0;34m\u001b[0m\u001b[0m\n\u001b[0;32m---> 38\u001b[0;31m             \u001b[0;32mreturn\u001b[0m \u001b[0mdraw\u001b[0m\u001b[0;34m(\u001b[0m\u001b[0martist\u001b[0m\u001b[0;34m,\u001b[0m \u001b[0mrenderer\u001b[0m\u001b[0;34m,\u001b[0m \u001b[0;34m*\u001b[0m\u001b[0margs\u001b[0m\u001b[0;34m,\u001b[0m \u001b[0;34m**\u001b[0m\u001b[0mkwargs\u001b[0m\u001b[0;34m)\u001b[0m\u001b[0;34m\u001b[0m\u001b[0;34m\u001b[0m\u001b[0m\n\u001b[0m\u001b[1;32m     39\u001b[0m         \u001b[0;32mfinally\u001b[0m\u001b[0;34m:\u001b[0m\u001b[0;34m\u001b[0m\u001b[0;34m\u001b[0m\u001b[0m\n\u001b[1;32m     40\u001b[0m             \u001b[0;32mif\u001b[0m \u001b[0martist\u001b[0m\u001b[0;34m.\u001b[0m\u001b[0mget_agg_filter\u001b[0m\u001b[0;34m(\u001b[0m\u001b[0;34m)\u001b[0m \u001b[0;32mis\u001b[0m \u001b[0;32mnot\u001b[0m \u001b[0;32mNone\u001b[0m\u001b[0;34m:\u001b[0m\u001b[0;34m\u001b[0m\u001b[0;34m\u001b[0m\u001b[0m\n",
      "\u001b[0;32m~/Code/miniconda3/envs/devel/lib/python3.7/site-packages/matplotlib/figure.py\u001b[0m in \u001b[0;36mdraw\u001b[0;34m(self, renderer)\u001b[0m\n\u001b[1;32m   1707\u001b[0m             \u001b[0mself\u001b[0m\u001b[0;34m.\u001b[0m\u001b[0mpatch\u001b[0m\u001b[0;34m.\u001b[0m\u001b[0mdraw\u001b[0m\u001b[0;34m(\u001b[0m\u001b[0mrenderer\u001b[0m\u001b[0;34m)\u001b[0m\u001b[0;34m\u001b[0m\u001b[0;34m\u001b[0m\u001b[0m\n\u001b[1;32m   1708\u001b[0m             mimage._draw_list_compositing_images(\n\u001b[0;32m-> 1709\u001b[0;31m                 renderer, self, artists, self.suppressComposite)\n\u001b[0m\u001b[1;32m   1710\u001b[0m \u001b[0;34m\u001b[0m\u001b[0m\n\u001b[1;32m   1711\u001b[0m             \u001b[0mrenderer\u001b[0m\u001b[0;34m.\u001b[0m\u001b[0mclose_group\u001b[0m\u001b[0;34m(\u001b[0m\u001b[0;34m'figure'\u001b[0m\u001b[0;34m)\u001b[0m\u001b[0;34m\u001b[0m\u001b[0;34m\u001b[0m\u001b[0m\n",
      "\u001b[0;32m~/Code/miniconda3/envs/devel/lib/python3.7/site-packages/matplotlib/image.py\u001b[0m in \u001b[0;36m_draw_list_compositing_images\u001b[0;34m(renderer, parent, artists, suppress_composite)\u001b[0m\n\u001b[1;32m    133\u001b[0m     \u001b[0;32mif\u001b[0m \u001b[0mnot_composite\u001b[0m \u001b[0;32mor\u001b[0m \u001b[0;32mnot\u001b[0m \u001b[0mhas_images\u001b[0m\u001b[0;34m:\u001b[0m\u001b[0;34m\u001b[0m\u001b[0;34m\u001b[0m\u001b[0m\n\u001b[1;32m    134\u001b[0m         \u001b[0;32mfor\u001b[0m \u001b[0ma\u001b[0m \u001b[0;32min\u001b[0m \u001b[0martists\u001b[0m\u001b[0;34m:\u001b[0m\u001b[0;34m\u001b[0m\u001b[0;34m\u001b[0m\u001b[0m\n\u001b[0;32m--> 135\u001b[0;31m             \u001b[0ma\u001b[0m\u001b[0;34m.\u001b[0m\u001b[0mdraw\u001b[0m\u001b[0;34m(\u001b[0m\u001b[0mrenderer\u001b[0m\u001b[0;34m)\u001b[0m\u001b[0;34m\u001b[0m\u001b[0;34m\u001b[0m\u001b[0m\n\u001b[0m\u001b[1;32m    136\u001b[0m     \u001b[0;32melse\u001b[0m\u001b[0;34m:\u001b[0m\u001b[0;34m\u001b[0m\u001b[0;34m\u001b[0m\u001b[0m\n\u001b[1;32m    137\u001b[0m         \u001b[0;31m# Composite any adjacent images together\u001b[0m\u001b[0;34m\u001b[0m\u001b[0;34m\u001b[0m\u001b[0;34m\u001b[0m\u001b[0m\n",
      "\u001b[0;32m~/Code/miniconda3/envs/devel/lib/python3.7/site-packages/matplotlib/artist.py\u001b[0m in \u001b[0;36mdraw_wrapper\u001b[0;34m(artist, renderer, *args, **kwargs)\u001b[0m\n\u001b[1;32m     36\u001b[0m                 \u001b[0mrenderer\u001b[0m\u001b[0;34m.\u001b[0m\u001b[0mstart_filter\u001b[0m\u001b[0;34m(\u001b[0m\u001b[0;34m)\u001b[0m\u001b[0;34m\u001b[0m\u001b[0;34m\u001b[0m\u001b[0m\n\u001b[1;32m     37\u001b[0m \u001b[0;34m\u001b[0m\u001b[0m\n\u001b[0;32m---> 38\u001b[0;31m             \u001b[0;32mreturn\u001b[0m \u001b[0mdraw\u001b[0m\u001b[0;34m(\u001b[0m\u001b[0martist\u001b[0m\u001b[0;34m,\u001b[0m \u001b[0mrenderer\u001b[0m\u001b[0;34m,\u001b[0m \u001b[0;34m*\u001b[0m\u001b[0margs\u001b[0m\u001b[0;34m,\u001b[0m \u001b[0;34m**\u001b[0m\u001b[0mkwargs\u001b[0m\u001b[0;34m)\u001b[0m\u001b[0;34m\u001b[0m\u001b[0;34m\u001b[0m\u001b[0m\n\u001b[0m\u001b[1;32m     39\u001b[0m         \u001b[0;32mfinally\u001b[0m\u001b[0;34m:\u001b[0m\u001b[0;34m\u001b[0m\u001b[0;34m\u001b[0m\u001b[0m\n\u001b[1;32m     40\u001b[0m             \u001b[0;32mif\u001b[0m \u001b[0martist\u001b[0m\u001b[0;34m.\u001b[0m\u001b[0mget_agg_filter\u001b[0m\u001b[0;34m(\u001b[0m\u001b[0;34m)\u001b[0m \u001b[0;32mis\u001b[0m \u001b[0;32mnot\u001b[0m \u001b[0;32mNone\u001b[0m\u001b[0;34m:\u001b[0m\u001b[0;34m\u001b[0m\u001b[0;34m\u001b[0m\u001b[0m\n",
      "\u001b[0;32m~/Code/miniconda3/envs/devel/lib/python3.7/site-packages/matplotlib/axes/_base.py\u001b[0m in \u001b[0;36mdraw\u001b[0;34m(self, renderer, inframe)\u001b[0m\n\u001b[1;32m   2645\u001b[0m             \u001b[0mrenderer\u001b[0m\u001b[0;34m.\u001b[0m\u001b[0mstop_rasterizing\u001b[0m\u001b[0;34m(\u001b[0m\u001b[0;34m)\u001b[0m\u001b[0;34m\u001b[0m\u001b[0;34m\u001b[0m\u001b[0m\n\u001b[1;32m   2646\u001b[0m \u001b[0;34m\u001b[0m\u001b[0m\n\u001b[0;32m-> 2647\u001b[0;31m         \u001b[0mmimage\u001b[0m\u001b[0;34m.\u001b[0m\u001b[0m_draw_list_compositing_images\u001b[0m\u001b[0;34m(\u001b[0m\u001b[0mrenderer\u001b[0m\u001b[0;34m,\u001b[0m \u001b[0mself\u001b[0m\u001b[0;34m,\u001b[0m \u001b[0martists\u001b[0m\u001b[0;34m)\u001b[0m\u001b[0;34m\u001b[0m\u001b[0;34m\u001b[0m\u001b[0m\n\u001b[0m\u001b[1;32m   2648\u001b[0m \u001b[0;34m\u001b[0m\u001b[0m\n\u001b[1;32m   2649\u001b[0m         \u001b[0mrenderer\u001b[0m\u001b[0;34m.\u001b[0m\u001b[0mclose_group\u001b[0m\u001b[0;34m(\u001b[0m\u001b[0;34m'axes'\u001b[0m\u001b[0;34m)\u001b[0m\u001b[0;34m\u001b[0m\u001b[0;34m\u001b[0m\u001b[0m\n",
      "\u001b[0;32m~/Code/miniconda3/envs/devel/lib/python3.7/site-packages/matplotlib/image.py\u001b[0m in \u001b[0;36m_draw_list_compositing_images\u001b[0;34m(renderer, parent, artists, suppress_composite)\u001b[0m\n\u001b[1;32m    133\u001b[0m     \u001b[0;32mif\u001b[0m \u001b[0mnot_composite\u001b[0m \u001b[0;32mor\u001b[0m \u001b[0;32mnot\u001b[0m \u001b[0mhas_images\u001b[0m\u001b[0;34m:\u001b[0m\u001b[0;34m\u001b[0m\u001b[0;34m\u001b[0m\u001b[0m\n\u001b[1;32m    134\u001b[0m         \u001b[0;32mfor\u001b[0m \u001b[0ma\u001b[0m \u001b[0;32min\u001b[0m \u001b[0martists\u001b[0m\u001b[0;34m:\u001b[0m\u001b[0;34m\u001b[0m\u001b[0;34m\u001b[0m\u001b[0m\n\u001b[0;32m--> 135\u001b[0;31m             \u001b[0ma\u001b[0m\u001b[0;34m.\u001b[0m\u001b[0mdraw\u001b[0m\u001b[0;34m(\u001b[0m\u001b[0mrenderer\u001b[0m\u001b[0;34m)\u001b[0m\u001b[0;34m\u001b[0m\u001b[0;34m\u001b[0m\u001b[0m\n\u001b[0m\u001b[1;32m    136\u001b[0m     \u001b[0;32melse\u001b[0m\u001b[0;34m:\u001b[0m\u001b[0;34m\u001b[0m\u001b[0;34m\u001b[0m\u001b[0m\n\u001b[1;32m    137\u001b[0m         \u001b[0;31m# Composite any adjacent images together\u001b[0m\u001b[0;34m\u001b[0m\u001b[0;34m\u001b[0m\u001b[0;34m\u001b[0m\u001b[0m\n",
      "\u001b[0;32m~/Code/miniconda3/envs/devel/lib/python3.7/site-packages/matplotlib/artist.py\u001b[0m in \u001b[0;36mdraw_wrapper\u001b[0;34m(artist, renderer, *args, **kwargs)\u001b[0m\n\u001b[1;32m     36\u001b[0m                 \u001b[0mrenderer\u001b[0m\u001b[0;34m.\u001b[0m\u001b[0mstart_filter\u001b[0m\u001b[0;34m(\u001b[0m\u001b[0;34m)\u001b[0m\u001b[0;34m\u001b[0m\u001b[0;34m\u001b[0m\u001b[0m\n\u001b[1;32m     37\u001b[0m \u001b[0;34m\u001b[0m\u001b[0m\n\u001b[0;32m---> 38\u001b[0;31m             \u001b[0;32mreturn\u001b[0m \u001b[0mdraw\u001b[0m\u001b[0;34m(\u001b[0m\u001b[0martist\u001b[0m\u001b[0;34m,\u001b[0m \u001b[0mrenderer\u001b[0m\u001b[0;34m,\u001b[0m \u001b[0;34m*\u001b[0m\u001b[0margs\u001b[0m\u001b[0;34m,\u001b[0m \u001b[0;34m**\u001b[0m\u001b[0mkwargs\u001b[0m\u001b[0;34m)\u001b[0m\u001b[0;34m\u001b[0m\u001b[0;34m\u001b[0m\u001b[0m\n\u001b[0m\u001b[1;32m     39\u001b[0m         \u001b[0;32mfinally\u001b[0m\u001b[0;34m:\u001b[0m\u001b[0;34m\u001b[0m\u001b[0;34m\u001b[0m\u001b[0m\n\u001b[1;32m     40\u001b[0m             \u001b[0;32mif\u001b[0m \u001b[0martist\u001b[0m\u001b[0;34m.\u001b[0m\u001b[0mget_agg_filter\u001b[0m\u001b[0;34m(\u001b[0m\u001b[0;34m)\u001b[0m \u001b[0;32mis\u001b[0m \u001b[0;32mnot\u001b[0m \u001b[0;32mNone\u001b[0m\u001b[0;34m:\u001b[0m\u001b[0;34m\u001b[0m\u001b[0;34m\u001b[0m\u001b[0m\n",
      "\u001b[0;32m~/Code/miniconda3/envs/devel/lib/python3.7/site-packages/matplotlib/collections.py\u001b[0m in \u001b[0;36mdraw\u001b[0;34m(self, renderer)\u001b[0m\n\u001b[1;32m   2045\u001b[0m                 \u001b[0mgc\u001b[0m\u001b[0;34m,\u001b[0m \u001b[0mtransform\u001b[0m\u001b[0;34m.\u001b[0m\u001b[0mfrozen\u001b[0m\u001b[0;34m(\u001b[0m\u001b[0;34m)\u001b[0m\u001b[0;34m,\u001b[0m \u001b[0mself\u001b[0m\u001b[0;34m.\u001b[0m\u001b[0m_meshWidth\u001b[0m\u001b[0;34m,\u001b[0m \u001b[0mself\u001b[0m\u001b[0;34m.\u001b[0m\u001b[0m_meshHeight\u001b[0m\u001b[0;34m,\u001b[0m\u001b[0;34m\u001b[0m\u001b[0;34m\u001b[0m\u001b[0m\n\u001b[1;32m   2046\u001b[0m                 \u001b[0mcoordinates\u001b[0m\u001b[0;34m,\u001b[0m \u001b[0moffsets\u001b[0m\u001b[0;34m,\u001b[0m \u001b[0mtransOffset\u001b[0m\u001b[0;34m,\u001b[0m \u001b[0mself\u001b[0m\u001b[0;34m.\u001b[0m\u001b[0mget_facecolor\u001b[0m\u001b[0;34m(\u001b[0m\u001b[0;34m)\u001b[0m\u001b[0;34m,\u001b[0m\u001b[0;34m\u001b[0m\u001b[0;34m\u001b[0m\u001b[0m\n\u001b[0;32m-> 2047\u001b[0;31m                 self._antialiased, self.get_edgecolors())\n\u001b[0m\u001b[1;32m   2048\u001b[0m         \u001b[0mgc\u001b[0m\u001b[0;34m.\u001b[0m\u001b[0mrestore\u001b[0m\u001b[0;34m(\u001b[0m\u001b[0;34m)\u001b[0m\u001b[0;34m\u001b[0m\u001b[0;34m\u001b[0m\u001b[0m\n\u001b[1;32m   2049\u001b[0m         \u001b[0mrenderer\u001b[0m\u001b[0;34m.\u001b[0m\u001b[0mclose_group\u001b[0m\u001b[0;34m(\u001b[0m\u001b[0mself\u001b[0m\u001b[0;34m.\u001b[0m\u001b[0m__class__\u001b[0m\u001b[0;34m.\u001b[0m\u001b[0m__name__\u001b[0m\u001b[0;34m)\u001b[0m\u001b[0;34m\u001b[0m\u001b[0;34m\u001b[0m\u001b[0m\n",
      "\u001b[0;31mKeyboardInterrupt\u001b[0m: "
     ]
    },
    {
     "data": {
      "image/png": "[encoded data removed]",
      "text/plain": [
       "<Figure size 576x576 with 1 Axes>"
      ]
     },
     "metadata": {
      "needs_background": "light"
     },
     "output_type": "display_data"
    }
   ],
   "source": [
    "# Make frames\n",
    "for i in range(nbunch):\n",
    "    frame(i);"
   ]
  },
  {
   "cell_type": "code",
   "execution_count": null,
   "metadata": {},
   "outputs": [],
   "source": [
    "# Make movie\n",
    "!ffmpeg -framerate 10 -i frame_%d.png -c:v libx264 -c:a libfdk_aac output.mp4"
   ]
  }
 ],
 "metadata": {
  "kernelspec": {
   "display_name": "Python 3",
   "language": "python",
   "name": "python3"
  },
  "language_info": {
   "codemirror_mode": {
    "name": "ipython",
    "version": 3
   },
   "file_extension": ".py",
   "mimetype": "text/x-python",
   "name": "python",
   "nbconvert_exporter": "python",
   "pygments_lexer": "ipython3",
   "version": "3.7.6"
  }
 },
 "nbformat": 4,
 "nbformat_minor": 4
}
