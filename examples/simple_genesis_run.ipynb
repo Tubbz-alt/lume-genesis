{
 "cells": [
  {
   "cell_type": "markdown",
   "metadata": {},
   "source": [
    "# Simple LUME-Genesis example"
   ]
  },
  {
   "cell_type": "code",
   "execution_count": 2,
   "metadata": {},
   "outputs": [
    {
     "name": "stdout",
     "output_type": "stream",
     "text": [
      "The autoreload extension is already loaded. To reload it, use:\n",
      "  %reload_ext autoreload\n"
     ]
    }
   ],
   "source": [
    "# Useful for debugging\n",
    "%load_ext autoreload\n",
    "%autoreload 2"
   ]
  },
  {
   "cell_type": "code",
   "execution_count": 3,
   "metadata": {},
   "outputs": [],
   "source": [
    "from genesis import Genesis\n",
    "import os\n",
    "\n",
    "# Genesis binary\n",
    "if 'GENESIS_BIN' not in os.environ:\n",
    "    os.environ['GENESIS_BIN'] = os.path.expandvars('$HOME/Code/genesis/bin/genesis')"
   ]
  },
  {
   "cell_type": "code",
   "execution_count": 4,
   "metadata": {},
   "outputs": [
    {
     "name": "stdout",
     "output_type": "stream",
     "text": [
      "Configured to run in: /var/folders/wj/lfgr01993dx79p9cm_skykbw0000gn/T/tmptva5951f\n"
     ]
    },
    {
     "data": {
      "text/plain": [
       "'/var/folders/wj/lfgr01993dx79p9cm_skykbw0000gn/T/tmptva5951f'"
      ]
     },
     "execution_count": 4,
     "metadata": {},
     "output_type": "execute_result"
    }
   ],
   "source": [
    "# Make genesis object with default input\n",
    "G = Genesis(verbose=True)\n",
    "G.path"
   ]
  },
  {
   "cell_type": "code",
   "execution_count": 5,
   "metadata": {},
   "outputs": [
    {
     "name": "stdout",
     "output_type": "stream",
     "text": [
      "Genesis configured in /var/folders/wj/lfgr01993dx79p9cm_skykbw0000gn/T/tmptva5951f\n"
     ]
    }
   ],
   "source": [
    "# Turn on field output\n",
    "G.input['idmpfld'] = 1\n",
    "# Turn on particle output\n",
    "G.input['idmppar'] = 1\n",
    "G.input['npart'] = 2048\n",
    "\n",
    "# Turn on history\n",
    "G.input['ippart'] = 10\n",
    "G.input['ipradi'] = 0\n",
    "G.input['ncar']\n",
    "\n",
    "print(G)"
   ]
  },
  {
   "cell_type": "code",
   "execution_count": 6,
   "metadata": {},
   "outputs": [
    {
     "name": "stdout",
     "output_type": "stream",
     "text": [
      "init dir:  /Users/chrisonian/Code/GitHub/lume-genesis/examples\n",
      "running genesis in /private/var/folders/wj/lfgr01993dx79p9cm_skykbw0000gn/T/tmptva5951f\n",
      "-------------------------------\n",
      "Genesis 1.3 has begun execution\n",
      "(Version 1.0 Unix)\n",
      "\n",
      "Please enter input file name \n",
      "***  Warning: Size of particle file [Mbytes]:  14     \n",
      "Slice     1: Simulation  10% completed.\n",
      "Slice     1: Simulation  20% completed.\n",
      "Slice     1: Simulation  30% completed.\n",
      "Slice     1: Simulation  40% completed.\n",
      "Slice     1: Simulation  50% completed.\n",
      "Slice     1: Simulation  60% completed.\n",
      "Slice     1: Simulation  70% completed.\n",
      "Slice     1: Simulation  80% completed.\n",
      "Slice     1: Simulation  90% completed.\n",
      "Slice     1: Simulation 100% completed.\n",
      "***  writing history record for slice     1\n",
      "***  closing files\n",
      "\n",
      "Genesis run has finished\n",
      "------------------------\n",
      "Loaded output: /var/folders/wj/lfgr01993dx79p9cm_skykbw0000gn/T/tmptva5951f/genesis.out\n"
     ]
    }
   ],
   "source": [
    "# Run genesis with default lattice \n",
    "G.run()"
   ]
  },
  {
   "cell_type": "code",
   "execution_count": 7,
   "metadata": {},
   "outputs": [
    {
     "data": {
      "text/plain": [
       "'/var/folders/wj/lfgr01993dx79p9cm_skykbw0000gn/T/tmptva5951f'"
      ]
     },
     "execution_count": 7,
     "metadata": {},
     "output_type": "execute_result"
    }
   ],
   "source": [
    "# This is the working path\n",
    "G.path"
   ]
  },
  {
   "cell_type": "code",
   "execution_count": 8,
   "metadata": {},
   "outputs": [
    {
     "name": "stdout",
     "output_type": "stream",
     "text": [
      "total 33248\n",
      "drwx------    9 chrisonian  staff   288B Nov  6 14:30 \u001b[34m.\u001b[m\u001b[m\n",
      "drwx------@ 141 chrisonian  staff   4.4K Nov  6 14:30 \u001b[34m..\u001b[m\u001b[m\n",
      "-rw-r--r--    1 chrisonian  staff   2.0K Nov  6 14:30 genesis.in\n",
      "-rw-r--r--    1 chrisonian  staff   1.3K Nov  6 14:30 genesis.lat\n",
      "-rw-r--r--    1 chrisonian  staff   370K Nov  6 14:30 genesis.out\n",
      "-rw-r--r--    1 chrisonian  staff   984K Nov  6 14:30 genesis.out.dfl\n",
      "-rw-r--r--    1 chrisonian  staff    96K Nov  6 14:30 genesis.out.dpa\n",
      "-rw-r--r--    1 chrisonian  staff    15M Nov  6 14:30 genesis.out.par\n",
      "-rw-r--r--    1 chrisonian  staff    53B Nov  6 14:30 run\n"
     ]
    }
   ],
   "source": [
    "# Contents of this\n",
    "!ls -ahl {G.path}"
   ]
  },
  {
   "cell_type": "code",
   "execution_count": 9,
   "metadata": {},
   "outputs": [
    {
     "data": {
      "text/plain": [
       "'f9a2206c05184a4ee20aa805a637efda'"
      ]
     },
     "execution_count": 9,
     "metadata": {},
     "output_type": "execute_result"
    }
   ],
   "source": [
    "# Get a hash of the input\n",
    "G.fingerprint()"
   ]
  },
  {
   "cell_type": "code",
   "execution_count": 10,
   "metadata": {},
   "outputs": [
    {
     "name": "stdout",
     "output_type": "stream",
     "text": [
      "loading lattice:  /var/folders/wj/lfgr01993dx79p9cm_skykbw0000gn/T/tmptva5951f/genesis.lat\n"
     ]
    }
   ],
   "source": [
    "# Loads the lattice file. Note that this has already been done on init. \n",
    "G.load_lattice()"
   ]
  },
  {
   "cell_type": "code",
   "execution_count": 11,
   "metadata": {},
   "outputs": [
    {
     "data": {
      "text/plain": [
       "{'version': 1, 'unitlength': '0.03 # meters'}"
      ]
     },
     "execution_count": 11,
     "metadata": {},
     "output_type": "execute_result"
    }
   ],
   "source": [
    "# Lattice parameters\n",
    "G.lattice_params"
   ]
  },
  {
   "cell_type": "code",
   "execution_count": 12,
   "metadata": {},
   "outputs": [],
   "source": [
    "# Get a list of z from the output\n",
    "zlist = G.output['lattice']['z']"
   ]
  },
  {
   "cell_type": "code",
   "execution_count": 13,
   "metadata": {},
   "outputs": [
    {
     "data": {
      "text/plain": [
       "dict_keys(['index', 'current', 'data'])"
      ]
     },
     "execution_count": 13,
     "metadata": {},
     "output_type": "execute_result"
    }
   ],
   "source": [
    "# Get some slice data\n",
    "slicedat =G.output['slice_data']\n",
    "slicedat[0].keys()"
   ]
  },
  {
   "cell_type": "code",
   "execution_count": 14,
   "metadata": {},
   "outputs": [
    {
     "data": {
      "text/plain": [
       "dict_keys(['power', 'increment', 'p_mid', 'phi_mid', 'r_size', 'energy', 'bunching', 'xrms', 'yrms', 'error', '<x>', '<y>', 'e-spread', 'far_field'])"
      ]
     },
     "execution_count": 14,
     "metadata": {},
     "output_type": "execute_result"
    }
   ],
   "source": [
    "# These are the available columns\n",
    "slicedat[0]['data'].keys()"
   ]
  },
  {
   "cell_type": "code",
   "execution_count": 15,
   "metadata": {},
   "outputs": [],
   "source": [
    "mydat = slicedat[0]['data']['power']"
   ]
  },
  {
   "cell_type": "code",
   "execution_count": 16,
   "metadata": {},
   "outputs": [
    {
     "data": {
      "application/javascript": [
       "\n",
       "(function(root) {\n",
       "  function now() {\n",
       "    return new Date();\n",
       "  }\n",
       "\n",
       "  var force = true;\n",
       "\n",
       "  if (typeof root._bokeh_onload_callbacks === \"undefined\" || force === true) {\n",
       "    root._bokeh_onload_callbacks = [];\n",
       "    root._bokeh_is_loading = undefined;\n",
       "  }\n",
       "\n",
       "  var JS_MIME_TYPE = 'application/javascript';\n",
       "  var HTML_MIME_TYPE = 'text/html';\n",
       "  var EXEC_MIME_TYPE = 'application/vnd.bokehjs_exec.v0+json';\n",
       "  var CLASS_NAME = 'output_bokeh rendered_html';\n",
       "\n",
       "  /**\n",
       "   * Render data to the DOM node\n",
       "   */\n",
       "  function render(props, node) {\n",
       "    var script = document.createElement(\"script\");\n",
       "    node.appendChild(script);\n",
       "  }\n",
       "\n",
       "  /**\n",
       "   * Handle when an output is cleared or removed\n",
       "   */\n",
       "  function handleClearOutput(event, handle) {\n",
       "    var cell = handle.cell;\n",
       "\n",
       "    var id = cell.output_area._bokeh_element_id;\n",
       "    var server_id = cell.output_area._bokeh_server_id;\n",
       "    // Clean up Bokeh references\n",
       "    if (id != null && id in Bokeh.index) {\n",
       "      Bokeh.index[id].model.document.clear();\n",
       "      delete Bokeh.index[id];\n",
       "    }\n",
       "\n",
       "    if (server_id !== undefined) {\n",
       "      // Clean up Bokeh references\n",
       "      var cmd = \"from bokeh.io.state import curstate; print(curstate().uuid_to_server['\" + server_id + \"'].get_sessions()[0].document.roots[0]._id)\";\n",
       "      cell.notebook.kernel.execute(cmd, {\n",
       "        iopub: {\n",
       "          output: function(msg) {\n",
       "            var id = msg.content.text.trim();\n",
       "            if (id in Bokeh.index) {\n",
       "              Bokeh.index[id].model.document.clear();\n",
       "              delete Bokeh.index[id];\n",
       "            }\n",
       "          }\n",
       "        }\n",
       "      });\n",
       "      // Destroy server and session\n",
       "      var cmd = \"import bokeh.io.notebook as ion; ion.destroy_server('\" + server_id + \"')\";\n",
       "      cell.notebook.kernel.execute(cmd);\n",
       "    }\n",
       "  }\n",
       "\n",
       "  /**\n",
       "   * Handle when a new output is added\n",
       "   */\n",
       "  function handleAddOutput(event, handle) {\n",
       "    var output_area = handle.output_area;\n",
       "    var output = handle.output;\n",
       "\n",
       "    // limit handleAddOutput to display_data with EXEC_MIME_TYPE content only\n",
       "    if ((output.output_type != \"display_data\") || (!output.data.hasOwnProperty(EXEC_MIME_TYPE))) {\n",
       "      return\n",
       "    }\n",
       "\n",
       "    var toinsert = output_area.element.find(\".\" + CLASS_NAME.split(' ')[0]);\n",
       "\n",
       "    if (output.metadata[EXEC_MIME_TYPE][\"id\"] !== undefined) {\n",
       "      toinsert[toinsert.length - 1].firstChild.textContent = output.data[JS_MIME_TYPE];\n",
       "      // store reference to embed id on output_area\n",
       "      output_area._bokeh_element_id = output.metadata[EXEC_MIME_TYPE][\"id\"];\n",
       "    }\n",
       "    if (output.metadata[EXEC_MIME_TYPE][\"server_id\"] !== undefined) {\n",
       "      var bk_div = document.createElement(\"div\");\n",
       "      bk_div.innerHTML = output.data[HTML_MIME_TYPE];\n",
       "      var script_attrs = bk_div.children[0].attributes;\n",
       "      for (var i = 0; i < script_attrs.length; i++) {\n",
       "        toinsert[toinsert.length - 1].firstChild.setAttribute(script_attrs[i].name, script_attrs[i].value);\n",
       "      }\n",
       "      // store reference to server id on output_area\n",
       "      output_area._bokeh_server_id = output.metadata[EXEC_MIME_TYPE][\"server_id\"];\n",
       "    }\n",
       "  }\n",
       "\n",
       "  function register_renderer(events, OutputArea) {\n",
       "\n",
       "    function append_mime(data, metadata, element) {\n",
       "      // create a DOM node to render to\n",
       "      var toinsert = this.create_output_subarea(\n",
       "        metadata,\n",
       "        CLASS_NAME,\n",
       "        EXEC_MIME_TYPE\n",
       "      );\n",
       "      this.keyboard_manager.register_events(toinsert);\n",
       "      // Render to node\n",
       "      var props = {data: data, metadata: metadata[EXEC_MIME_TYPE]};\n",
       "      render(props, toinsert[toinsert.length - 1]);\n",
       "      element.append(toinsert);\n",
       "      return toinsert\n",
       "    }\n",
       "\n",
       "    /* Handle when an output is cleared or removed */\n",
       "    events.on('clear_output.CodeCell', handleClearOutput);\n",
       "    events.on('delete.Cell', handleClearOutput);\n",
       "\n",
       "    /* Handle when a new output is added */\n",
       "    events.on('output_added.OutputArea', handleAddOutput);\n",
       "\n",
       "    /**\n",
       "     * Register the mime type and append_mime function with output_area\n",
       "     */\n",
       "    OutputArea.prototype.register_mime_type(EXEC_MIME_TYPE, append_mime, {\n",
       "      /* Is output safe? */\n",
       "      safe: true,\n",
       "      /* Index of renderer in `output_area.display_order` */\n",
       "      index: 0\n",
       "    });\n",
       "  }\n",
       "\n",
       "  // register the mime type if in Jupyter Notebook environment and previously unregistered\n",
       "  if (root.Jupyter !== undefined) {\n",
       "    var events = require('base/js/events');\n",
       "    var OutputArea = require('notebook/js/outputarea').OutputArea;\n",
       "\n",
       "    if (OutputArea.prototype.mime_types().indexOf(EXEC_MIME_TYPE) == -1) {\n",
       "      register_renderer(events, OutputArea);\n",
       "    }\n",
       "  }\n",
       "\n",
       "  \n",
       "  if (typeof (root._bokeh_timeout) === \"undefined\" || force === true) {\n",
       "    root._bokeh_timeout = Date.now() + 5000;\n",
       "    root._bokeh_failed_load = false;\n",
       "  }\n",
       "\n",
       "  var NB_LOAD_WARNING = {'data': {'text/html':\n",
       "     \"<div style='background-color: #fdd'>\\n\"+\n",
       "     \"<p>\\n\"+\n",
       "     \"BokehJS does not appear to have successfully loaded. If loading BokehJS from CDN, this \\n\"+\n",
       "     \"may be due to a slow or bad network connection. Possible fixes:\\n\"+\n",
       "     \"</p>\\n\"+\n",
       "     \"<ul>\\n\"+\n",
       "     \"<li>re-rerun `output_notebook()` to attempt to load from CDN again, or</li>\\n\"+\n",
       "     \"<li>use INLINE resources instead, as so:</li>\\n\"+\n",
       "     \"</ul>\\n\"+\n",
       "     \"<code>\\n\"+\n",
       "     \"from bokeh.resources import INLINE\\n\"+\n",
       "     \"output_notebook(resources=INLINE)\\n\"+\n",
       "     \"</code>\\n\"+\n",
       "     \"</div>\"}};\n",
       "\n",
       "  function display_loaded() {\n",
       "    var el = document.getElementById(null);\n",
       "    if (el != null) {\n",
       "      el.textContent = \"BokehJS is loading...\";\n",
       "    }\n",
       "    if (root.Bokeh !== undefined) {\n",
       "      if (el != null) {\n",
       "        el.textContent = \"BokehJS \" + root.Bokeh.version + \" successfully loaded.\";\n",
       "      }\n",
       "    } else if (Date.now() < root._bokeh_timeout) {\n",
       "      setTimeout(display_loaded, 100)\n",
       "    }\n",
       "  }\n",
       "\n",
       "\n",
       "  function run_callbacks() {\n",
       "    try {\n",
       "      root._bokeh_onload_callbacks.forEach(function(callback) {\n",
       "        if (callback != null)\n",
       "          callback();\n",
       "      });\n",
       "    } finally {\n",
       "      delete root._bokeh_onload_callbacks\n",
       "    }\n",
       "    console.debug(\"Bokeh: all callbacks have finished\");\n",
       "  }\n",
       "\n",
       "  function load_libs(css_urls, js_urls, callback) {\n",
       "    if (css_urls == null) css_urls = [];\n",
       "    if (js_urls == null) js_urls = [];\n",
       "\n",
       "    root._bokeh_onload_callbacks.push(callback);\n",
       "    if (root._bokeh_is_loading > 0) {\n",
       "      console.debug(\"Bokeh: BokehJS is being loaded, scheduling callback at\", now());\n",
       "      return null;\n",
       "    }\n",
       "    if (js_urls == null || js_urls.length === 0) {\n",
       "      run_callbacks();\n",
       "      return null;\n",
       "    }\n",
       "    console.debug(\"Bokeh: BokehJS not loaded, scheduling load and callback at\", now());\n",
       "    root._bokeh_is_loading = css_urls.length + js_urls.length;\n",
       "\n",
       "    function on_load() {\n",
       "      root._bokeh_is_loading--;\n",
       "      if (root._bokeh_is_loading === 0) {\n",
       "        console.debug(\"Bokeh: all BokehJS libraries/stylesheets loaded\");\n",
       "        run_callbacks()\n",
       "      }\n",
       "    }\n",
       "\n",
       "    function on_error() {\n",
       "      console.error(\"failed to load \" + url);\n",
       "    }\n",
       "\n",
       "    for (var i = 0; i < css_urls.length; i++) {\n",
       "      var url = css_urls[i];\n",
       "      const element = document.createElement(\"link\");\n",
       "      element.onload = on_load;\n",
       "      element.onerror = on_error;\n",
       "      element.rel = \"stylesheet\";\n",
       "      element.type = \"text/css\";\n",
       "      element.href = url;\n",
       "      console.debug(\"Bokeh: injecting link tag for BokehJS stylesheet: \", url);\n",
       "      document.body.appendChild(element);\n",
       "    }\n",
       "\n",
       "    for (var i = 0; i < js_urls.length; i++) {\n",
       "      var url = js_urls[i];\n",
       "      var element = document.createElement('script');\n",
       "      element.onload = on_load;\n",
       "      element.onerror = on_error;\n",
       "      element.async = false;\n",
       "      element.src = url;\n",
       "      console.debug(\"Bokeh: injecting script tag for BokehJS library: \", url);\n",
       "      document.head.appendChild(element);\n",
       "    }\n",
       "  };\n",
       "\n",
       "  function inject_raw_css(css) {\n",
       "    const element = document.createElement(\"style\");\n",
       "    element.appendChild(document.createTextNode(css));\n",
       "    document.body.appendChild(element);\n",
       "  }\n",
       "\n",
       "  var js_urls = [\"https://cdn.pydata.org/bokeh/release/bokeh-1.2.0.min.js\", \"https://cdn.pydata.org/bokeh/release/bokeh-widgets-1.2.0.min.js\", \"https://cdn.pydata.org/bokeh/release/bokeh-tables-1.2.0.min.js\", \"https://cdn.pydata.org/bokeh/release/bokeh-gl-1.2.0.min.js\"];\n",
       "  var css_urls = [\"https://cdn.pydata.org/bokeh/release/bokeh-1.2.0.min.css\", \"https://cdn.pydata.org/bokeh/release/bokeh-widgets-1.2.0.min.css\", \"https://cdn.pydata.org/bokeh/release/bokeh-tables-1.2.0.min.css\"];\n",
       "\n",
       "  var inline_js = [\n",
       "    function(Bokeh) {\n",
       "      Bokeh.set_log_level(\"info\");\n",
       "    },\n",
       "    \n",
       "    function(Bokeh) {\n",
       "      \n",
       "    },\n",
       "    function(Bokeh) {} // ensure no trailing comma for IE\n",
       "  ];\n",
       "\n",
       "  function run_inline_js() {\n",
       "    \n",
       "    if ((root.Bokeh !== undefined) || (force === true)) {\n",
       "      for (var i = 0; i < inline_js.length; i++) {\n",
       "        inline_js[i].call(root, root.Bokeh);\n",
       "      }} else if (Date.now() < root._bokeh_timeout) {\n",
       "      setTimeout(run_inline_js, 100);\n",
       "    } else if (!root._bokeh_failed_load) {\n",
       "      console.log(\"Bokeh: BokehJS failed to load within specified timeout.\");\n",
       "      root._bokeh_failed_load = true;\n",
       "    } else if (force !== true) {\n",
       "      var cell = $(document.getElementById(null)).parents('.cell').data().cell;\n",
       "      cell.output_area.append_execute_result(NB_LOAD_WARNING)\n",
       "    }\n",
       "\n",
       "  }\n",
       "\n",
       "  if (root._bokeh_is_loading === 0) {\n",
       "    console.debug(\"Bokeh: BokehJS loaded, going straight to plotting\");\n",
       "    run_inline_js();\n",
       "  } else {\n",
       "    load_libs(css_urls, js_urls, function() {\n",
       "      console.debug(\"Bokeh: BokehJS plotting callback run at\", now());\n",
       "      run_inline_js();\n",
       "    });\n",
       "  }\n",
       "}(window));"
      ],
      "application/vnd.bokehjs_load.v0+json": "\n(function(root) {\n  function now() {\n    return new Date();\n  }\n\n  var force = true;\n\n  if (typeof root._bokeh_onload_callbacks === \"undefined\" || force === true) {\n    root._bokeh_onload_callbacks = [];\n    root._bokeh_is_loading = undefined;\n  }\n\n  \n\n  \n  if (typeof (root._bokeh_timeout) === \"undefined\" || force === true) {\n    root._bokeh_timeout = Date.now() + 5000;\n    root._bokeh_failed_load = false;\n  }\n\n  var NB_LOAD_WARNING = {'data': {'text/html':\n     \"<div style='background-color: #fdd'>\\n\"+\n     \"<p>\\n\"+\n     \"BokehJS does not appear to have successfully loaded. If loading BokehJS from CDN, this \\n\"+\n     \"may be due to a slow or bad network connection. Possible fixes:\\n\"+\n     \"</p>\\n\"+\n     \"<ul>\\n\"+\n     \"<li>re-rerun `output_notebook()` to attempt to load from CDN again, or</li>\\n\"+\n     \"<li>use INLINE resources instead, as so:</li>\\n\"+\n     \"</ul>\\n\"+\n     \"<code>\\n\"+\n     \"from bokeh.resources import INLINE\\n\"+\n     \"output_notebook(resources=INLINE)\\n\"+\n     \"</code>\\n\"+\n     \"</div>\"}};\n\n  function display_loaded() {\n    var el = document.getElementById(null);\n    if (el != null) {\n      el.textContent = \"BokehJS is loading...\";\n    }\n    if (root.Bokeh !== undefined) {\n      if (el != null) {\n        el.textContent = \"BokehJS \" + root.Bokeh.version + \" successfully loaded.\";\n      }\n    } else if (Date.now() < root._bokeh_timeout) {\n      setTimeout(display_loaded, 100)\n    }\n  }\n\n\n  function run_callbacks() {\n    try {\n      root._bokeh_onload_callbacks.forEach(function(callback) {\n        if (callback != null)\n          callback();\n      });\n    } finally {\n      delete root._bokeh_onload_callbacks\n    }\n    console.debug(\"Bokeh: all callbacks have finished\");\n  }\n\n  function load_libs(css_urls, js_urls, callback) {\n    if (css_urls == null) css_urls = [];\n    if (js_urls == null) js_urls = [];\n\n    root._bokeh_onload_callbacks.push(callback);\n    if (root._bokeh_is_loading > 0) {\n      console.debug(\"Bokeh: BokehJS is being loaded, scheduling callback at\", now());\n      return null;\n    }\n    if (js_urls == null || js_urls.length === 0) {\n      run_callbacks();\n      return null;\n    }\n    console.debug(\"Bokeh: BokehJS not loaded, scheduling load and callback at\", now());\n    root._bokeh_is_loading = css_urls.length + js_urls.length;\n\n    function on_load() {\n      root._bokeh_is_loading--;\n      if (root._bokeh_is_loading === 0) {\n        console.debug(\"Bokeh: all BokehJS libraries/stylesheets loaded\");\n        run_callbacks()\n      }\n    }\n\n    function on_error() {\n      console.error(\"failed to load \" + url);\n    }\n\n    for (var i = 0; i < css_urls.length; i++) {\n      var url = css_urls[i];\n      const element = document.createElement(\"link\");\n      element.onload = on_load;\n      element.onerror = on_error;\n      element.rel = \"stylesheet\";\n      element.type = \"text/css\";\n      element.href = url;\n      console.debug(\"Bokeh: injecting link tag for BokehJS stylesheet: \", url);\n      document.body.appendChild(element);\n    }\n\n    for (var i = 0; i < js_urls.length; i++) {\n      var url = js_urls[i];\n      var element = document.createElement('script');\n      element.onload = on_load;\n      element.onerror = on_error;\n      element.async = false;\n      element.src = url;\n      console.debug(\"Bokeh: injecting script tag for BokehJS library: \", url);\n      document.head.appendChild(element);\n    }\n  };\n\n  function inject_raw_css(css) {\n    const element = document.createElement(\"style\");\n    element.appendChild(document.createTextNode(css));\n    document.body.appendChild(element);\n  }\n\n  var js_urls = [\"https://cdn.pydata.org/bokeh/release/bokeh-1.2.0.min.js\", \"https://cdn.pydata.org/bokeh/release/bokeh-widgets-1.2.0.min.js\", \"https://cdn.pydata.org/bokeh/release/bokeh-tables-1.2.0.min.js\", \"https://cdn.pydata.org/bokeh/release/bokeh-gl-1.2.0.min.js\"];\n  var css_urls = [\"https://cdn.pydata.org/bokeh/release/bokeh-1.2.0.min.css\", \"https://cdn.pydata.org/bokeh/release/bokeh-widgets-1.2.0.min.css\", \"https://cdn.pydata.org/bokeh/release/bokeh-tables-1.2.0.min.css\"];\n\n  var inline_js = [\n    function(Bokeh) {\n      Bokeh.set_log_level(\"info\");\n    },\n    \n    function(Bokeh) {\n      \n    },\n    function(Bokeh) {} // ensure no trailing comma for IE\n  ];\n\n  function run_inline_js() {\n    \n    if ((root.Bokeh !== undefined) || (force === true)) {\n      for (var i = 0; i < inline_js.length; i++) {\n        inline_js[i].call(root, root.Bokeh);\n      }} else if (Date.now() < root._bokeh_timeout) {\n      setTimeout(run_inline_js, 100);\n    } else if (!root._bokeh_failed_load) {\n      console.log(\"Bokeh: BokehJS failed to load within specified timeout.\");\n      root._bokeh_failed_load = true;\n    } else if (force !== true) {\n      var cell = $(document.getElementById(null)).parents('.cell').data().cell;\n      cell.output_area.append_execute_result(NB_LOAD_WARNING)\n    }\n\n  }\n\n  if (root._bokeh_is_loading === 0) {\n    console.debug(\"Bokeh: BokehJS loaded, going straight to plotting\");\n    run_inline_js();\n  } else {\n    load_libs(css_urls, js_urls, function() {\n      console.debug(\"Bokeh: BokehJS plotting callback run at\", now());\n      run_inline_js();\n    });\n  }\n}(window));"
     },
     "metadata": {},
     "output_type": "display_data"
    },
    {
     "data": {
      "text/html": [
       "\n",
       "\n",
       "\n",
       "\n",
       "\n",
       "\n",
       "  <div class=\"bk-root\" id=\"0c343aa9-0894-46df-9d74-39bf79a699de\" data-root-id=\"1001\"></div>\n"
      ]
     },
     "metadata": {},
     "output_type": "display_data"
    },
    {
     "data": {
      "application/javascript": [
       "(function(root) {\n",
       "  function embed_document(root) {\n",
       "    \n",
       "  var docs_json = {\"53a9e234-1eb6-4fc6-a5d4-bc8f5d620159\":{\"roots\":{\"references\":[{\"attributes\":{\"below\":[{\"id\":\"1010\",\"type\":\"LinearAxis\"}],\"center\":[{\"id\":\"1014\",\"type\":\"Grid\"},{\"id\":\"1019\",\"type\":\"Grid\"}],\"left\":[{\"id\":\"1015\",\"type\":\"LogAxis\"}],\"plot_height\":400,\"plot_width\":800,\"renderers\":[{\"id\":\"1036\",\"type\":\"GlyphRenderer\"}],\"title\":{\"id\":\"1038\",\"type\":\"Title\"},\"toolbar\":{\"id\":\"1026\",\"type\":\"Toolbar\"},\"x_range\":{\"id\":\"1002\",\"type\":\"DataRange1d\"},\"x_scale\":{\"id\":\"1006\",\"type\":\"LinearScale\"},\"y_range\":{\"id\":\"1004\",\"type\":\"DataRange1d\"},\"y_scale\":{\"id\":\"1008\",\"type\":\"LogScale\"}},\"id\":\"1001\",\"subtype\":\"Figure\",\"type\":\"Plot\"},{\"attributes\":{},\"id\":\"1008\",\"type\":\"LogScale\"},{\"attributes\":{\"ticker\":null},\"id\":\"1043\",\"type\":\"LogTickFormatter\"},{\"attributes\":{},\"id\":\"1044\",\"type\":\"Selection\"},{\"attributes\":{\"ticker\":{\"id\":\"1011\",\"type\":\"BasicTicker\"}},\"id\":\"1014\",\"type\":\"Grid\"},{\"attributes\":{},\"id\":\"1011\",\"type\":\"BasicTicker\"},{\"attributes\":{},\"id\":\"1045\",\"type\":\"UnionRenderers\"},{\"attributes\":{\"axis_label\":\"power (W)\",\"formatter\":{\"id\":\"1043\",\"type\":\"LogTickFormatter\"},\"ticker\":{\"id\":\"1016\",\"type\":\"LogTicker\"}},\"id\":\"1015\",\"type\":\"LogAxis\"},{\"attributes\":{\"callback\":null,\"data\":{\"x\":[0.0,0.03,0.06,0.09,0.12,0.15,0.18,0.21,0.24,0.27,0.3,0.33,0.36,0.39,0.42,0.45,0.48,0.51,0.54,0.57,0.6,0.63,0.66,0.69,0.72,0.75,0.78,0.81,0.84,0.87,0.9,0.93,0.96,0.99,1.02,1.05,1.08,1.11,1.14,1.17,1.2,1.23,1.26,1.29,1.32,1.35,1.38,1.41,1.44,1.47,1.5,1.53,1.56,1.59,1.62,1.65,1.68,1.71,1.74,1.77,1.8,1.83,1.86,1.89,1.92,1.95,1.98,2.01,2.04,2.07,2.1,2.13,2.16,2.19,2.22,2.25,2.28,2.31,2.34,2.37,2.4,2.43,2.46,2.49,2.52,2.55,2.58,2.61,2.64,2.67,2.7,2.73,2.76,2.79,2.82,2.85,2.88,2.91,2.94,2.97,3.0,3.03,3.06,3.09,3.12,3.15,3.18,3.21,3.24,3.27,3.3,3.33,3.36,3.39,3.42,3.45,3.48,3.51,3.54,3.57,3.6,3.63,3.66,3.69,3.72,3.75,3.78,3.81,3.84,3.87,3.9,3.93,3.96,3.99,4.02,4.05,4.08,4.11,4.14,4.17,4.2,4.23,4.26,4.29,4.32,4.35,4.38,4.41,4.44,4.47,4.5,4.53,4.56,4.59,4.62,4.65,4.68,4.71,4.74,4.77,4.8,4.83,4.86,4.89,4.92,4.95,4.98,5.01,5.04,5.07,5.1,5.13,5.16,5.19,5.22,5.25,5.28,5.31,5.34,5.37,5.4,5.43,5.46,5.49,5.52,5.55,5.58,5.61,5.64,5.67,5.7,5.73,5.76,5.79,5.82,5.85,5.88,5.91,5.94,5.97,6.0,6.03,6.06,6.09,6.12,6.15,6.18,6.21,6.24,6.27,6.3,6.33,6.36,6.39,6.42,6.45,6.48,6.51,6.54,6.57,6.6,6.63,6.66,6.69,6.72,6.75,6.78,6.81,6.84,6.87,6.9,6.93,6.96,6.99,7.02,7.05,7.08,7.11,7.14,7.17,7.2,7.23,7.26,7.29,7.32,7.35,7.38,7.41,7.44,7.47,7.5,7.53,7.56,7.59,7.62,7.65,7.68,7.71,7.74,7.77,7.8,7.83,7.86,7.89,7.92,7.95,7.98,8.01,8.04,8.07,8.1,8.13,8.16,8.19,8.22,8.25,8.28,8.31,8.34,8.37,8.4,8.43,8.46,8.49,8.52,8.55,8.58,8.61,8.64,8.67,8.7,8.73,8.76,8.79,8.82,8.85,8.88,8.91,8.94,8.97,9.0,9.03,9.06,9.09,9.12,9.15,9.18,9.21,9.24,9.27,9.3,9.33,9.36,9.39,9.42,9.45,9.48,9.51,9.54,9.57,9.6,9.63,9.66,9.69,9.72,9.75,9.78,9.81,9.84,9.87,9.9,9.93,9.96,9.99,10.02,10.05,10.08,10.11,10.14,10.17,10.2,10.23,10.26,10.29,10.32,10.35,10.38,10.41,10.44,10.47,10.5,10.53,10.56,10.59,10.62,10.65,10.68,10.71,10.74,10.77,10.8,10.83,10.86,10.89,10.92,10.95,10.98,11.01,11.04,11.07,11.1,11.13,11.16,11.19,11.22,11.25,11.28,11.31,11.34,11.37,11.4,11.43,11.46,11.49,11.52,11.55,11.58,11.61,11.64,11.67,11.7,11.73,11.76,11.79,11.82,11.85,11.88,11.91,11.94,11.97,12.0,12.03,12.06,12.09,12.12,12.15,12.18,12.21,12.24,12.27,12.3,12.33,12.36,12.39,12.42,12.45,12.48,12.51,12.54,12.57,12.6,12.63,12.66,12.69,12.72,12.75,12.78,12.81,12.84,12.87,12.9,12.93,12.96,12.99,13.02,13.05,13.08,13.11,13.14,13.17,13.2,13.23,13.26,13.29,13.32,13.35,13.38,13.41,13.44,13.47,13.5,13.53,13.56,13.59,13.62,13.65,13.68,13.71,13.74,13.77,13.8,13.83,13.86,13.89,13.92,13.95,13.98,14.01,14.04,14.07,14.1,14.13,14.16,14.19,14.22,14.25,14.28,14.31,14.34,14.37,14.4,14.43,14.46,14.49,14.52,14.55,14.58,14.61,14.64,14.67,14.7,14.73,14.76,14.79,14.82,14.85,14.88,14.91,14.94,14.97,15.0,15.03,15.06,15.09,15.12,15.15,15.18,15.21,15.24,15.27,15.3,15.33,15.36,15.39,15.42,15.45,15.48,15.51,15.54,15.57,15.6,15.63,15.66,15.69,15.72,15.75,15.78,15.81,15.84,15.87,15.9,15.93,15.96,15.99,16.02,16.05,16.08,16.11,16.14,16.17,16.2,16.23,16.26,16.29,16.32,16.35,16.38,16.41,16.44,16.47,16.5,16.53,16.56,16.59,16.62,16.65,16.68,16.71,16.74,16.77,16.8,16.83,16.86,16.89,16.92,16.95,16.98,17.01,17.04,17.07,17.1,17.13,17.16,17.19,17.22,17.25,17.28,17.31,17.34,17.37,17.4,17.43,17.46,17.49,17.52,17.55,17.58,17.61,17.64,17.67,17.7,17.73,17.76,17.79,17.82,17.85,17.88,17.91,17.94,17.97,18.0,18.03,18.06,18.09,18.12,18.15,18.18,18.21,18.24,18.27,18.3,18.33,18.36,18.39,18.42,18.45,18.48,18.51,18.54,18.57,18.6,18.63,18.66,18.69,18.72,18.75,18.78,18.81,18.84,18.87,18.9,18.93,18.96,18.99,19.02,19.05,19.08,19.11,19.14,19.17,19.2,19.23,19.26,19.29,19.32,19.35,19.38,19.41,19.44,19.47,19.5,19.53,19.56,19.59,19.62,19.65,19.68,19.71,19.74,19.77,19.8,19.83,19.86,19.89,19.92,19.95,19.98,20.01,20.04,20.07,20.1,20.13,20.16,20.19,20.22,20.25,20.28,20.31,20.34,20.37,20.4,20.43,20.46,20.49,20.52,20.55,20.58,20.61,20.64,20.67,20.7,20.73,20.76,20.79,20.82,20.85,20.88,20.91,20.94,20.97,21.0,21.03,21.06,21.09,21.12,21.15,21.18,21.21,21.24,21.27,21.3,21.33,21.36,21.39,21.42,21.45,21.48,21.51,21.54,21.57,21.6,21.63,21.66,21.69,21.72,21.75,21.78,21.81,21.84,21.87,21.9,21.93,21.96,21.99,22.02,22.05,22.08,22.11,22.14,22.17,22.2,22.23,22.26,22.29,22.32,22.35,22.38,22.41,22.44,22.47,22.5,22.53,22.56,22.59,22.62,22.65,22.68,22.71,22.74,22.77,22.8,22.83,22.86,22.89,22.92,22.95,22.98,23.01,23.04,23.07,23.1,23.13,23.16,23.19,23.22,23.25,23.28,23.31,23.34,23.37,23.4,23.43,23.46,23.49,23.52,23.55,23.58,23.61,23.64,23.67,23.7,23.73,23.76,23.79,23.82,23.85,23.88,23.91,23.94,23.97,24.0,24.03,24.06,24.09,24.12,24.15,24.18,24.21,24.24,24.27,24.3,24.33,24.36,24.39,24.42,24.45,24.48,24.51,24.54,24.57,24.6,24.63,24.66,24.69,24.72,24.75,24.78,24.81,24.84,24.87,24.9,24.93,24.96,24.99,25.02,25.05,25.08,25.11,25.14,25.17,25.2,25.23,25.26,25.29,25.32,25.35,25.38,25.41,25.44,25.47,25.5,25.53,25.56,25.59,25.62,25.65,25.68,25.71,25.74,25.77,25.8,25.83,25.86,25.89,25.92,25.95,25.98,26.01,26.04,26.07,26.1,26.13,26.16,26.19,26.22,26.25,26.28,26.31,26.34,26.37,26.4,26.43,26.46,26.49,26.52,26.55,26.58,26.61,26.64,26.67,26.7,26.73,26.76,26.79,26.82,26.85,26.88,26.91,26.94,26.97,27.0,27.03,27.06,27.09,27.12,27.15,27.18,27.21,27.24,27.27,27.3,27.33,27.36,27.39,27.42,27.45,27.48,27.51,27.54,27.57,27.6,27.63,27.66,27.69,27.72,27.75,27.78,27.81,27.84,27.87,27.9,27.93,27.96,27.99,28.02,28.05,28.08,28.11,28.14,28.17,28.2,28.23,28.26,28.29,28.32,28.35,28.38,28.41,28.44,28.47,28.5,28.53,28.56,28.59,28.62,28.65,28.68,28.71,28.74,28.77,28.8,28.83,28.86,28.89,28.92,28.95,28.98,29.01,29.04,29.07,29.1,29.13,29.16,29.19,29.22,29.25,29.28,29.31,29.34,29.37,29.4,29.43,29.46,29.49,29.52,29.55,29.58,29.61,29.64,29.67,29.7,29.73,29.76,29.79,29.82,29.85,29.88,29.91,29.94,29.97,30.0,30.03,30.06,30.09,30.12,30.15,30.18,30.21,30.24,30.27,30.3,30.33,30.36,30.39,30.42,30.45,30.48,30.51,30.54,30.57,30.6,30.63,30.66,30.69,30.72,30.75,30.78,30.81,30.84,30.87,30.9,30.93,30.96,30.99,31.02,31.05,31.08,31.11,31.14,31.17,31.2,31.23,31.26,31.29,31.32,31.35,31.38,31.41,31.44,31.47,31.5,31.53,31.56,31.59,31.62,31.65,31.68,31.71,31.74,31.77,31.8,31.83,31.86,31.89,31.92,31.95,31.98,32.01,32.04,32.07,32.1,32.13,32.16,32.19,32.22,32.25,32.28,32.31,32.34,32.37,32.4,32.43,32.46,32.49,32.52,32.55,32.58,32.61,32.64,32.67,32.7,32.73,32.76,32.79,32.82,32.85,32.88,32.91,32.94,32.97,33.0,33.03,33.06,33.09,33.12,33.15,33.18,33.21,33.24,33.27,33.3,33.33,33.36,33.39,33.42,33.45,33.48,33.51,33.54,33.57,33.6,33.63,33.66,33.69,33.72,33.75,33.78,33.81,33.84,33.87,33.9,33.93,33.96,33.99,34.02,34.05,34.08,34.11,34.14,34.17,34.2,34.23,34.26,34.29,34.32,34.35,34.38,34.41,34.44,34.47,34.5,34.53,34.56,34.59,34.62,34.65,34.68,34.71,34.74,34.77,34.8,34.83,34.86,34.89,34.92,34.95,34.98,35.01,35.04,35.07,35.1,35.13,35.16,35.19,35.22,35.25,35.28,35.31,35.34,35.37,35.4,35.43,35.46,35.49,35.52,35.55,35.58,35.61,35.64,35.67,35.7,35.73,35.76,35.79,35.82,35.85,35.88,35.91,35.94,35.97,36.0,36.03,36.06,36.09,36.12,36.15,36.18,36.21,36.24,36.27,36.3,36.33,36.36,36.39,36.42,36.45,36.48,36.51,36.54,36.57,36.6,36.63,36.66,36.69,36.72,36.75,36.78,36.81,36.84,36.87,36.9,36.93,36.96,36.99,37.02,37.05,37.08,37.11,37.14,37.17,37.2,37.23,37.26,37.29,37.32,37.35,37.38,37.41,37.44,37.47,37.5,37.53,37.56,37.59,37.62,37.65,37.68,37.71,37.74,37.77,37.8,37.83,37.86,37.89,37.92,37.95,37.98,38.01,38.04,38.07,38.1,38.13,38.16,38.19,38.22,38.25,38.28,38.31,38.34,38.37,38.4,38.43,38.46,38.49,38.52,38.55,38.58,38.61,38.64,38.67,38.7,38.73,38.76,38.79,38.82,38.85,38.88,38.91,38.94,38.97,39.0,39.03,39.06,39.09,39.12,39.15,39.18,39.21,39.24,39.27,39.3,39.33,39.36,39.39,39.42,39.45,39.48,39.51,39.54,39.57,39.6,39.63,39.66,39.69,39.72,39.75,39.78,39.81,39.84,39.87,39.9,39.93,39.96,39.99,40.02,40.05,40.08,40.11,40.14,40.17,40.2,40.23,40.26,40.29,40.32,40.35,40.38,40.41,40.44,40.47,40.5,40.53,40.56,40.59,40.62,40.65,40.68,40.71,40.74,40.77,40.8,40.83,40.86,40.89,40.92,40.95,40.98,41.01,41.04,41.07,41.1,41.13,41.16,41.19,41.22,41.25,41.28,41.31,41.34,41.37,41.4,41.43,41.46,41.49,41.52,41.55,41.58,41.61,41.64,41.67,41.7,41.73,41.76,41.79,41.82,41.85,41.88,41.91,41.94,41.97,42.0,42.03,42.06,42.09,42.12,42.15,42.18,42.21,42.24,42.27,42.3,42.33,42.36,42.39,42.42,42.45,42.48,42.51,42.54,42.57,42.6,42.63,42.66,42.69,42.72,42.75,42.78,42.81,42.84,42.87,42.9,42.93,42.96,42.99,43.02,43.05,43.08,43.11,43.14,43.17,43.2,43.23,43.26,43.29,43.32,43.35,43.38,43.41,43.44,43.47,43.5,43.53,43.56,43.59,43.62,43.65,43.68,43.71,43.74,43.77,43.8,43.83,43.86,43.89,43.92,43.95,43.98,44.01,44.04,44.07,44.1,44.13,44.16,44.19,44.22,44.25,44.28,44.31,44.34,44.37,44.4,44.43,44.46,44.49,44.52,44.55,44.58,44.61,44.64,44.67,44.7,44.73,44.76,44.79,44.82,44.85,44.88,44.91,44.94,44.97,45.0,45.03,45.06,45.09,45.12,45.15,45.18,45.21,45.24,45.27,45.3,45.33,45.36,45.39,45.42,45.45,45.48,45.51,45.54,45.57,45.6,45.63,45.66,45.69,45.72,45.75,45.78,45.81,45.84,45.87,45.9,45.93,45.96,45.99,46.02,46.05,46.08,46.11,46.14,46.17,46.2,46.23,46.26,46.29,46.32,46.35,46.38,46.41,46.44,46.47,46.5,46.53,46.56,46.59,46.62,46.65,46.68,46.71,46.74,46.77,46.8],\"y\":[0.0002,0.0002,0.0002,0.0002,0.0002,0.0002,0.0002,0.0002,0.0002,0.0002,0.0002,0.0002,0.0002,0.0002,0.0002,0.0002,0.0002,0.0002,0.0002,0.0002,0.0002,0.0002,0.0002,0.0002,0.0002,0.0002,0.0002,0.00020001,0.00020002,0.00020003,0.00020004,0.00020006,0.00020008,0.0002001,0.00020014,0.00020018,0.00020022,0.00020027,0.00020034,0.00020041,0.0002005,0.0002006,0.00020071,0.00020085,0.000201,0.00020117,0.00020137,0.00020158,0.00020182,0.0002021,0.0002024,0.00020273,0.0002031,0.0002035,0.00020395,0.00020444,0.00020497,0.00020555,0.00020617,0.00020686,0.0002076,0.00020841,0.00020929,0.00021023,0.00021123,0.00021232,0.00021348,0.00021473,0.00021608,0.00021751,0.00021903,0.00022066,0.00022242,0.00022429,0.00022627,0.00022838,0.00023062,0.00023301,0.00023555,0.00023824,0.00024109,0.00024413,0.00024737,0.00025077,0.00025438,0.00025819,0.00026223,0.00026652,0.00027105,0.00027583,0.00028086,0.00028615,0.00029174,0.00029761,0.00030377,0.00031026,0.00031709,0.00032424,0.00033175,0.00033964,0.00034795,0.00035668,0.00036585,0.00037545,0.00038554,0.00039609,0.00040714,0.00041872,0.00043087,0.00044359,0.00045689,0.00047065,0.00048484,0.00049937,0.00051418,0.00052924,0.00054447,0.00055979,0.00057513,0.00059038,0.00060548,0.00062035,0.00063493,0.00064913,0.00066288,0.0006761,0.00068875,0.00070081,0.00071218,0.00072279,0.00073261,0.00073261,0.00073261,0.00073261,0.00073261,0.00073261,0.00073261,0.00073261,0.00073261,0.00073261,0.00073261,0.00073261,0.00073261,0.00073261,0.00073261,0.00073261,0.00073261,0.00073261,0.00073261,0.00073261,0.00073261,0.00076354,0.0007966,0.00083179,0.00086911,0.00090852,0.00095005,0.00099384,0.00104,0.0010887,0.0011401,0.0011944,0.0012518,0.0013123,0.001376,0.0014431,0.0015136,0.0015878,0.0016657,0.0017475,0.0018334,0.0019235,0.0020179,0.0021169,0.0022206,0.0023292,0.002443,0.0025621,0.0026868,0.0028171,0.0029534,0.0030959,0.0032448,0.0034004,0.0035627,0.0037323,0.0039093,0.0040939,0.0042864,0.0044873,0.0046969,0.0049155,0.0051435,0.0053814,0.0056293,0.005888,0.0061577,0.006439,0.0067323,0.0070382,0.0073573,0.0076901,0.0080375,0.0083997,0.0087776,0.009172,0.0095835,0.010013,0.010461,0.010929,0.011417,0.011927,0.012459,0.013016,0.013596,0.014203,0.014837,0.0155,0.016193,0.016917,0.017674,0.018466,0.019295,0.020162,0.021068,0.022017,0.02301,0.024049,0.025137,0.026277,0.027469,0.028718,0.030025,0.031394,0.032829,0.034332,0.035905,0.037555,0.039282,0.041093,0.04299,0.044932,0.046908,0.048908,0.050921,0.052938,0.054947,0.056938,0.058899,0.060822,0.062696,0.064512,0.066263,0.067942,0.069541,0.071054,0.072476,0.073801,0.075026,0.076147,0.077162,0.077162,0.077162,0.077162,0.077162,0.077162,0.077162,0.077162,0.077162,0.077162,0.077162,0.077162,0.077162,0.077162,0.077162,0.077162,0.077162,0.077162,0.077162,0.077162,0.077162,0.081167,0.085492,0.090146,0.095141,0.10049,0.10621,0.11233,0.11886,0.12583,0.13324,0.14113,0.14951,0.15839,0.16781,0.17779,0.18834,0.19949,0.21128,0.22371,0.23682,0.25062,0.26515,0.28042,0.29648,0.31334,0.33104,0.34961,0.36908,0.38948,0.41084,0.43321,0.45662,0.48111,0.50672,0.5335,0.56149,0.59073,0.62127,0.65316,0.68644,0.72119,0.75745,0.79529,0.83476,0.87594,0.91889,0.9637,1.0104,1.0592,1.11,1.1631,1.2184,1.2761,1.3362,1.399,1.4644,1.5327,1.604,1.6783,1.7559,1.8368,1.9213,2.0095,2.1015,2.1977,2.2981,2.403,2.5127,2.6273,2.7471,2.8723,3.0032,3.14,3.2832,3.433,3.5897,3.7537,3.9254,4.1052,4.2934,4.4906,4.6971,4.9134,5.14,5.3774,5.6262,5.8868,6.16,6.4463,6.7464,7.0525,7.3629,7.6759,7.9899,8.3034,8.6146,8.9222,9.2246,9.5204,9.8083,10.087,10.356,10.613,10.858,11.089,11.307,11.511,11.699,11.872,12.031,12.031,12.031,12.031,12.031,12.031,12.031,12.031,12.031,12.031,12.031,12.031,12.031,12.031,12.031,12.031,12.031,12.031,12.031,12.031,12.031,12.643,13.31,14.031,14.808,15.642,16.536,17.493,18.515,19.605,20.767,22.005,23.32,24.718,26.2,27.769,29.428,31.182,33.034,34.988,37.048,39.217,41.499,43.897,46.415,49.057,51.828,54.732,57.773,60.956,64.287,67.772,71.415,75.224,79.203,83.36,87.701,92.233,96.962,101.9,107.04,112.41,118.01,123.85,129.94,136.28,142.89,149.79,156.97,164.46,172.26,180.39,188.87,197.71,206.91,216.51,226.52,236.96,247.84,259.19,271.03,283.38,296.26,309.7,323.73,338.38,353.67,369.63,386.3,403.71,421.9,440.9,460.76,481.52,503.22,525.9,549.62,574.43,600.38,627.52,655.92,685.64,716.74,749.3,783.38,819.06,856.42,895.54,936.51,979.41,1024.4,1070.1,1116.5,1163.2,1210.0,1256.6,1302.9,1348.5,1393.2,1436.9,1479.3,1520.2,1559.5,1597.0,1632.6,1666.1,1697.4,1726.5,1753.4,1777.9,1800.0,1800.0,1800.0,1800.0,1800.0,1800.0,1800.0,1800.0,1800.0,1800.0,1800.0,1800.0,1800.0,1800.0,1800.0,1800.0,1800.0,1800.0,1800.0,1800.0,1800.0,1889.7,1986.8,2091.5,2203.9,2324.1,2452.7,2590.0,2736.5,2892.4,3058.4,3234.6,3421.7,3619.9,3829.8,4051.8,4286.3,4534.0,4795.3,5070.8,5360.8,5665.9,5986.6,6323.3,6676.6,7047.2,7435.6,7842.5,8268.6,8714.5,9180.9,9668.6,10178.0,10711.0,11267.0,11847.0,12452.0,13084.0,13742.0,14429.0,15144.0,15890.0,16667.0,17477.0,18320.0,19198.0,20113.0,21066.0,22058.0,23092.0,24168.0,25289.0,26456.0,27671.0,28937.0,30255.0,31628.0,33058.0,34548.0,36100.0,37718.0,39403.0,41159.0,42990.0,44899.0,46889.0,48965.0,51129.0,53388.0,55744.0,58203.0,60769.0,63448.0,66245.0,69165.0,72215.0,75401.0,78728.0,82204.0,85836.0,89631.0,93597.0,97743.0,102080.0,106610.0,111350.0,116300.0,121480.0,126900.0,132570.0,138500.0,144550.0,150690.0,156880.0,163100.0,169320.0,175490.0,181590.0,187580.0,193440.0,199130.0,204620.0,209900.0,214940.0,219720.0,224220.0,228430.0,232320.0,235890.0,239140.0,242050.0,242050.0,242050.0,242050.0,242050.0,242050.0,242050.0,242050.0,242050.0,242050.0,242050.0,242050.0,242050.0,242050.0,242050.0,242050.0,242050.0,242050.0,242050.0,242050.0,242050.0,254080.0,267070.0,281040.0,295970.0,311870.0,328790.0,346760.0,365870.0,386170.0,407730.0,430620.0,454890.0,480600.0,507820.0,536600.0,567000.0,599070.0,632870.0,668470.0,705930.0,745330.0,786720.0,830170.0,875770.0,923580.0,973690.0,1026200.0,1081200.0,1138700.0,1198900.0,1261900.0,1327700.0,1396400.0,1468200.0,1543200.0,1621400.0,1703000.0,1788000.0,1876800.0,1969300.0,2065700.0,2166200.0,2270900.0,2379900.0,2493500.0,2611800.0,2735000.0,2863300.0,2996900.0,3136000.0,3280900.0,3431800.0,3588900.0,3752500.0,3922900.0,4100400.0,4285200.0,4477800.0,4678300.0,4887200.0,5104800.0,5331400.0,5567600.0,5813800.0,6070400.0,6337800.0,6616700.0,6907400.0,7210600.0,7526900.0,7856900.0,8201300.0,8560700.0,8936000.0,9327900.0,9737100.0,10164000.0,10611000.0,11077000.0,11564000.0,12073000.0,12605000.0,13161000.0,13743000.0,14351000.0,14987000.0,15652000.0,16347000.0,17075000.0,17836000.0,18613000.0,19402000.0,20200000.0,21001000.0,21801000.0,22598000.0,23386000.0,24161000.0,24919000.0,25658000.0,26372000.0,27060000.0,27719000.0,28345000.0,28937000.0,29493000.0,30010000.0,30488000.0,30925000.0,31321000.0,31321000.0,31321000.0,31321000.0,31321000.0,31321000.0,31321000.0,31321000.0,31321000.0,31321000.0,31321000.0,31321000.0,31321000.0,31321000.0,31321000.0,31321000.0,31321000.0,31321000.0,31321000.0,31321000.0,31321000.0,32896000.0,34596000.0,36424000.0,38384000.0,40479000.0,42717000.0,45107000.0,47657000.0,50375000.0,53268000.0,56343000.0,59607000.0,63066000.0,66728000.0,70604000.0,74701000.0,79029000.0,83598000.0,88415000.0,93489000.0,98831000.0,104450000.0,110350000.0,116560000.0,123070000.0,129900000.0,137060000.0,144580000.0,152440000.0,160680000.0,169310000.0,178330000.0,187760000.0,197620000.0,207920000.0,218690000.0,229930000.0,241670000.0,253930000.0,266720000.0,280060000.0,293970000.0,308490000.0,323630000.0,339410000.0,355860000.0,373010000.0,390890000.0,409530000.0,428950000.0,449200000.0,470300000.0,492300000.0,515240000.0,539140000.0,564070000.0,590050000.0,617140000.0,645390000.0,674850000.0,705570000.0,737610000.0,771020000.0,805880000.0,842250000.0,880200000.0,919800000.0,961130000.0,1004300000.0,1049300000.0,1096300000.0,1145400000.0,1196700000.0,1250200000.0,1306100000.0,1364500000.0,1425500000.0,1489200000.0,1555800000.0,1625300000.0,1698000000.0,1773900000.0,1853300000.0,1936300000.0,2023000000.0,2113600000.0,2208300000.0,2307300000.0,2410700000.0,2518800000.0,2628700000.0,2739600000.0,2850900000.0,2962000000.0,3072200000.0,3180700000.0,3287100000.0,3390600000.0,3490800000.0,3587000000.0,3678800000.0,3765700000.0,3847200000.0,3923000000.0,3992700000.0,4056000000.0,4112800000.0,4162700000.0,4205800000.0,4241800000.0,4241800000.0,4241800000.0,4241800000.0,4241800000.0,4241800000.0,4241800000.0,4241800000.0,4241800000.0,4241800000.0,4241800000.0,4241800000.0,4241800000.0,4241800000.0,4241800000.0,4241800000.0,4241800000.0,4241800000.0,4241800000.0,4241800000.0,4241800000.0,4437100000.0,4647600000.0,4873400000.0,5114500000.0,5371000000.0,5643400000.0,5932000000.0,6237200000.0,6559300000.0,6898500000.0,7255300000.0,7630000000.0,8022800000.0,8433800000.0,8863200000.0,9311400000.0,9778600000.0,10265000000.0,10770000000.0,11294000000.0,11837000000.0,12400000000.0,12982000000.0,13582000000.0,14202000000.0,14840000000.0,15497000000.0,16173000000.0,16867000000.0,17579000000.0,18309000000.0,19057000000.0,19821000000.0,20602000000.0,21399000000.0,22212000000.0,23040000000.0,23882000000.0,24738000000.0,25606000000.0,26487000000.0,27379000000.0,28281000000.0,29192000000.0,30111000000.0,31038000000.0,31972000000.0,32910000000.0,33852000000.0,34798000000.0,35745000000.0,36691000000.0,37637000000.0,38580000000.0,39519000000.0,40453000000.0,41381000000.0,42300000000.0,43210000000.0,44109000000.0,44996000000.0,45869000000.0,46726000000.0,47567000000.0,48391000000.0,49194000000.0,49978000000.0,50739000000.0,51477000000.0,52191000000.0,52880000000.0,53542000000.0,54177000000.0,54783000000.0,55360000000.0,55906000000.0,56421000000.0,56905000000.0,57356000000.0,57774000000.0,58159000000.0,58511000000.0,58828000000.0,59112000000.0,59362000000.0,59579000000.0,59762000000.0,59911000000.0,60028000000.0,60112000000.0,60080000000.0,59933000000.0,59676000000.0,59316000000.0,58860000000.0,58317000000.0,57695000000.0,57006000000.0,56260000000.0,55467000000.0,54640000000.0,53790000000.0,52926000000.0,52062000000.0,51205000000.0,50366000000.0,49554000000.0,48776000000.0,48040000000.0,47353000000.0,47353000000.0,47353000000.0,47353000000.0,47353000000.0,47353000000.0,47353000000.0,47353000000.0,47353000000.0,47353000000.0,47353000000.0,47353000000.0,47353000000.0,47353000000.0,47353000000.0,47353000000.0,47353000000.0,47353000000.0,47353000000.0,47353000000.0,47353000000.0,46827000000.0,46319000000.0,45828000000.0,45352000000.0,44890000000.0,44441000000.0,44007000000.0,43587000000.0,43180000000.0,42787000000.0,42407000000.0,42040000000.0,41684000000.0,41340000000.0,41007000000.0,40685000000.0,40373000000.0,40072000000.0,39781000000.0,39499000000.0,39227000000.0,38964000000.0,38710000000.0,38465000000.0,38228000000.0,37999000000.0,37777000000.0,37563000000.0,37355000000.0,37155000000.0,36962000000.0,36775000000.0,36594000000.0,36420000000.0,36251000000.0,36088000000.0,35931000000.0,35779000000.0,35633000000.0,35492000000.0,35356000000.0,35225000000.0,35099000000.0,34978000000.0,34862000000.0,34750000000.0,34643000000.0,34540000000.0,34441000000.0,34347000000.0,34256000000.0,34170000000.0,34087000000.0,34009000000.0,33934000000.0,33862000000.0,33794000000.0,33729000000.0,33668000000.0,33609000000.0,33554000000.0,33501000000.0,33451000000.0,33404000000.0,33359000000.0,33317000000.0,33277000000.0,33239000000.0,33203000000.0,33169000000.0,33138000000.0,33108000000.0,33080000000.0,33053000000.0,33028000000.0,33005000000.0,32983000000.0,32963000000.0,32944000000.0,32926000000.0,32909000000.0,32894000000.0,32879000000.0,32866000000.0,32854000000.0,32842000000.0,32832000000.0,32823000000.0,32815000000.0,32808000000.0,32792000000.0,32768000000.0,32735000000.0,32693000000.0,32644000000.0,32587000000.0,32523000000.0,32452000000.0,32374000000.0,32290000000.0,32200000000.0,32105000000.0,32005000000.0,31901000000.0,31793000000.0,31683000000.0,31569000000.0,31454000000.0,31338000000.0,31221000000.0,31221000000.0,31221000000.0,31221000000.0,31221000000.0,31221000000.0,31221000000.0,31221000000.0,31221000000.0,31221000000.0,31221000000.0,31221000000.0,31221000000.0,31221000000.0,31221000000.0,31221000000.0,31221000000.0,31221000000.0,31221000000.0,31221000000.0,31221000000.0,31189000000.0,31163000000.0,31143000000.0,31127000000.0,31115000000.0,31107000000.0,31104000000.0,31105000000.0,31111000000.0,31122000000.0,31138000000.0,31158000000.0,31183000000.0,31212000000.0,31246000000.0,31285000000.0,31329000000.0,31377000000.0,31430000000.0,31487000000.0,31550000000.0,31616000000.0,31688000000.0,31763000000.0,31843000000.0,31927000000.0,32015000000.0,32107000000.0,32204000000.0,32304000000.0,32408000000.0,32516000000.0,32628000000.0,32743000000.0,32860000000.0,32982000000.0,33106000000.0,33233000000.0,33363000000.0,33496000000.0,33632000000.0,33770000000.0,33910000000.0,34053000000.0,34197000000.0,34344000000.0,34493000000.0,34644000000.0,34796000000.0,34951000000.0,35106000000.0,35263000000.0,35422000000.0,35582000000.0,35743000000.0,35905000000.0,36068000000.0,36233000000.0,36398000000.0,36565000000.0,36732000000.0,36899000000.0,37067000000.0,37236000000.0,37405000000.0,37574000000.0,37743000000.0,37912000000.0,38081000000.0,38249000000.0,38417000000.0,38584000000.0,38750000000.0,38915000000.0,39078000000.0,39241000000.0,39401000000.0,39560000000.0,39717000000.0,39871000000.0,40023000000.0,40172000000.0,40318000000.0,40461000000.0,40600000000.0,40736000000.0,40868000000.0,40996000000.0,41119000000.0,41238000000.0,41316000000.0,41353000000.0,41348000000.0,41302000000.0,41215000000.0,41089000000.0,40926000000.0,40727000000.0,40495000000.0,40233000000.0,39944000000.0,39632000000.0,39301000000.0,38954000000.0,38594000000.0,38227000000.0,37855000000.0,37483000000.0,37113000000.0,36748000000.0,36748000000.0,36748000000.0,36748000000.0,36748000000.0,36748000000.0,36748000000.0,36748000000.0,36748000000.0,36748000000.0,36748000000.0,36748000000.0,36748000000.0,36748000000.0,36748000000.0,36748000000.0,36748000000.0,36748000000.0,36748000000.0,36748000000.0,36748000000.0,36617000000.0,36496000000.0,36383000000.0,36277000000.0,36176000000.0,36080000000.0,35989000000.0,35903000000.0,35822000000.0,35745000000.0,35673000000.0,35605000000.0,35542000000.0,35482000000.0,35426000000.0,35373000000.0,35322000000.0,35274000000.0,35228000000.0,35183000000.0,35141000000.0,35100000000.0,35060000000.0,35022000000.0,34984000000.0,34946000000.0,34909000000.0,34872000000.0,34836000000.0,34799000000.0,34761000000.0,34724000000.0,34686000000.0,34647000000.0,34608000000.0,34568000000.0,34528000000.0,34488000000.0,34447000000.0,34406000000.0,34364000000.0,34321000000.0,34278000000.0,34234000000.0,34190000000.0,34145000000.0,34101000000.0,34056000000.0,34010000000.0,33964000000.0,33918000000.0,33872000000.0,33826000000.0,33780000000.0,33734000000.0,33688000000.0,33642000000.0,33596000000.0,33551000000.0,33506000000.0,33461000000.0,33417000000.0,33373000000.0,33331000000.0,33288000000.0,33247000000.0,33207000000.0,33167000000.0,33129000000.0,33091000000.0,33055000000.0,33020000000.0,32986000000.0,32954000000.0,32923000000.0,32894000000.0,32867000000.0,32842000000.0,32818000000.0,32796000000.0,32776000000.0,32758000000.0,32742000000.0,32728000000.0,32716000000.0,32706000000.0,32699000000.0,32694000000.0,32691000000.0,32690000000.0,32676000000.0,32649000000.0,32608000000.0,32555000000.0,32489000000.0,32411000000.0,32323000000.0,32225000000.0,32116000000.0,31999000000.0,31874000000.0,31741000000.0,31602000000.0,31458000000.0,31309000000.0,31158000000.0,31004000000.0,30848000000.0,30693000000.0,30538000000.0,30538000000.0,30538000000.0,30538000000.0,30538000000.0,30538000000.0,30538000000.0,30538000000.0,30538000000.0,30538000000.0,30538000000.0,30538000000.0,30538000000.0,30538000000.0,30538000000.0,30538000000.0,30538000000.0,30538000000.0,30538000000.0,30538000000.0,30538000000.0,30499000000.0,30466000000.0,30439000000.0,30416000000.0,30397000000.0,30381000000.0,30369000000.0,30361000000.0,30356000000.0,30355000000.0,30357000000.0,30363000000.0,30372000000.0,30384000000.0,30398000000.0,30415000000.0,30435000000.0,30458000000.0,30483000000.0,30511000000.0,30542000000.0,30574000000.0,30610000000.0,30647000000.0,30687000000.0,30728000000.0,30772000000.0,30817000000.0,30864000000.0,30914000000.0,30964000000.0,31017000000.0,31071000000.0,31127000000.0,31185000000.0,31244000000.0,31304000000.0,31367000000.0,31430000000.0,31496000000.0,31563000000.0,31631000000.0,31701000000.0,31773000000.0,31846000000.0,31920000000.0,31996000000.0,32074000000.0,32154000000.0,32235000000.0,32318000000.0,32403000000.0,32489000000.0,32577000000.0,32667000000.0,32759000000.0,32852000000.0,32947000000.0,33044000000.0,33143000000.0,33244000000.0,33346000000.0,33450000000.0,33557000000.0,33664000000.0,33774000000.0,33886000000.0,33999000000.0,34114000000.0,34231000000.0,34349000000.0,34469000000.0,34591000000.0,34714000000.0,34839000000.0,34966000000.0,35094000000.0,35223000000.0,35354000000.0,35485000000.0,35618000000.0,35752000000.0,35887000000.0,36023000000.0,36159000000.0,36297000000.0,36434000000.0,36572000000.0,36710000000.0,36849000000.0,36964000000.0,37055000000.0,37121000000.0,37160000000.0,37173000000.0,37158000000.0,37116000000.0,37047000000.0,36951000000.0,36830000000.0,36685000000.0,36517000000.0,36327000000.0,36119000000.0,35895000000.0,35656000000.0,35405000000.0,35145000000.0,34878000000.0,34607000000.0]},\"selected\":{\"id\":\"1044\",\"type\":\"Selection\"},\"selection_policy\":{\"id\":\"1045\",\"type\":\"UnionRenderers\"}},\"id\":\"1033\",\"type\":\"ColumnDataSource\"},{\"attributes\":{\"bottom_units\":\"screen\",\"fill_alpha\":{\"value\":0.5},\"fill_color\":{\"value\":\"lightgrey\"},\"left_units\":\"screen\",\"level\":\"overlay\",\"line_alpha\":{\"value\":1.0},\"line_color\":{\"value\":\"black\"},\"line_dash\":[4,4],\"line_width\":{\"value\":2},\"render_mode\":\"css\",\"right_units\":\"screen\",\"top_units\":\"screen\"},\"id\":\"1046\",\"type\":\"BoxAnnotation\"},{\"attributes\":{\"num_minor_ticks\":10},\"id\":\"1016\",\"type\":\"LogTicker\"},{\"attributes\":{\"dimension\":1,\"ticker\":{\"id\":\"1016\",\"type\":\"LogTicker\"}},\"id\":\"1019\",\"type\":\"Grid\"},{\"attributes\":{\"data_source\":{\"id\":\"1033\",\"type\":\"ColumnDataSource\"},\"glyph\":{\"id\":\"1034\",\"type\":\"Line\"},\"hover_glyph\":null,\"muted_glyph\":null,\"nonselection_glyph\":{\"id\":\"1035\",\"type\":\"Line\"},\"selection_glyph\":null,\"view\":{\"id\":\"1037\",\"type\":\"CDSView\"}},\"id\":\"1036\",\"type\":\"GlyphRenderer\"},{\"attributes\":{\"line_color\":\"#1f77b4\",\"line_width\":2,\"x\":{\"field\":\"x\"},\"y\":{\"field\":\"y\"}},\"id\":\"1034\",\"type\":\"Line\"},{\"attributes\":{\"text\":\"\"},\"id\":\"1038\",\"type\":\"Title\"},{\"attributes\":{\"line_alpha\":0.1,\"line_color\":\"#1f77b4\",\"line_width\":2,\"x\":{\"field\":\"x\"},\"y\":{\"field\":\"y\"}},\"id\":\"1035\",\"type\":\"Line\"},{\"attributes\":{\"axis_label\":\"Z (M)\",\"formatter\":{\"id\":\"1041\",\"type\":\"BasicTickFormatter\"},\"ticker\":{\"id\":\"1011\",\"type\":\"BasicTicker\"}},\"id\":\"1010\",\"type\":\"LinearAxis\"},{\"attributes\":{},\"id\":\"1020\",\"type\":\"PanTool\"},{\"attributes\":{},\"id\":\"1021\",\"type\":\"WheelZoomTool\"},{\"attributes\":{\"overlay\":{\"id\":\"1046\",\"type\":\"BoxAnnotation\"}},\"id\":\"1022\",\"type\":\"BoxZoomTool\"},{\"attributes\":{},\"id\":\"1023\",\"type\":\"SaveTool\"},{\"attributes\":{},\"id\":\"1024\",\"type\":\"ResetTool\"},{\"attributes\":{},\"id\":\"1025\",\"type\":\"HelpTool\"},{\"attributes\":{},\"id\":\"1041\",\"type\":\"BasicTickFormatter\"},{\"attributes\":{\"active_drag\":\"auto\",\"active_inspect\":\"auto\",\"active_multi\":null,\"active_scroll\":\"auto\",\"active_tap\":\"auto\",\"tools\":[{\"id\":\"1020\",\"type\":\"PanTool\"},{\"id\":\"1021\",\"type\":\"WheelZoomTool\"},{\"id\":\"1022\",\"type\":\"BoxZoomTool\"},{\"id\":\"1023\",\"type\":\"SaveTool\"},{\"id\":\"1024\",\"type\":\"ResetTool\"},{\"id\":\"1025\",\"type\":\"HelpTool\"}]},\"id\":\"1026\",\"type\":\"Toolbar\"},{\"attributes\":{\"callback\":null},\"id\":\"1002\",\"type\":\"DataRange1d\"},{\"attributes\":{\"source\":{\"id\":\"1033\",\"type\":\"ColumnDataSource\"}},\"id\":\"1037\",\"type\":\"CDSView\"},{\"attributes\":{\"callback\":null},\"id\":\"1004\",\"type\":\"DataRange1d\"},{\"attributes\":{},\"id\":\"1006\",\"type\":\"LinearScale\"}],\"root_ids\":[\"1001\"]},\"title\":\"Bokeh Application\",\"version\":\"1.2.0\"}};\n",
       "  var render_items = [{\"docid\":\"53a9e234-1eb6-4fc6-a5d4-bc8f5d620159\",\"roots\":{\"1001\":\"0c343aa9-0894-46df-9d74-39bf79a699de\"}}];\n",
       "  root.Bokeh.embed.embed_items_notebook(docs_json, render_items);\n",
       "\n",
       "  }\n",
       "  if (root.Bokeh !== undefined) {\n",
       "    embed_document(root);\n",
       "  } else {\n",
       "    var attempts = 0;\n",
       "    var timer = setInterval(function(root) {\n",
       "      if (root.Bokeh !== undefined) {\n",
       "        embed_document(root);\n",
       "        clearInterval(timer);\n",
       "      }\n",
       "      attempts++;\n",
       "      if (attempts > 100) {\n",
       "        console.log(\"Bokeh: ERROR: Unable to run BokehJS code because BokehJS library is missing\");\n",
       "        clearInterval(timer);\n",
       "      }\n",
       "    }, 10, root)\n",
       "  }\n",
       "})(window);"
      ],
      "application/vnd.bokehjs_exec.v0+json": ""
     },
     "metadata": {
      "application/vnd.bokehjs_exec.v0+json": {
       "id": "1001"
      }
     },
     "output_type": "display_data"
    }
   ],
   "source": [
    "# Test Bokeh plotting\n",
    "from bokeh.plotting import figure, output_file, show, output_notebook\n",
    "\n",
    "#output_file(\"line.html\")\n",
    "output_notebook(verbose=False, hide_banner=True)\n",
    "\n",
    "p = figure(plot_width=800, plot_height=400, y_axis_type='log')\n",
    "\n",
    "# add a line renderer\n",
    "p.line(zlist, mydat, line_width=2)\n",
    "\n",
    "p.xaxis.axis_label = 'Z (M)'\n",
    "p.yaxis.axis_label = 'power (W)'\n",
    "\n",
    "show(p)"
   ]
  },
  {
   "cell_type": "markdown",
   "metadata": {},
   "source": [
    "# Particle file"
   ]
  },
  {
   "cell_type": "code",
   "execution_count": 17,
   "metadata": {},
   "outputs": [],
   "source": [
    "%matplotlib inline\n",
    "\n",
    "import matplotlib.pyplot as plt\n",
    "plt.rcParams['figure.figsize'] = [8,8]\n",
    "import numpy as np\n",
    "import os\n",
    "import time"
   ]
  },
  {
   "cell_type": "code",
   "execution_count": 18,
   "metadata": {},
   "outputs": [
    {
     "data": {
      "text/plain": [
       "'/var/folders/wj/lfgr01993dx79p9cm_skykbw0000gn/T/tmptva5951f/genesis.out.par'"
      ]
     },
     "execution_count": 18,
     "metadata": {},
     "output_type": "execute_result"
    }
   ],
   "source": [
    "fname = G.path+'/genesis.out.par'\n",
    "fname"
   ]
  },
  {
   "cell_type": "code",
   "execution_count": 19,
   "metadata": {},
   "outputs": [
    {
     "data": {
      "text/plain": [
       "157"
      ]
     },
     "execution_count": 19,
     "metadata": {},
     "output_type": "execute_result"
    }
   ],
   "source": [
    "pdat = np.fromfile(fname, dtype=np.float).astype(float)\n",
    "npart = G.input['npart']\n",
    "nbunch = int(len(pdat)/6/npart)\n",
    "nbunch"
   ]
  },
  {
   "cell_type": "code",
   "execution_count": 20,
   "metadata": {},
   "outputs": [],
   "source": [
    "# gamma, phase, x, y, px/mc, py/mc\n",
    "b = pdat.reshape(nbunch,6,npart)"
   ]
  },
  {
   "cell_type": "code",
   "execution_count": 21,
   "metadata": {},
   "outputs": [
    {
     "data": {
      "text/plain": [
       "2048"
      ]
     },
     "execution_count": 21,
     "metadata": {},
     "output_type": "execute_result"
    }
   ],
   "source": [
    "len(b[0][2])"
   ]
  },
  {
   "cell_type": "code",
   "execution_count": 22,
   "metadata": {},
   "outputs": [
    {
     "data": {
      "image/png": "[encoded data removed]",
      "text/plain": [
       "<Figure size 432x288 with 1 Axes>"
      ]
     },
     "metadata": {
      "needs_background": "light"
     },
     "output_type": "display_data"
    }
   ],
   "source": [
    "p = b[-1]\n",
    "plt.hist2d(p[1]% (2*np.pi), 0.511*p[0], bins=[100,100], cmap=plt.get_cmap('plasma'))\n",
    "plt.xlabel('phase')\n",
    "plt.ylabel('energy (MeV)')\n",
    "plt.savefig('frame.png')\n",
    "plt.show()"
   ]
  },
  {
   "cell_type": "code",
   "execution_count": 23,
   "metadata": {},
   "outputs": [
    {
     "data": {
      "image/png": "[encoded data removed]",
      "text/plain": [
       "<Figure size 432x288 with 1 Axes>"
      ]
     },
     "metadata": {
      "needs_background": "light"
     },
     "output_type": "display_data"
    }
   ],
   "source": [
    "def frame(i, ):\n",
    "    p = b[i]\n",
    "    plt.hist2d(p[1]% (2*np.pi), 0.511*p[0], bins=[200,200], cmap=plt.get_cmap('plasma'))\n",
    "    plt.xlabel('phase')\n",
    "    plt.ylabel('energy (MeV)')\n",
    "    plt.savefig('frame_'+str(i)+'.png')\n",
    "    \n",
    "frame(100)"
   ]
  },
  {
   "cell_type": "code",
   "execution_count": null,
   "metadata": {},
   "outputs": [],
   "source": [
    "# Make frames\n",
    "for i in range(nbunch):\n",
    "    frame(i);"
   ]
  },
  {
   "cell_type": "code",
   "execution_count": null,
   "metadata": {},
   "outputs": [],
   "source": [
    "# Make movie\n",
    "!ffmpeg -framerate 10 -i frame_%d.png -c:v libx264 -c:a libfdk_aac output.mp4"
   ]
  }
 ],
 "metadata": {
  "kernelspec": {
   "display_name": "Python 3",
   "language": "python",
   "name": "python3"
  },
  "language_info": {
   "codemirror_mode": {
    "name": "ipython",
    "version": 3
   },
   "file_extension": ".py",
   "mimetype": "text/x-python",
   "name": "python",
   "nbconvert_exporter": "python",
   "pygments_lexer": "ipython3",
   "version": "3.7.3"
  }
 },
 "nbformat": 4,
 "nbformat_minor": 2
}
