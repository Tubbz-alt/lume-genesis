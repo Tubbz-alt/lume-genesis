{
 "cells": [
  {
   "cell_type": "code",
   "execution_count": 1,
   "metadata": {},
   "outputs": [],
   "source": [
    "from genesis import parsers"
   ]
  },
  {
   "cell_type": "code",
   "execution_count": 2,
   "metadata": {},
   "outputs": [
    {
     "data": {
      "text/plain": [
       "dict_keys(['param', 'data'])"
      ]
     },
     "execution_count": 2,
     "metadata": {},
     "output_type": "execute_result"
    }
   ],
   "source": [
    "fname = 'data/mod_3.out'\n",
    "\n",
    "# This parses the entier outfile\n",
    "gout = parsers.parse_genesis_out(fname)\n",
    "\n",
    "# This is a dict of:\n",
    "gout.keys()"
   ]
  },
  {
   "cell_type": "code",
   "execution_count": 3,
   "metadata": {},
   "outputs": [
    {
     "data": {
      "text/plain": [
       "['aw0',\n",
       " 'xkx',\n",
       " 'xky',\n",
       " 'wcoefz(1)',\n",
       " 'wcoefz(2)',\n",
       " 'wcoefz(3)',\n",
       " 'xlamd',\n",
       " 'fbess0',\n",
       " 'delaw',\n",
       " 'iertyp']"
      ]
     },
     "execution_count": 3,
     "metadata": {},
     "output_type": "execute_result"
    }
   ],
   "source": [
    "# param is the readback of the basic paramters:\n",
    "list(gout['param'])[0:10]"
   ]
  },
  {
   "cell_type": "code",
   "execution_count": 4,
   "metadata": {},
   "outputs": [
    {
     "name": "stdout",
     "output_type": "stream",
     "text": [
      "z (2,)\n",
      "aw (2,)\n",
      "qfld (2,)\n",
      "index (1,)\n",
      "current (1,)\n",
      "power (1, 2)\n",
      "p_mid (1, 2)\n",
      "phi_mid (1, 2)\n",
      "r_size (1, 2)\n",
      "energy (1, 2)\n",
      "bunching (1, 2)\n",
      "xrms (1, 2)\n",
      "yrms (1, 2)\n",
      "error (1, 2)\n",
      "e-spread (1, 2)\n"
     ]
    }
   ],
   "source": [
    "# Data contains the lattice readback arrays, slice data, and possibly field and particle data\n",
    "data = gout['data']\n",
    "for k in data:\n",
    "    print(k, data[k].shape)"
   ]
  },
  {
   "cell_type": "markdown",
   "metadata": {},
   "source": [
    "# Plotting"
   ]
  },
  {
   "cell_type": "code",
   "execution_count": 5,
   "metadata": {},
   "outputs": [],
   "source": [
    "import matplotlib.pyplot as plt\n",
    "%matplotlib inline\n",
    "plt.rcParams['figure.figsize'] = [8,8]"
   ]
  },
  {
   "cell_type": "code",
   "execution_count": 6,
   "metadata": {},
   "outputs": [
    {
     "data": {
      "image/png": "[encoded data removed]",
      "text/plain": [
       "<Figure size 576x576 with 2 Axes>"
      ]
     },
     "metadata": {
      "needs_background": "light"
     },
     "output_type": "display_data"
    }
   ],
   "source": [
    "x1 = gout['data']['z']\n",
    "x2 = gout['data']['z']\n",
    "\n",
    "y1 = gout['data']['aw']\n",
    "y2 = gout['data']['qfld']\n",
    "\n",
    "plt.subplot(2, 1, 1)\n",
    "plt.plot(x1, y1, 'o-')\n",
    "plt.title('Lattice')\n",
    "plt.ylabel('qw')\n",
    "\n",
    "plt.subplot(2, 1, 2)\n",
    "plt.plot(x2, y2, '.-')\n",
    "plt.xlabel('z (m)')\n",
    "plt.ylabel('qfld')\n",
    "\n",
    "plt.show()"
   ]
  },
  {
   "cell_type": "code",
   "execution_count": null,
   "metadata": {},
   "outputs": [],
   "source": []
  }
 ],
 "metadata": {
  "kernelspec": {
   "display_name": "Python 3",
   "language": "python",
   "name": "python3"
  },
  "language_info": {
   "codemirror_mode": {
    "name": "ipython",
    "version": 3
   },
   "file_extension": ".py",
   "mimetype": "text/x-python",
   "name": "python",
   "nbconvert_exporter": "python",
   "pygments_lexer": "ipython3",
   "version": "3.7.6"
  }
 },
 "nbformat": 4,
 "nbformat_minor": 4
}
