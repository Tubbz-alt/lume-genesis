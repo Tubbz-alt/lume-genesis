{
 "cells": [
  {
   "cell_type": "code",
   "execution_count": 1,
   "metadata": {},
   "outputs": [],
   "source": [
    "from genesis import parsers"
   ]
  },
  {
   "cell_type": "code",
   "execution_count": 7,
   "metadata": {},
   "outputs": [
    {
     "data": {
      "text/plain": [
       "dict_keys(['input_parameters', 'lattice', 'slice_data'])"
      ]
     },
     "execution_count": 7,
     "metadata": {},
     "output_type": "execute_result"
    }
   ],
   "source": [
    "#fname = '/Users/chrisonian/Code/genesis/work/genesis_run_RSgSDHDwZc/genesis.out'\n",
    "fname = 'data/mod_3.out'\n",
    "\n",
    "gout = parsers.parse_genesis_out(fname)\n",
    "# This provides the following data:\n",
    "gout.keys()"
   ]
  },
  {
   "cell_type": "code",
   "execution_count": 8,
   "metadata": {},
   "outputs": [
    {
     "data": {
      "text/plain": [
       "dict_keys(['z', 'aw', 'qfld'])"
      ]
     },
     "execution_count": 8,
     "metadata": {},
     "output_type": "execute_result"
    }
   ],
   "source": [
    "lat = gout['lattice']\n",
    "lat.keys()"
   ]
  },
  {
   "cell_type": "code",
   "execution_count": 9,
   "metadata": {},
   "outputs": [
    {
     "data": {
      "text/plain": [
       "{'index': 1,\n",
       " 'current': 4000.0,\n",
       " 'data': {'power': [150000000.0, 149980000.0],\n",
       "  'p_mid': [4518300.0, 3869400.0],\n",
       "  'phi_mid': [-0.24572, -0.47047],\n",
       "  'r_size': [5.1133e-06, 5.5474e-06],\n",
       "  'energy': [-0.0067706, -0.013538],\n",
       "  'bunching': [3.8532e-05, 0.00015425],\n",
       "  'xrms': [2.1502e-05, 2.1364e-05],\n",
       "  'yrms': [1.4894e-05, 1.4993e-05],\n",
       "  'error': [0.0, -9.2342],\n",
       "  'e-spread': [5.3311, 5.3306]}}"
      ]
     },
     "execution_count": 9,
     "metadata": {},
     "output_type": "execute_result"
    }
   ],
   "source": [
    "slices = gout['slice_data']\n",
    "slices[-1]"
   ]
  },
  {
   "cell_type": "markdown",
   "metadata": {},
   "source": [
    "# Plotting"
   ]
  },
  {
   "cell_type": "code",
   "execution_count": 10,
   "metadata": {},
   "outputs": [],
   "source": [
    "import matplotlib.pyplot as plt\n",
    "%matplotlib inline\n",
    "plt.rcParams['figure.figsize'] = [8,8]"
   ]
  },
  {
   "cell_type": "code",
   "execution_count": 11,
   "metadata": {},
   "outputs": [
    {
     "data": {
      "image/png": "[encoded data removed]",
      "text/plain": [
       "<Figure size 576x576 with 2 Axes>"
      ]
     },
     "metadata": {
      "needs_background": "light"
     },
     "output_type": "display_data"
    }
   ],
   "source": [
    "x1 = lat['z']\n",
    "x2 = lat['z']\n",
    "\n",
    "y1 = lat['aw']\n",
    "y2 = lat['qfld']\n",
    "\n",
    "plt.subplot(2, 1, 1)\n",
    "plt.plot(x1, y1, 'o-')\n",
    "plt.title('Lattice')\n",
    "plt.ylabel('qw')\n",
    "\n",
    "plt.subplot(2, 1, 2)\n",
    "plt.plot(x2, y2, '.-')\n",
    "plt.xlabel('z (m)')\n",
    "plt.ylabel('qfld')\n",
    "\n",
    "plt.show()"
   ]
  },
  {
   "cell_type": "code",
   "execution_count": null,
   "metadata": {},
   "outputs": [],
   "source": []
  }
 ],
 "metadata": {
  "kernelspec": {
   "display_name": "Python 3",
   "language": "python",
   "name": "python3"
  },
  "language_info": {
   "codemirror_mode": {
    "name": "ipython",
    "version": 3
   },
   "file_extension": ".py",
   "mimetype": "text/x-python",
   "name": "python",
   "nbconvert_exporter": "python",
   "pygments_lexer": "ipython3",
   "version": "3.7.3"
  }
 },
 "nbformat": 4,
 "nbformat_minor": 2
}
